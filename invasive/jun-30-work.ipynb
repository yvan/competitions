{
 "cells": [
  {
   "cell_type": "markdown",
   "metadata": {
    "deletable": true,
    "editable": true
   },
   "source": [
    "# setup "
   ]
  },
  {
   "cell_type": "markdown",
   "metadata": {
    "deletable": true,
    "editable": true
   },
   "source": [
    "what we're going to try to do, build an inception net\n",
    "\n",
    "make it 2 layers deeper than my deepest conv net\n",
    "\n",
    "throw it at some gpus, see waht happens, not sure\n",
    "\n",
    "if i should use a prebaked net with a ton of layers\n",
    "\n",
    "or do the above with a smaller net. tending towards\n",
    "\n",
    "using a smaller net that i understand and make myself"
   ]
  },
  {
   "cell_type": "code",
   "execution_count": 1,
   "metadata": {
    "collapsed": false,
    "deletable": true,
    "editable": true
   },
   "outputs": [
    {
     "data": {
      "text/plain": [
       "[name: \"/cpu:0\"\n",
       " device_type: \"CPU\"\n",
       " memory_limit: 268435456\n",
       " locality {\n",
       " }\n",
       " incarnation: 2041390264247880334, name: \"/gpu:0\"\n",
       " device_type: \"GPU\"\n",
       " memory_limit: 11332668621\n",
       " locality {\n",
       "   bus_id: 1\n",
       " }\n",
       " incarnation: 6892349312079939791\n",
       " physical_device_desc: \"device: 0, name: Tesla K80, pci bus id: 0000:04:00.0\"]"
      ]
     },
     "execution_count": 1,
     "metadata": {},
     "output_type": "execute_result"
    }
   ],
   "source": [
    "from tensorflow.python.client import device_lib\n",
    "device_lib.list_local_devices() "
   ]
  },
  {
   "cell_type": "code",
   "execution_count": 2,
   "metadata": {
    "collapsed": false,
    "deletable": true,
    "editable": true
   },
   "outputs": [
    {
     "name": "stderr",
     "output_type": "stream",
     "text": [
      "Using TensorFlow backend.\n"
     ]
    }
   ],
   "source": [
    "import numpy as np\n",
    "import pandas as pd\n",
    "import tensorflow as tf\n",
    "\n",
    "from scipy import ndimage\n",
    "from scipy import misc\n",
    "\n",
    "import os, gc, sys, glob\n",
    "from tqdm import tqdm\n",
    "\n",
    "from sklearn import model_selection\n",
    "from sklearn import metrics\n",
    "\n",
    "from keras import backend as K\n",
    "from keras import optimizers\n",
    "from keras.models import Sequential, Model\n",
    "from keras.layers import Dense, Dropout, Flatten, Input, Activation, AveragePooling2D, merge\n",
    "from keras.layers.normalization import BatchNormalization\n",
    "from keras.metrics import categorical_accuracy\n",
    "from keras.preprocessing.image import ImageDataGenerator\n",
    "\n",
    "from keras.layers import Input, GlobalAveragePooling2D, GlobalMaxPooling2D, concatenate\n",
    "from keras.layers.core import Flatten, Dense, Dropout, Lambda\n",
    "from keras.layers.convolutional import Convolution2D, MaxPooling2D, ZeroPadding2D\n",
    "\n",
    "from keras.applications.resnet50 import ResNet50\n",
    "from keras.applications.inception_v3 import InceptionV3\n",
    "\n",
    "from keras.callbacks import EarlyStopping, ModelCheckpoint"
   ]
  },
  {
   "cell_type": "code",
   "execution_count": 20,
   "metadata": {
    "collapsed": false,
    "deletable": true,
    "editable": true
   },
   "outputs": [
    {
     "name": "stdout",
     "output_type": "stream",
     "text": [
      "/scratch/yns207/data_invasive\n"
     ]
    }
   ],
   "source": [
    "DATA_DIR = os.path.join('/scratch', 'yns207', 'data_invasive')\n",
    "\n",
    "path = DATA_DIR\n",
    "test_path = os.path.join(path, 'test')\n",
    "models_path = os.path.join(path, 'results')\n",
    "train_path = os.path.join(path, 'train')\n",
    "valid_path = os.path.join(path, 'valid')\n",
    "model_name = 'model_jun30_kfold'\n",
    "print(path)"
   ]
  },
  {
   "cell_type": "markdown",
   "metadata": {
    "deletable": true,
    "editable": true
   },
   "source": [
    "```\n",
    "%cd $DATA_DIR\n",
    "!module load centos/7\n",
    "!7za x '*.7z'\n",
    "```"
   ]
  },
  {
   "cell_type": "markdown",
   "metadata": {
    "deletable": true,
    "editable": true
   },
   "source": [
    "# defining funcs"
   ]
  },
  {
   "cell_type": "code",
   "execution_count": 4,
   "metadata": {
    "collapsed": true,
    "deletable": true,
    "editable": true
   },
   "outputs": [],
   "source": [
    "#gpu parallelization code from https://github.com/fchollet/keras/issues/2436\n",
    "\n",
    "def slice_batch(x, n_gpus, part):\n",
    "\n",
    "    sh = K.shape(x)\n",
    "    L = sh[0] / n_gpus\n",
    "    if part == n_gpus - 1:\n",
    "        return x[part*L:]\n",
    "\n",
    "    return x[part*L:(part+1)*L]\n",
    "\n",
    "def to_multi_gpu(model, n_gpus=2):\n",
    "\n",
    "    with tf.device('/cpu:0'):\n",
    "        x = Input(model.input_shape[1:], name=model.input_names[0])\n",
    "\n",
    "    towers = []\n",
    "    for g in range(n_gpus):\n",
    "        with tf.device('/gpu:' + str(g)):\n",
    "            slice_g = Lambda(slice_batch, lambda shape: shape,\n",
    "    arguments={'n_gpus':n_gpus, 'part':g})(x)\n",
    "            towers.append(model(slice_g))\n",
    "\n",
    "        with tf.device('/cpu:0'):\n",
    "            merged = merge(towers, mode='concat', concat_axis=0)\n",
    "\n",
    "    return Model(input=[x], output=merged)"
   ]
  },
  {
   "cell_type": "code",
   "execution_count": 5,
   "metadata": {
    "collapsed": true,
    "deletable": true,
    "editable": true
   },
   "outputs": [],
   "source": [
    "def grab_optimizer(opt, lr):\n",
    "    if opt == 'sgd':\n",
    "        return optimizers.SGD(lr=lr, decay=1e-6, momentum=0.8, nesterov=True)\n",
    "    elif opt == 'adam':\n",
    "        return optimizers.Adam(lr=lr)\n",
    "    elif opt == 'adagrad':\n",
    "        return optimizers.Adagrad(lr=lr)\n",
    "    elif opt == 'rmsprop':\n",
    "        return optimizers.RMSprop(lr=lr)"
   ]
  },
  {
   "cell_type": "code",
   "execution_count": 6,
   "metadata": {
    "collapsed": true,
    "deletable": true,
    "editable": true
   },
   "outputs": [],
   "source": [
    "# this is not a naive inception module, it contains many 1x1 convs\n",
    "# to reduce dimensionality before the 3x3 and 5x5 convs\n",
    "def inception_block(filter_depth, inputs):\n",
    "    t1 = Convolution2D(filter_depth, (1, 1), padding='same', activation='relu',use_bias=False)(inputs)\n",
    "    tower_1 = Convolution2D(filter_depth, (3, 3), padding='same', activation='relu', use_bias=False)(t1)\n",
    "    tower_2 = Convolution2D(filter_depth, (5, 5), padding='same', activation='relu', use_bias=False)(t1)\n",
    "    tower_3 = AveragePooling2D((3, 3), strides=(1, 1), padding='same')(inputs)\n",
    "    tower_3 = Convolution2D(filter_depth, (1, 1), padding='same', activation='relu', use_bias=False)(tower_3)\n",
    "    return concatenate([tower_1, tower_2, tower_3], axis=3)"
   ]
  },
  {
   "cell_type": "code",
   "execution_count": 7,
   "metadata": {
    "collapsed": true,
    "deletable": true,
    "editable": true
   },
   "outputs": [],
   "source": [
    "def conv_block(filter_depth, filter_size, pool_size, activation, inputs):\n",
    "    x = BatchNormalization()(inputs)\n",
    "    x = Convolution2D(filter_depth, filter_size, activation=activation)(x)\n",
    "    x = MaxPooling2D(pool_size=pool_size)(x)\n",
    "    return x"
   ]
  },
  {
   "cell_type": "code",
   "execution_count": 8,
   "metadata": {
    "collapsed": true,
    "deletable": true,
    "editable": true
   },
   "outputs": [],
   "source": [
    "def dense_block(units, activation, drop_prob, inputs):\n",
    "    x = BatchNormalization()(inputs)\n",
    "    x = Dense(units, activation=activation)(x)\n",
    "    x = Dropout(drop_prob)(x)\n",
    "    return x"
   ]
  },
  {
   "cell_type": "code",
   "execution_count": 9,
   "metadata": {
    "collapsed": true,
    "deletable": true,
    "editable": true
   },
   "outputs": [],
   "source": [
    "#my attempt at making a resnet identity block, wont be making any conv block\n",
    "def resnet_block(filter_depth, filter_size, pool_size, activation, inputs):\n",
    "    x = BatchNormalization()(inputs)\n",
    "    x = Convolution2D(filter_depth, (1,1), activation=activation)(x)\n",
    "\n",
    "    x = BatchNormalization()(x)\n",
    "    x = Convolution2D(filter_depth, filter_size, activation=activation, padding='same')(x)\n",
    "    \n",
    "    x = BatchNormalization()(x)\n",
    "    x = Convolution2D(filter_depth, (1,1))(x)\n",
    "    \n",
    "    shortcut = Convolution2D(filter_depth, (1,1))(inputs)\n",
    "    shortcut = BatchNormalization()(shortcut)\n",
    "    \n",
    "    x = keras.layers.add([x, shortcut])\n",
    "    x = Activation('relu')(x)\n",
    "    return x"
   ]
  },
  {
   "cell_type": "code",
   "execution_count": 48,
   "metadata": {
    "collapsed": true,
    "deletable": true,
    "editable": true
   },
   "outputs": [],
   "source": [
    "def make_model(input_shape, optimizer):\n",
    "    inputs = Input(shape=input_shape)\n",
    "    \n",
    "    # convolution preproccesing\n",
    "    m = BatchNormalization()(inputs)\n",
    "    m = Convolution2D(16, (3, 3), strides=(2,2), padding='valid', activation='relu')(m)\n",
    "    m = MaxPooling2D((3, 3), strides=(2, 2))(m)\n",
    "    #inception blocks\n",
    "    m = BatchNormalization()(m)\n",
    "    m = inception_block(32, m)\n",
    "    m = inception_block(64, m)\n",
    "    m = inception_block(128, m)\n",
    "    m = inception_block(256, m)\n",
    "    m = GlobalAveragePooling2D()(m)\n",
    "    m = BatchNormalization()(m)\n",
    "    m = dense_block(1024, 'relu', 0.25, inputs=m)\n",
    "    m = dense_block(512, 'relu', 0.5, inputs=m)\n",
    "    outputs = dense_block(1, 'sigmoid', 0, inputs=m)\n",
    "    \n",
    "    model = Model(inputs=inputs, outputs=outputs)\n",
    "    model.compile(loss='binary_crossentropy', optimizer=optimizer, metrics=['accuracy'])\n",
    "    return model"
   ]
  },
  {
   "cell_type": "code",
   "execution_count": 11,
   "metadata": {
    "collapsed": true,
    "deletable": true,
    "editable": true
   },
   "outputs": [],
   "source": [
    "def make_preds(model, test_data):\n",
    "    # worth leaving a note:\n",
    "    # prediction 1,2,3 from jun21 had misalgined the test names\n",
    "    # also submission file 3 and 4 for jun21 are actually both rubmission 4 (accident)\n",
    "    preds = model.predict(test_data).flatten()\n",
    "    subm = test_set.copy()\n",
    "    subm['invasive'] = preds\n",
    "    return subm"
   ]
  },
  {
   "cell_type": "code",
   "execution_count": 12,
   "metadata": {
    "collapsed": true,
    "deletable": true,
    "editable": true
   },
   "outputs": [],
   "source": [
    "train_set = pd.read_csv(os.path.join(path, 'train_labels.csv'))\n",
    "test_set = pd.read_csv(os.path.join(path, 'sample_submission.csv'))"
   ]
  },
  {
   "cell_type": "code",
   "execution_count": 13,
   "metadata": {
    "collapsed": false,
    "deletable": true,
    "editable": true,
    "scrolled": true
   },
   "outputs": [
    {
     "data": {
      "text/html": [
       "<div>\n",
       "<style>\n",
       "    .dataframe thead tr:only-child th {\n",
       "        text-align: right;\n",
       "    }\n",
       "\n",
       "    .dataframe thead th {\n",
       "        text-align: left;\n",
       "    }\n",
       "\n",
       "    .dataframe tbody tr th {\n",
       "        vertical-align: top;\n",
       "    }\n",
       "</style>\n",
       "<table border=\"1\" class=\"dataframe\">\n",
       "  <thead>\n",
       "    <tr style=\"text-align: right;\">\n",
       "      <th></th>\n",
       "      <th>name</th>\n",
       "      <th>invasive</th>\n",
       "    </tr>\n",
       "  </thead>\n",
       "  <tbody>\n",
       "    <tr>\n",
       "      <th>0</th>\n",
       "      <td>1</td>\n",
       "      <td>0</td>\n",
       "    </tr>\n",
       "    <tr>\n",
       "      <th>1</th>\n",
       "      <td>2</td>\n",
       "      <td>0</td>\n",
       "    </tr>\n",
       "  </tbody>\n",
       "</table>\n",
       "</div>"
      ],
      "text/plain": [
       "   name  invasive\n",
       "0     1         0\n",
       "1     2         0"
      ]
     },
     "execution_count": 13,
     "metadata": {},
     "output_type": "execute_result"
    }
   ],
   "source": [
    "train_set.head(2)"
   ]
  },
  {
   "cell_type": "code",
   "execution_count": 14,
   "metadata": {
    "collapsed": true,
    "deletable": true,
    "editable": true
   },
   "outputs": [],
   "source": [
    "#img_shape should eb tuple\n",
    "#(H,W), height, width\n",
    "def read_img(img_path, img_shape):\n",
    "    img = misc.imread(img_path)\n",
    "    img = misc.imresize(img, img_shape)\n",
    "    return img"
   ]
  },
  {
   "cell_type": "code",
   "execution_count": 15,
   "metadata": {
    "collapsed": true,
    "deletable": true,
    "editable": true
   },
   "outputs": [],
   "source": [
    "def read_imgs(img_height, img_width):\n",
    "    train_img, test_img = [],[]\n",
    "    for img_path in tqdm(train_set['name'].iloc[:]):\n",
    "        train_img.append(read_img(os.path.join(path, 'train', str(img_path)+'.jpg'), (img_height, img_width)))\n",
    "\n",
    "    for img_path in tqdm(test_set['name'].iloc[:]):\n",
    "        test_img.append(read_img(os.path.join(path, 'test', str(img_path)+'.jpg'), (img_height, img_width)))\n",
    "\n",
    "    train_img = np.array(train_img, np.float32)/255\n",
    "    test_img = np.array(test_img, np.float32)/255\n",
    "    train_label = np.array(train_set['invasive'].iloc[:])\n",
    "    \n",
    "    return train_img, test_img, train_label"
   ]
  },
  {
   "cell_type": "code",
   "execution_count": 16,
   "metadata": {
    "collapsed": false,
    "deletable": true,
    "editable": true
   },
   "outputs": [
    {
     "name": "stderr",
     "output_type": "stream",
     "text": [
      "100%|██████████| 2295/2295 [02:53<00:00, 15.29it/s]\n",
      "100%|██████████| 1531/1531 [01:53<00:00, 14.73it/s]\n"
     ]
    }
   ],
   "source": [
    "train_img, test_img, train_label = read_imgs(400,600)"
   ]
  },
  {
   "cell_type": "code",
   "execution_count": 17,
   "metadata": {
    "collapsed": false,
    "deletable": true,
    "editable": true
   },
   "outputs": [
    {
     "data": {
      "image/png": "[encoded data removed]",
      "text/plain": [
       "<matplotlib.figure.Figure at 0x2b88ad9869b0>"
      ]
     },
     "metadata": {},
     "output_type": "display_data"
    }
   ],
   "source": [
    "import matplotlib.pyplot as plt\n",
    "plt.imshow(train_img[256])\n",
    "plt.show()"
   ]
  },
  {
   "cell_type": "code",
   "execution_count": 18,
   "metadata": {
    "collapsed": true,
    "deletable": true,
    "editable": true
   },
   "outputs": [],
   "source": [
    "def train_model_k_folds(model, train_data, train_label, model_out,  model_init_weights, epochs, kfolds):\n",
    "    batch_size = 32\n",
    "    kf = model_selection.KFold(n_splits=kfolds, shuffle=True)\n",
    "    score_func = metrics.roc_auc_score\n",
    "\n",
    "    i = 0\n",
    "    models_stats = {}\n",
    "    for train_ixs, valid_ixs in kf.split(train_data):\n",
    "        x_train = train_data[train_ixs]\n",
    "        x_valid = train_data[valid_ixs]\n",
    "        y_train = train_label[train_ixs]\n",
    "        y_valid = train_label[valid_ixs]\n",
    "\n",
    "        gen = ImageDataGenerator(\n",
    "            rotation_range = 30,\n",
    "            width_shift_range = 0.2,\n",
    "            height_shift_range = 0.2,\n",
    "            shear_range = 0.2,\n",
    "            zoom_range = 0.2,\n",
    "            horizontal_flip = True,\n",
    "            vertical_flip = True,\n",
    "            fill_mode = 'nearest')\n",
    "        \n",
    "        #re-initialzie the weights of the model on each run\n",
    "        model.load_weights(model_init_weights)\n",
    "        model_out_file = '/scratch/yns207/data_invasive/{}_{}.model'.format(model_out, str(i))\n",
    "        model_checkpoint = ModelCheckpoint(model_out_file, \n",
    "                                            monitor='val_loss', \n",
    "                                            save_best_only=True)\n",
    "        early_stopping = EarlyStopping(monitor='val_loss', patience=25, verbose=1, mode='auto')\n",
    "\n",
    "        hist = model.fit_generator(gen.flow(x_train, y_train, batch_size=batch_size),\n",
    "                            steps_per_epoch=(len(x_train)//batch_size)+1,\n",
    "                            validation_data=(x_valid,y_valid),\n",
    "                            validation_steps=(len(x_valid)//batch_size)+1,\n",
    "                            epochs=epochs,\n",
    "                            verbose=1,\n",
    "                            callbacks=[early_stopping, model_checkpoint])\n",
    "        \n",
    "        model.load_weights(model_out_file)\n",
    "        \n",
    "        eval_tr = model.evaluate(x_train, y_train)\n",
    "        eval_va = model.evaluate(x_valid, y_valid)\n",
    "        \n",
    "        tr_score = score_func(y_train, model.predict(x_train)[:, 0])\n",
    "        va_score = score_func(y_valid, model.predict(x_valid)[:, 0])\n",
    "        \n",
    "        print('\\n')\n",
    "        print('kfold: {}'.format(str(i)))\n",
    "        print('best model train acc: {}, loss: {}'.format(eval_tr[1], eval_tr[0]))\n",
    "        print('best model valid acc: {}, loss: {}'.format(eval_va[1], eval_va[0]))\n",
    "        print('best model train aroc score: {}, valid aroc score: {}'.format(tr_score, va_score))\n",
    "        print('\\n')\n",
    "        models_stats[model_out_file] = {'score_tr_va':[tr_score, va_score], 'train_acc_loss':[eval_tr[1], eval_tr[0]], 'val_acc_loss':[eval_va[1], eval_va[0]]}\n",
    "        i += 1\n",
    "        \n",
    "        with open(os.path.join(models_path,'{}_{}.out'.format(model_out,'history')), 'a') as f:\n",
    "            f.write('kfold: {}'.format(str(i)))\n",
    "            f.write('best model train acc: {}, loss: {}'.format(eval_tr[1], eval_tr[0]))\n",
    "            f.write('best model valid acc: {}, loss: {}'.format(eval_va[1], eval_va[0]))\n",
    "            f.write('best model train aroc score: {}, valid aroc score: {}'.format(tr_score, va_score))\n",
    "            f.write('\\n')\n",
    "    \n",
    "    return models_stats"
   ]
  },
  {
   "cell_type": "markdown",
   "metadata": {
    "deletable": true,
    "editable": true
   },
   "source": [
    "# so what's dif this time?\n",
    "\n",
    "1 - inception modules, this is an inception net\n",
    "\n",
    "2 - deeper, ive added extra layers with the same filter depth at 128 and 512 to increase semantic complexity\n",
    "\n",
    "3 - bigger images, 400 x 600 instead of 300 x 400\n",
    "\n",
    "4 - 2 gpus. (Still dont have, cant get above parallelization code to work)\n",
    "\n",
    "5 - faster lr\n",
    "\n",
    "6 - 25 rounds of optimization"
   ]
  },
  {
   "cell_type": "code",
   "execution_count": 49,
   "metadata": {
    "collapsed": false,
    "deletable": true,
    "editable": true
   },
   "outputs": [
    {
     "name": "stdout",
     "output_type": "stream",
     "text": [
      "____________________________________________________________________________________________________\n",
      "Layer (type)                     Output Shape          Param #     Connected to                     \n",
      "====================================================================================================\n",
      "input_10 (InputLayer)            (None, 400, 600, 3)   0                                            \n",
      "____________________________________________________________________________________________________\n",
      "batch_normalization_53 (BatchNor (None, 400, 600, 3)   12          input_10[0][0]                   \n",
      "____________________________________________________________________________________________________\n",
      "conv2d_122 (Conv2D)              (None, 199, 299, 16)  448         batch_normalization_53[0][0]     \n",
      "____________________________________________________________________________________________________\n",
      "max_pooling2d_10 (MaxPooling2D)  (None, 99, 149, 16)   0           conv2d_122[0][0]                 \n",
      "____________________________________________________________________________________________________\n",
      "batch_normalization_54 (BatchNor (None, 99, 149, 16)   64          max_pooling2d_10[0][0]           \n",
      "____________________________________________________________________________________________________\n",
      "conv2d_123 (Conv2D)              (None, 99, 149, 32)   512         batch_normalization_54[0][0]     \n",
      "____________________________________________________________________________________________________\n",
      "average_pooling2d_28 (AveragePoo (None, 99, 149, 16)   0           batch_normalization_54[0][0]     \n",
      "____________________________________________________________________________________________________\n",
      "conv2d_124 (Conv2D)              (None, 99, 149, 32)   9216        conv2d_123[0][0]                 \n",
      "____________________________________________________________________________________________________\n",
      "conv2d_125 (Conv2D)              (None, 99, 149, 32)   25600       conv2d_123[0][0]                 \n",
      "____________________________________________________________________________________________________\n",
      "conv2d_126 (Conv2D)              (None, 99, 149, 32)   512         average_pooling2d_28[0][0]       \n",
      "____________________________________________________________________________________________________\n",
      "concatenate_28 (Concatenate)     (None, 99, 149, 96)   0           conv2d_124[0][0]                 \n",
      "                                                                   conv2d_125[0][0]                 \n",
      "                                                                   conv2d_126[0][0]                 \n",
      "____________________________________________________________________________________________________\n",
      "conv2d_127 (Conv2D)              (None, 99, 149, 64)   6144        concatenate_28[0][0]             \n",
      "____________________________________________________________________________________________________\n",
      "average_pooling2d_29 (AveragePoo (None, 99, 149, 96)   0           concatenate_28[0][0]             \n",
      "____________________________________________________________________________________________________\n",
      "conv2d_128 (Conv2D)              (None, 99, 149, 64)   36864       conv2d_127[0][0]                 \n",
      "____________________________________________________________________________________________________\n",
      "conv2d_129 (Conv2D)              (None, 99, 149, 64)   102400      conv2d_127[0][0]                 \n",
      "____________________________________________________________________________________________________\n",
      "conv2d_130 (Conv2D)              (None, 99, 149, 64)   6144        average_pooling2d_29[0][0]       \n",
      "____________________________________________________________________________________________________\n",
      "concatenate_29 (Concatenate)     (None, 99, 149, 192)  0           conv2d_128[0][0]                 \n",
      "                                                                   conv2d_129[0][0]                 \n",
      "                                                                   conv2d_130[0][0]                 \n",
      "____________________________________________________________________________________________________\n",
      "conv2d_131 (Conv2D)              (None, 99, 149, 128)  24576       concatenate_29[0][0]             \n",
      "____________________________________________________________________________________________________\n",
      "average_pooling2d_30 (AveragePoo (None, 99, 149, 192)  0           concatenate_29[0][0]             \n",
      "____________________________________________________________________________________________________\n",
      "conv2d_132 (Conv2D)              (None, 99, 149, 128)  147456      conv2d_131[0][0]                 \n",
      "____________________________________________________________________________________________________\n",
      "conv2d_133 (Conv2D)              (None, 99, 149, 128)  409600      conv2d_131[0][0]                 \n",
      "____________________________________________________________________________________________________\n",
      "conv2d_134 (Conv2D)              (None, 99, 149, 128)  24576       average_pooling2d_30[0][0]       \n",
      "____________________________________________________________________________________________________\n",
      "concatenate_30 (Concatenate)     (None, 99, 149, 384)  0           conv2d_132[0][0]                 \n",
      "                                                                   conv2d_133[0][0]                 \n",
      "                                                                   conv2d_134[0][0]                 \n",
      "____________________________________________________________________________________________________\n",
      "conv2d_135 (Conv2D)              (None, 99, 149, 256)  98304       concatenate_30[0][0]             \n",
      "____________________________________________________________________________________________________\n",
      "average_pooling2d_31 (AveragePoo (None, 99, 149, 384)  0           concatenate_30[0][0]             \n",
      "____________________________________________________________________________________________________\n",
      "conv2d_136 (Conv2D)              (None, 99, 149, 256)  589824      conv2d_135[0][0]                 \n",
      "____________________________________________________________________________________________________\n",
      "conv2d_137 (Conv2D)              (None, 99, 149, 256)  1638400     conv2d_135[0][0]                 \n",
      "____________________________________________________________________________________________________\n",
      "conv2d_138 (Conv2D)              (None, 99, 149, 256)  98304       average_pooling2d_31[0][0]       \n",
      "____________________________________________________________________________________________________\n",
      "concatenate_31 (Concatenate)     (None, 99, 149, 768)  0           conv2d_136[0][0]                 \n",
      "                                                                   conv2d_137[0][0]                 \n",
      "                                                                   conv2d_138[0][0]                 \n",
      "____________________________________________________________________________________________________\n",
      "global_average_pooling2d_10 (Glo (None, 768)           0           concatenate_31[0][0]             \n",
      "____________________________________________________________________________________________________\n",
      "batch_normalization_55 (BatchNor (None, 768)           3072        global_average_pooling2d_10[0][0]\n",
      "____________________________________________________________________________________________________\n",
      "batch_normalization_56 (BatchNor (None, 768)           3072        batch_normalization_55[0][0]     \n",
      "____________________________________________________________________________________________________\n",
      "dense_28 (Dense)                 (None, 1024)          787456      batch_normalization_56[0][0]     \n",
      "____________________________________________________________________________________________________\n",
      "dropout_28 (Dropout)             (None, 1024)          0           dense_28[0][0]                   \n",
      "____________________________________________________________________________________________________\n",
      "batch_normalization_57 (BatchNor (None, 1024)          4096        dropout_28[0][0]                 \n",
      "____________________________________________________________________________________________________\n",
      "dense_29 (Dense)                 (None, 512)           524800      batch_normalization_57[0][0]     \n",
      "____________________________________________________________________________________________________\n",
      "dropout_29 (Dropout)             (None, 512)           0           dense_29[0][0]                   \n",
      "____________________________________________________________________________________________________\n",
      "batch_normalization_58 (BatchNor (None, 512)           2048        dropout_29[0][0]                 \n",
      "____________________________________________________________________________________________________\n",
      "dense_30 (Dense)                 (None, 1)             513         batch_normalization_58[0][0]     \n",
      "____________________________________________________________________________________________________\n",
      "dropout_30 (Dropout)             (None, 1)             0           dense_30[0][0]                   \n",
      "====================================================================================================\n",
      "Total params: 4,544,013\n",
      "Trainable params: 4,537,831\n",
      "Non-trainable params: 6,182\n",
      "____________________________________________________________________________________________________\n"
     ]
    }
   ],
   "source": [
    "model = make_model((400,600,3), grab_optimizer('adam', 0.0025))\n",
    "model.summary()"
   ]
  },
  {
   "cell_type": "code",
   "execution_count": 50,
   "metadata": {
    "collapsed": false,
    "deletable": true,
    "editable": true
   },
   "outputs": [
    {
     "name": "stdout",
     "output_type": "stream",
     "text": [
      "/scratch/yns207/data_invasive\n",
      "Epoch 1/75\n",
      "48/48 [==============================] - 347s - loss: 0.7144 - acc: 0.6452 - val_loss: 1.1260 - val_acc: 0.6523\n",
      "Epoch 2/75\n",
      "48/48 [==============================] - 312s - loss: 0.6088 - acc: 0.7076 - val_loss: 1.0218 - val_acc: 0.3725\n",
      "Epoch 3/75\n",
      "48/48 [==============================] - 318s - loss: 0.5886 - acc: 0.7049 - val_loss: 0.7242 - val_acc: 0.5634\n",
      "Epoch 4/75\n",
      "48/48 [==============================] - 338s - loss: 0.5433 - acc: 0.7370 - val_loss: 1.1703 - val_acc: 0.5490\n",
      "Epoch 5/75\n",
      "48/48 [==============================] - 343s - loss: 0.5372 - acc: 0.7517 - val_loss: 1.1688 - val_acc: 0.4915\n",
      "Epoch 6/75\n",
      "48/48 [==============================] - 332s - loss: 0.5048 - acc: 0.7641 - val_loss: 0.8242 - val_acc: 0.6170\n",
      "Epoch 7/75\n",
      "48/48 [==============================] - 330s - loss: 0.4394 - acc: 0.7979 - val_loss: 1.7465 - val_acc: 0.3490\n",
      "Epoch 8/75\n",
      "48/48 [==============================] - 340s - loss: 0.3555 - acc: 0.8466 - val_loss: 2.9446 - val_acc: 0.3830\n",
      "Epoch 9/75\n",
      "48/48 [==============================] - 347s - loss: 0.3177 - acc: 0.8693 - val_loss: 3.2896 - val_acc: 0.4405\n",
      "Epoch 10/75\n",
      "48/48 [==============================] - 340s - loss: 0.2891 - acc: 0.8837 - val_loss: 6.8090 - val_acc: 0.3490\n",
      "Epoch 11/75\n",
      "48/48 [==============================] - 334s - loss: 0.2943 - acc: 0.8843 - val_loss: 1.3100 - val_acc: 0.6902\n",
      "Epoch 12/75\n",
      "48/48 [==============================] - 329s - loss: 0.2735 - acc: 0.8936 - val_loss: 1.5343 - val_acc: 0.4562\n",
      "Epoch 13/75\n",
      "48/48 [==============================] - 329s - loss: 0.2969 - acc: 0.8851 - val_loss: 0.8146 - val_acc: 0.7137\n",
      "Epoch 14/75\n",
      "48/48 [==============================] - 328s - loss: 0.2669 - acc: 0.8998 - val_loss: 0.8663 - val_acc: 0.7242\n",
      "Epoch 15/75\n",
      "48/48 [==============================] - 295s - loss: 0.2765 - acc: 0.9009 - val_loss: 0.9293 - val_acc: 0.4758\n",
      "Epoch 16/75\n",
      "48/48 [==============================] - 328s - loss: 0.2550 - acc: 0.9043 - val_loss: 1.2128 - val_acc: 0.5020\n",
      "Epoch 17/75\n",
      "48/48 [==============================] - 339s - loss: 0.2387 - acc: 0.9110 - val_loss: 0.2518 - val_acc: 0.9137\n",
      "Epoch 18/75\n",
      "48/48 [==============================] - 334s - loss: 0.2297 - acc: 0.9067 - val_loss: 0.2416 - val_acc: 0.9033\n",
      "Epoch 19/75\n",
      "48/48 [==============================] - 335s - loss: 0.2620 - acc: 0.8954 - val_loss: 0.2763 - val_acc: 0.8889\n",
      "Epoch 20/75\n",
      "48/48 [==============================] - 338s - loss: 0.2199 - acc: 0.9196 - val_loss: 0.3252 - val_acc: 0.8824\n",
      "Epoch 21/75\n",
      "48/48 [==============================] - 345s - loss: 0.2303 - acc: 0.9179 - val_loss: 0.2331 - val_acc: 0.9059\n",
      "Epoch 22/75\n",
      "48/48 [==============================] - 337s - loss: 0.2722 - acc: 0.8998 - val_loss: 0.1985 - val_acc: 0.9229\n",
      "Epoch 23/75\n",
      "48/48 [==============================] - 341s - loss: 0.2452 - acc: 0.9026 - val_loss: 0.3349 - val_acc: 0.8575\n",
      "Epoch 24/75\n",
      "48/48 [==============================] - 327s - loss: 0.2408 - acc: 0.9048 - val_loss: 0.3003 - val_acc: 0.8889\n",
      "Epoch 25/75\n",
      "48/48 [==============================] - 333s - loss: 0.2169 - acc: 0.9204 - val_loss: 0.2579 - val_acc: 0.8771\n",
      "Epoch 26/75\n",
      "48/48 [==============================] - 329s - loss: 0.2372 - acc: 0.9172 - val_loss: 0.2471 - val_acc: 0.9059\n",
      "Epoch 27/75\n",
      "48/48 [==============================] - 326s - loss: 0.2327 - acc: 0.9092 - val_loss: 0.1826 - val_acc: 0.9307\n",
      "Epoch 28/75\n",
      "48/48 [==============================] - 294s - loss: 0.2151 - acc: 0.9211 - val_loss: 0.2478 - val_acc: 0.8967\n",
      "Epoch 29/75\n",
      "48/48 [==============================] - 312s - loss: 0.2084 - acc: 0.9165 - val_loss: 1.7905 - val_acc: 0.4784\n",
      "Epoch 30/75\n",
      "48/48 [==============================] - 340s - loss: 0.2011 - acc: 0.9211 - val_loss: 0.5810 - val_acc: 0.8222\n",
      "Epoch 31/75\n",
      "48/48 [==============================] - 323s - loss: 0.2299 - acc: 0.9177 - val_loss: 0.1851 - val_acc: 0.9373\n",
      "Epoch 32/75\n",
      "48/48 [==============================] - 287s - loss: 0.1901 - acc: 0.9335 - val_loss: 0.2379 - val_acc: 0.9203\n",
      "Epoch 33/75\n",
      "48/48 [==============================] - 294s - loss: 0.2159 - acc: 0.9211 - val_loss: 0.1721 - val_acc: 0.9346\n",
      "Epoch 34/75\n",
      "48/48 [==============================] - 294s - loss: 0.2042 - acc: 0.9217 - val_loss: 0.1824 - val_acc: 0.9268\n",
      "Epoch 35/75\n",
      "48/48 [==============================] - 312s - loss: 0.2278 - acc: 0.9154 - val_loss: 0.1930 - val_acc: 0.9216\n",
      "Epoch 36/75\n",
      "48/48 [==============================] - 323s - loss: 0.1971 - acc: 0.9183 - val_loss: 0.1517 - val_acc: 0.9412\n",
      "Epoch 37/75\n",
      "48/48 [==============================] - 318s - loss: 0.1962 - acc: 0.9346 - val_loss: 0.1544 - val_acc: 0.9477\n",
      "Epoch 38/75\n",
      "48/48 [==============================] - 344s - loss: 0.2213 - acc: 0.9159 - val_loss: 0.4608 - val_acc: 0.7608\n",
      "Epoch 39/75\n",
      "48/48 [==============================] - 324s - loss: 0.1906 - acc: 0.9297 - val_loss: 0.1614 - val_acc: 0.9412\n",
      "Epoch 40/75\n",
      "48/48 [==============================] - 324s - loss: 0.2001 - acc: 0.9248 - val_loss: 0.1478 - val_acc: 0.9451\n",
      "Epoch 41/75\n",
      "48/48 [==============================] - 343s - loss: 0.2239 - acc: 0.9146 - val_loss: 0.2125 - val_acc: 0.9163\n",
      "Epoch 42/75\n",
      "48/48 [==============================] - 338s - loss: 0.2121 - acc: 0.9195 - val_loss: 0.2693 - val_acc: 0.9020\n",
      "Epoch 43/75\n",
      "48/48 [==============================] - 339s - loss: 0.2015 - acc: 0.9273 - val_loss: 0.4371 - val_acc: 0.8471\n",
      "Epoch 44/75\n",
      "48/48 [==============================] - 347s - loss: 0.1993 - acc: 0.9323 - val_loss: 0.3660 - val_acc: 0.8771\n",
      "Epoch 45/75\n",
      "48/48 [==============================] - 347s - loss: 0.1751 - acc: 0.9354 - val_loss: 0.9463 - val_acc: 0.7268\n",
      "Epoch 46/75\n",
      "48/48 [==============================] - 337s - loss: 0.2040 - acc: 0.9263 - val_loss: 0.6623 - val_acc: 0.7712\n",
      "Epoch 47/75\n",
      "48/48 [==============================] - 333s - loss: 0.2079 - acc: 0.9264 - val_loss: 0.3553 - val_acc: 0.8706\n",
      "Epoch 48/75\n",
      "48/48 [==============================] - 339s - loss: 0.2001 - acc: 0.9232 - val_loss: 0.1902 - val_acc: 0.9229\n",
      "Epoch 49/75\n",
      "48/48 [==============================] - 335s - loss: 0.1806 - acc: 0.9334 - val_loss: 0.2769 - val_acc: 0.9046\n",
      "Epoch 50/75\n",
      "48/48 [==============================] - 342s - loss: 0.1912 - acc: 0.9294 - val_loss: 0.1925 - val_acc: 0.9229\n",
      "Epoch 51/75\n",
      "48/48 [==============================] - 342s - loss: 0.1855 - acc: 0.9355 - val_loss: 0.2032 - val_acc: 0.9242\n",
      "Epoch 52/75\n",
      "48/48 [==============================] - 337s - loss: 0.1696 - acc: 0.9339 - val_loss: 0.4050 - val_acc: 0.8562\n",
      "Epoch 53/75\n",
      "48/48 [==============================] - 331s - loss: 0.1750 - acc: 0.9359 - val_loss: 0.3630 - val_acc: 0.8601\n",
      "Epoch 54/75\n",
      "48/48 [==============================] - 327s - loss: 0.1750 - acc: 0.9393 - val_loss: 0.1856 - val_acc: 0.9216\n",
      "Epoch 55/75\n",
      "48/48 [==============================] - 326s - loss: 0.1851 - acc: 0.9299 - val_loss: 0.2220 - val_acc: 0.9281\n",
      "Epoch 56/75\n",
      "48/48 [==============================] - 339s - loss: 0.1677 - acc: 0.9349 - val_loss: 0.5416 - val_acc: 0.8405\n",
      "Epoch 57/75\n",
      "48/48 [==============================] - 346s - loss: 0.1857 - acc: 0.9232 - val_loss: 10.4561 - val_acc: 0.3490\n",
      "Epoch 58/75\n",
      "48/48 [==============================] - 325s - loss: 0.1735 - acc: 0.9331 - val_loss: 0.1687 - val_acc: 0.9386\n",
      "Epoch 59/75\n",
      "48/48 [==============================] - 330s - loss: 0.1626 - acc: 0.9454 - val_loss: 10.4926 - val_acc: 0.3490\n",
      "Epoch 60/75\n",
      "48/48 [==============================] - 330s - loss: 0.1752 - acc: 0.9393 - val_loss: 4.8036 - val_acc: 0.4418\n",
      "Epoch 61/75\n",
      "48/48 [==============================] - 345s - loss: 0.1708 - acc: 0.9360 - val_loss: 0.1789 - val_acc: 0.9438\n",
      "Epoch 62/75\n",
      "48/48 [==============================] - 319s - loss: 0.1535 - acc: 0.9462 - val_loss: 0.3289 - val_acc: 0.9059\n",
      "Epoch 63/75\n",
      "48/48 [==============================] - 322s - loss: 0.1793 - acc: 0.9339 - val_loss: 0.1994 - val_acc: 0.9333\n",
      "Epoch 64/75\n",
      "48/48 [==============================] - 332s - loss: 0.1760 - acc: 0.9373 - val_loss: 9.4841 - val_acc: 0.3712\n",
      "Epoch 65/75\n",
      "48/48 [==============================] - 337s - loss: 0.1764 - acc: 0.9325 - val_loss: 0.2077 - val_acc: 0.9137\n",
      "Epoch 66/75\n",
      "48/48 [==============================] - 345s - loss: 0.1932 - acc: 0.9284 - val_loss: 1.1088 - val_acc: 0.7098\n",
      "Epoch 00065: early stopping\n",
      "1530/1530 [==============================] - 62s    \n",
      "765/765 [==============================] - 36s    \n",
      "\n",
      "\n",
      "kfold: 0\n",
      "best model train acc: 0.9483660130718954, loss: 0.13949879830569223\n",
      "best model valid acc: 0.945098037813224, loss: 0.14782204121546028\n",
      "best model train aroc score: 0.9862758620689656, valid aroc score: 0.9852368274596514\n",
      "\n",
      "\n",
      "Epoch 1/75\n",
      "48/48 [==============================] - 335s - loss: 0.8182 - acc: 0.5995 - val_loss: 1.4731 - val_acc: 0.6301\n",
      "Epoch 2/75\n",
      "48/48 [==============================] - 299s - loss: 0.6672 - acc: 0.6541 - val_loss: 0.8648 - val_acc: 0.5294\n",
      "Epoch 3/75\n",
      "48/48 [==============================] - 302s - loss: 0.5852 - acc: 0.6962 - val_loss: 1.1332 - val_acc: 0.3791\n",
      "Epoch 4/75\n",
      "48/48 [==============================] - 309s - loss: 0.5038 - acc: 0.7491 - val_loss: 0.5079 - val_acc: 0.7307\n",
      "Epoch 5/75\n",
      "48/48 [==============================] - 299s - loss: 0.4949 - acc: 0.7717 - val_loss: 2.8296 - val_acc: 0.3948\n",
      "Epoch 6/75\n",
      "48/48 [==============================] - 282s - loss: 0.4711 - acc: 0.7637 - val_loss: 0.5134 - val_acc: 0.7765\n",
      "Epoch 7/75\n",
      "48/48 [==============================] - 306s - loss: 0.4735 - acc: 0.7720 - val_loss: 5.8976 - val_acc: 0.6301\n",
      "Epoch 8/75\n",
      "48/48 [==============================] - 314s - loss: 0.4191 - acc: 0.8046 - val_loss: 0.4297 - val_acc: 0.7686\n",
      "Epoch 9/75\n",
      "48/48 [==============================] - 310s - loss: 0.4032 - acc: 0.8248 - val_loss: 0.9337 - val_acc: 0.5242\n",
      "Epoch 10/75\n",
      "48/48 [==============================] - 312s - loss: 0.3706 - acc: 0.8306 - val_loss: 0.8905 - val_acc: 0.5020\n",
      "Epoch 11/75\n",
      "48/48 [==============================] - 311s - loss: 0.3815 - acc: 0.8228 - val_loss: 0.8006 - val_acc: 0.6013\n",
      "Epoch 12/75\n",
      "48/48 [==============================] - 304s - loss: 0.3751 - acc: 0.8287 - val_loss: 0.3696 - val_acc: 0.8340\n",
      "Epoch 13/75\n",
      "48/48 [==============================] - 309s - loss: 0.3547 - acc: 0.8381 - val_loss: 1.8250 - val_acc: 0.4170\n",
      "Epoch 14/75\n",
      "48/48 [==============================] - 306s - loss: 0.3473 - acc: 0.8529 - val_loss: 0.5741 - val_acc: 0.7333\n",
      "Epoch 15/75\n",
      "48/48 [==============================] - 258s - loss: 0.3058 - acc: 0.8734 - val_loss: 0.9004 - val_acc: 0.5503\n",
      "Epoch 16/75\n",
      "48/48 [==============================] - 262s - loss: 0.3077 - acc: 0.8716 - val_loss: 1.2384 - val_acc: 0.4261\n",
      "Epoch 17/75\n",
      "48/48 [==============================] - 301s - loss: 0.3400 - acc: 0.8549 - val_loss: 0.3688 - val_acc: 0.8065\n",
      "Epoch 18/75\n",
      "48/48 [==============================] - 271s - loss: 0.3012 - acc: 0.8645 - val_loss: 0.4395 - val_acc: 0.7869\n",
      "Epoch 19/75\n",
      "48/48 [==============================] - 253s - loss: 0.2819 - acc: 0.8757 - val_loss: 0.5792 - val_acc: 0.7007\n",
      "Epoch 20/75\n",
      "48/48 [==============================] - 305s - loss: 0.2942 - acc: 0.8905 - val_loss: 1.0567 - val_acc: 0.6314\n",
      "Epoch 21/75\n",
      "48/48 [==============================] - 300s - loss: 0.2627 - acc: 0.8881 - val_loss: 0.3433 - val_acc: 0.8614\n",
      "Epoch 22/75\n",
      "48/48 [==============================] - 298s - loss: 0.2969 - acc: 0.8820 - val_loss: 0.5675 - val_acc: 0.6301\n",
      "Epoch 23/75\n",
      "48/48 [==============================] - 255s - loss: 0.2458 - acc: 0.8993 - val_loss: 0.4543 - val_acc: 0.8183\n",
      "Epoch 24/75\n",
      "48/48 [==============================] - 259s - loss: 0.3035 - acc: 0.8687 - val_loss: 1.0732 - val_acc: 0.6301\n",
      "Epoch 25/75\n",
      "48/48 [==============================] - 272s - loss: 0.2736 - acc: 0.8835 - val_loss: 0.5253 - val_acc: 0.7464\n",
      "Epoch 26/75\n",
      "48/48 [==============================] - 264s - loss: 0.2621 - acc: 0.8955 - val_loss: 0.3100 - val_acc: 0.8824\n",
      "Epoch 27/75\n",
      "48/48 [==============================] - 267s - loss: 0.2303 - acc: 0.9068 - val_loss: 1.1035 - val_acc: 0.6301\n",
      "Epoch 28/75\n",
      "48/48 [==============================] - 262s - loss: 0.2487 - acc: 0.8988 - val_loss: 0.4321 - val_acc: 0.7359\n",
      "Epoch 29/75\n",
      "48/48 [==============================] - 262s - loss: 0.2414 - acc: 0.9027 - val_loss: 0.8936 - val_acc: 0.6301\n",
      "Epoch 30/75\n",
      "48/48 [==============================] - 271s - loss: 0.2570 - acc: 0.8980 - val_loss: 0.6713 - val_acc: 0.6405\n",
      "Epoch 31/75\n",
      "48/48 [==============================] - 255s - loss: 0.2359 - acc: 0.9073 - val_loss: 0.3703 - val_acc: 0.8340\n",
      "Epoch 32/75\n",
      "48/48 [==============================] - 266s - loss: 0.2372 - acc: 0.9122 - val_loss: 0.2079 - val_acc: 0.9255\n",
      "Epoch 33/75\n",
      "48/48 [==============================] - 254s - loss: 0.2268 - acc: 0.9113 - val_loss: 0.3422 - val_acc: 0.8732\n",
      "Epoch 34/75\n",
      "48/48 [==============================] - 270s - loss: 0.2535 - acc: 0.8985 - val_loss: 0.2928 - val_acc: 0.9033\n",
      "Epoch 35/75\n",
      "48/48 [==============================] - 262s - loss: 0.2128 - acc: 0.9107 - val_loss: 0.3663 - val_acc: 0.8588\n",
      "Epoch 36/75\n",
      "48/48 [==============================] - 264s - loss: 0.1830 - acc: 0.9313 - val_loss: 0.5006 - val_acc: 0.8418\n",
      "Epoch 37/75\n",
      "48/48 [==============================] - 264s - loss: 0.2099 - acc: 0.9182 - val_loss: 0.5047 - val_acc: 0.7895\n",
      "Epoch 38/75\n",
      "48/48 [==============================] - 254s - loss: 0.2137 - acc: 0.9130 - val_loss: 0.2200 - val_acc: 0.9137\n",
      "Epoch 39/75\n",
      "48/48 [==============================] - 261s - loss: 0.2156 - acc: 0.9110 - val_loss: 0.2942 - val_acc: 0.8693\n",
      "Epoch 40/75\n",
      "48/48 [==============================] - 249s - loss: 0.1960 - acc: 0.9284 - val_loss: 0.2319 - val_acc: 0.9124\n",
      "Epoch 41/75\n",
      "48/48 [==============================] - 263s - loss: 0.1921 - acc: 0.9263 - val_loss: 0.2734 - val_acc: 0.8915\n",
      "Epoch 42/75\n",
      "48/48 [==============================] - 256s - loss: 0.2342 - acc: 0.9118 - val_loss: 0.4317 - val_acc: 0.7098\n",
      "Epoch 43/75\n",
      "48/48 [==============================] - 250s - loss: 0.1988 - acc: 0.9284 - val_loss: 0.3399 - val_acc: 0.8876\n",
      "Epoch 44/75\n",
      "48/48 [==============================] - 255s - loss: 0.1964 - acc: 0.9281 - val_loss: 0.5173 - val_acc: 0.6497\n",
      "Epoch 45/75\n",
      "48/48 [==============================] - 260s - loss: 0.2198 - acc: 0.9144 - val_loss: 0.2030 - val_acc: 0.9386\n",
      "Epoch 46/75\n",
      "48/48 [==============================] - 254s - loss: 0.1843 - acc: 0.9284 - val_loss: 0.8004 - val_acc: 0.6510\n",
      "Epoch 47/75\n",
      "48/48 [==============================] - 261s - loss: 0.1957 - acc: 0.9256 - val_loss: 0.3575 - val_acc: 0.8588\n",
      "Epoch 48/75\n",
      "48/48 [==============================] - 256s - loss: 0.1735 - acc: 0.9308 - val_loss: 0.8098 - val_acc: 0.7320\n",
      "Epoch 49/75\n",
      "48/48 [==============================] - 254s - loss: 0.2021 - acc: 0.9186 - val_loss: 0.4710 - val_acc: 0.8797\n",
      "Epoch 50/75\n",
      "48/48 [==============================] - 254s - loss: 0.1712 - acc: 0.9358 - val_loss: 0.2223 - val_acc: 0.9124\n",
      "Epoch 51/75\n",
      "48/48 [==============================] - 266s - loss: 0.2038 - acc: 0.9208 - val_loss: 0.1942 - val_acc: 0.9320\n",
      "Epoch 52/75\n",
      "48/48 [==============================] - 275s - loss: 0.1921 - acc: 0.9204 - val_loss: 0.2172 - val_acc: 0.9190\n",
      "Epoch 53/75\n",
      "48/48 [==============================] - 255s - loss: 0.1776 - acc: 0.9320 - val_loss: 1.3116 - val_acc: 0.7556\n",
      "Epoch 54/75\n",
      "48/48 [==============================] - 252s - loss: 0.1761 - acc: 0.9342 - val_loss: 0.5689 - val_acc: 0.8732\n",
      "Epoch 55/75\n",
      "48/48 [==============================] - 273s - loss: 0.1796 - acc: 0.9379 - val_loss: 0.1625 - val_acc: 0.9333\n",
      "Epoch 56/75\n",
      "48/48 [==============================] - 262s - loss: 0.1962 - acc: 0.9237 - val_loss: 0.1804 - val_acc: 0.9373\n",
      "Epoch 57/75\n",
      "48/48 [==============================] - 283s - loss: 0.1738 - acc: 0.9326 - val_loss: 0.9089 - val_acc: 0.6484\n",
      "Epoch 58/75\n",
      "48/48 [==============================] - 252s - loss: 0.1908 - acc: 0.9287 - val_loss: 0.3436 - val_acc: 0.9085\n",
      "Epoch 59/75\n",
      "48/48 [==============================] - 282s - loss: 0.1652 - acc: 0.9393 - val_loss: 0.7670 - val_acc: 0.7725\n",
      "Epoch 60/75\n",
      "48/48 [==============================] - 257s - loss: 0.2119 - acc: 0.9235 - val_loss: 1.6892 - val_acc: 0.6275\n",
      "Epoch 61/75\n",
      "48/48 [==============================] - 265s - loss: 0.1781 - acc: 0.9295 - val_loss: 0.1824 - val_acc: 0.9346\n",
      "Epoch 62/75\n",
      "48/48 [==============================] - 279s - loss: 0.1827 - acc: 0.9317 - val_loss: 0.4396 - val_acc: 0.8536\n",
      "Epoch 63/75\n",
      "48/48 [==============================] - 304s - loss: 0.1777 - acc: 0.9307 - val_loss: 0.2391 - val_acc: 0.8915\n",
      "Epoch 64/75\n",
      "48/48 [==============================] - 276s - loss: 0.1819 - acc: 0.9290 - val_loss: 0.1447 - val_acc: 0.9477\n",
      "Epoch 65/75\n",
      "48/48 [==============================] - 264s - loss: 0.1642 - acc: 0.9393 - val_loss: 0.4737 - val_acc: 0.8614\n",
      "Epoch 66/75\n",
      "48/48 [==============================] - 258s - loss: 0.1605 - acc: 0.9380 - val_loss: 0.1774 - val_acc: 0.9451\n",
      "Epoch 67/75\n",
      "48/48 [==============================] - 269s - loss: 0.1795 - acc: 0.9269 - val_loss: 0.1875 - val_acc: 0.9150\n",
      "Epoch 68/75\n",
      "48/48 [==============================] - 252s - loss: 0.1858 - acc: 0.9282 - val_loss: 0.3120 - val_acc: 0.8000\n",
      "Epoch 69/75\n",
      "48/48 [==============================] - 277s - loss: 0.1761 - acc: 0.9325 - val_loss: 0.5932 - val_acc: 0.6431\n",
      "Epoch 70/75\n",
      "48/48 [==============================] - 256s - loss: 0.1458 - acc: 0.9427 - val_loss: 0.6573 - val_acc: 0.6876\n",
      "Epoch 71/75\n",
      "48/48 [==============================] - 273s - loss: 0.1474 - acc: 0.9372 - val_loss: 0.3741 - val_acc: 0.8954\n",
      "Epoch 72/75\n",
      "48/48 [==============================] - 265s - loss: 0.1595 - acc: 0.9408 - val_loss: 0.1821 - val_acc: 0.9386\n",
      "Epoch 73/75\n",
      "48/48 [==============================] - 253s - loss: 0.1815 - acc: 0.9336 - val_loss: 0.3185 - val_acc: 0.8889\n",
      "Epoch 74/75\n",
      "48/48 [==============================] - 274s - loss: 0.1494 - acc: 0.9365 - val_loss: 0.4585 - val_acc: 0.7556\n",
      "Epoch 75/75\n",
      "48/48 [==============================] - 257s - loss: 0.1485 - acc: 0.9392 - val_loss: 0.4532 - val_acc: 0.7686\n",
      "1530/1530 [==============================] - 63s    \n",
      "765/765 [==============================] - 31s    \n",
      "\n",
      "\n",
      "kfold: 1\n",
      "best model train acc: 0.9725490201532451, loss: 0.10770460848325218\n",
      "best model valid acc: 0.9477124175994225, loss: 0.14474385589166405\n",
      "best model train aroc score: 0.9963657988634862, valid aroc score: 0.9856237995396097\n",
      "\n",
      "\n",
      "Epoch 1/75\n",
      "48/48 [==============================] - 320s - loss: 0.8136 - acc: 0.5862 - val_loss: 1.2442 - val_acc: 0.3882\n",
      "Epoch 2/75\n",
      "48/48 [==============================] - 264s - loss: 0.7099 - acc: 0.6077 - val_loss: 1.0972 - val_acc: 0.3856\n",
      "Epoch 3/75\n",
      "48/48 [==============================] - 304s - loss: 0.6387 - acc: 0.6819 - val_loss: 1.6667 - val_acc: 0.4288\n",
      "Epoch 4/75\n",
      "48/48 [==============================] - 308s - loss: 0.6045 - acc: 0.7138 - val_loss: 0.6745 - val_acc: 0.6261\n",
      "Epoch 5/75\n",
      "48/48 [==============================] - 310s - loss: 0.5878 - acc: 0.6992 - val_loss: 0.6708 - val_acc: 0.6471\n",
      "Epoch 6/75\n",
      "48/48 [==============================] - 297s - loss: 0.5721 - acc: 0.7093 - val_loss: 0.5244 - val_acc: 0.7294\n",
      "Epoch 7/75\n",
      "48/48 [==============================] - 274s - loss: 0.5381 - acc: 0.7482 - val_loss: 0.6559 - val_acc: 0.6248\n",
      "Epoch 8/75\n",
      "48/48 [==============================] - 286s - loss: 0.5017 - acc: 0.7518 - val_loss: 0.5670 - val_acc: 0.7137\n",
      "Epoch 9/75\n",
      "48/48 [==============================] - 250s - loss: 0.4594 - acc: 0.7701 - val_loss: 0.6105 - val_acc: 0.7752\n",
      "Epoch 10/75\n",
      "48/48 [==============================] - 287s - loss: 0.4295 - acc: 0.8017 - val_loss: 1.5137 - val_acc: 0.3882\n",
      "Epoch 11/75\n",
      "48/48 [==============================] - 261s - loss: 0.4201 - acc: 0.8028 - val_loss: 1.0726 - val_acc: 0.3935\n",
      "Epoch 12/75\n",
      "48/48 [==============================] - 268s - loss: 0.3693 - acc: 0.8363 - val_loss: 1.2358 - val_acc: 0.3908\n",
      "Epoch 13/75\n",
      "48/48 [==============================] - 266s - loss: 0.3968 - acc: 0.8162 - val_loss: 3.2435 - val_acc: 0.3882\n",
      "Epoch 14/75\n",
      "48/48 [==============================] - 261s - loss: 0.3320 - acc: 0.8417 - val_loss: 2.6549 - val_acc: 0.3882\n",
      "Epoch 15/75\n",
      "48/48 [==============================] - 291s - loss: 0.3249 - acc: 0.8602 - val_loss: 1.8141 - val_acc: 0.3908\n",
      "Epoch 16/75\n",
      "48/48 [==============================] - 324s - loss: 0.3199 - acc: 0.8648 - val_loss: 1.7113 - val_acc: 0.4196\n",
      "Epoch 17/75\n",
      "48/48 [==============================] - 310s - loss: 0.3062 - acc: 0.8752 - val_loss: 0.9070 - val_acc: 0.5595\n",
      "Epoch 18/75\n",
      "48/48 [==============================] - 294s - loss: 0.3023 - acc: 0.8703 - val_loss: 1.4339 - val_acc: 0.5124\n",
      "Epoch 19/75\n",
      "48/48 [==============================] - 314s - loss: 0.2888 - acc: 0.8793 - val_loss: 0.9916 - val_acc: 0.5346\n",
      "Epoch 20/75\n",
      "48/48 [==============================] - 310s - loss: 0.2817 - acc: 0.8897 - val_loss: 0.9311 - val_acc: 0.5595\n",
      "Epoch 21/75\n",
      "48/48 [==============================] - 291s - loss: 0.2866 - acc: 0.8783 - val_loss: 0.3987 - val_acc: 0.8301\n",
      "Epoch 22/75\n",
      "48/48 [==============================] - 304s - loss: 0.2618 - acc: 0.8981 - val_loss: 0.3415 - val_acc: 0.9111\n",
      "Epoch 23/75\n",
      "48/48 [==============================] - 287s - loss: 0.2435 - acc: 0.8980 - val_loss: 0.2731 - val_acc: 0.8902\n",
      "Epoch 24/75\n",
      "48/48 [==============================] - 255s - loss: 0.2608 - acc: 0.8985 - val_loss: 0.2829 - val_acc: 0.9033\n",
      "Epoch 25/75\n",
      "48/48 [==============================] - 263s - loss: 0.2569 - acc: 0.8946 - val_loss: 0.5112 - val_acc: 0.6131\n",
      "Epoch 26/75\n",
      "48/48 [==============================] - 261s - loss: 0.2544 - acc: 0.9002 - val_loss: 0.7753 - val_acc: 0.6131\n",
      "Epoch 27/75\n",
      "48/48 [==============================] - 314s - loss: 0.2768 - acc: 0.8837 - val_loss: 0.5679 - val_acc: 0.6379\n",
      "Epoch 28/75\n",
      "48/48 [==============================] - 276s - loss: 0.2498 - acc: 0.9032 - val_loss: 1.5906 - val_acc: 0.6118\n",
      "Epoch 29/75\n",
      "48/48 [==============================] - 255s - loss: 0.2557 - acc: 0.8959 - val_loss: 0.8761 - val_acc: 0.6170\n",
      "Epoch 30/75\n",
      "48/48 [==============================] - 298s - loss: 0.2375 - acc: 0.9139 - val_loss: 0.7771 - val_acc: 0.6118\n",
      "Epoch 31/75\n",
      "48/48 [==============================] - 297s - loss: 0.2548 - acc: 0.8973 - val_loss: 0.4721 - val_acc: 0.6144\n",
      "Epoch 32/75\n",
      "48/48 [==============================] - 253s - loss: 0.2554 - acc: 0.9032 - val_loss: 0.7687 - val_acc: 0.6118\n",
      "Epoch 33/75\n",
      "48/48 [==============================] - 274s - loss: 0.2210 - acc: 0.9164 - val_loss: 1.1476 - val_acc: 0.6118\n",
      "Epoch 34/75\n",
      "48/48 [==============================] - 260s - loss: 0.2357 - acc: 0.9096 - val_loss: 0.6119 - val_acc: 0.6340\n",
      "Epoch 35/75\n",
      "48/48 [==============================] - 276s - loss: 0.2507 - acc: 0.9048 - val_loss: 0.8686 - val_acc: 0.6131\n",
      "Epoch 36/75\n",
      "48/48 [==============================] - 264s - loss: 0.2245 - acc: 0.9133 - val_loss: 0.7000 - val_acc: 0.6222\n",
      "Epoch 37/75\n",
      "48/48 [==============================] - 256s - loss: 0.2204 - acc: 0.9151 - val_loss: 0.4133 - val_acc: 0.7307\n",
      "Epoch 38/75\n",
      "48/48 [==============================] - 299s - loss: 0.2454 - acc: 0.9038 - val_loss: 0.4905 - val_acc: 0.6536\n",
      "Epoch 39/75\n",
      "48/48 [==============================] - 269s - loss: 0.2097 - acc: 0.9200 - val_loss: 0.3304 - val_acc: 0.8745\n",
      "Epoch 40/75\n",
      "48/48 [==============================] - 270s - loss: 0.2070 - acc: 0.9151 - val_loss: 0.7897 - val_acc: 0.6157\n",
      "Epoch 41/75\n",
      "48/48 [==============================] - 266s - loss: 0.2273 - acc: 0.9060 - val_loss: 0.4058 - val_acc: 0.6954\n",
      "Epoch 42/75\n",
      "48/48 [==============================] - 254s - loss: 0.2270 - acc: 0.9167 - val_loss: 0.5793 - val_acc: 0.6275\n",
      "Epoch 43/75\n",
      "48/48 [==============================] - 273s - loss: 0.2157 - acc: 0.9141 - val_loss: 0.3521 - val_acc: 0.8732\n",
      "Epoch 44/75\n",
      "48/48 [==============================] - 265s - loss: 0.2253 - acc: 0.9107 - val_loss: 0.3455 - val_acc: 0.8092\n",
      "Epoch 45/75\n",
      "48/48 [==============================] - 307s - loss: 0.2343 - acc: 0.9130 - val_loss: 0.2421 - val_acc: 0.9176\n",
      "Epoch 46/75\n",
      "48/48 [==============================] - 307s - loss: 0.2029 - acc: 0.9211 - val_loss: 0.9621 - val_acc: 0.6235\n",
      "Epoch 47/75\n",
      "48/48 [==============================] - 259s - loss: 0.1878 - acc: 0.9238 - val_loss: 0.3104 - val_acc: 0.8915\n",
      "Epoch 48/75\n",
      "48/48 [==============================] - 265s - loss: 0.1899 - acc: 0.9240 - val_loss: 0.2177 - val_acc: 0.9268\n",
      "Epoch 49/75\n",
      "48/48 [==============================] - 260s - loss: 0.2013 - acc: 0.9237 - val_loss: 0.3248 - val_acc: 0.8471\n",
      "Epoch 50/75\n",
      "48/48 [==============================] - 268s - loss: 0.2043 - acc: 0.9219 - val_loss: 0.2549 - val_acc: 0.9007\n",
      "Epoch 51/75\n",
      "48/48 [==============================] - 264s - loss: 0.2143 - acc: 0.9139 - val_loss: 0.2280 - val_acc: 0.9307\n",
      "Epoch 52/75\n",
      "48/48 [==============================] - 276s - loss: 0.1978 - acc: 0.9203 - val_loss: 0.1924 - val_acc: 0.9399\n",
      "Epoch 53/75\n",
      "48/48 [==============================] - 281s - loss: 0.2387 - acc: 0.9061 - val_loss: 0.3702 - val_acc: 0.8497\n",
      "Epoch 54/75\n",
      "48/48 [==============================] - 254s - loss: 0.1976 - acc: 0.9289 - val_loss: 0.1685 - val_acc: 0.9386\n",
      "Epoch 55/75\n",
      "48/48 [==============================] - 261s - loss: 0.1867 - acc: 0.9297 - val_loss: 0.2824 - val_acc: 0.8797\n",
      "Epoch 56/75\n",
      "48/48 [==============================] - 262s - loss: 0.2055 - acc: 0.9245 - val_loss: 0.2129 - val_acc: 0.9451\n",
      "Epoch 57/75\n",
      "48/48 [==============================] - 298s - loss: 0.1780 - acc: 0.9287 - val_loss: 0.2047 - val_acc: 0.9464\n",
      "Epoch 58/75\n",
      "48/48 [==============================] - 288s - loss: 0.1870 - acc: 0.9284 - val_loss: 0.3162 - val_acc: 0.8353\n",
      "Epoch 59/75\n",
      "48/48 [==============================] - 259s - loss: 0.1805 - acc: 0.9321 - val_loss: 0.2637 - val_acc: 0.9124\n",
      "Epoch 60/75\n",
      "48/48 [==============================] - 263s - loss: 0.1865 - acc: 0.9352 - val_loss: 0.2838 - val_acc: 0.8810\n",
      "Epoch 61/75\n",
      "48/48 [==============================] - 262s - loss: 0.1985 - acc: 0.9290 - val_loss: 3.1060 - val_acc: 0.7242\n",
      "Epoch 62/75\n",
      "48/48 [==============================] - 266s - loss: 0.1808 - acc: 0.9347 - val_loss: 0.6462 - val_acc: 0.7268\n",
      "Epoch 63/75\n",
      "48/48 [==============================] - 286s - loss: 0.1902 - acc: 0.9214 - val_loss: 0.2069 - val_acc: 0.9229\n",
      "Epoch 64/75\n",
      "48/48 [==============================] - 293s - loss: 0.1982 - acc: 0.9255 - val_loss: 0.1809 - val_acc: 0.9438\n",
      "Epoch 65/75\n",
      "48/48 [==============================] - 268s - loss: 0.1926 - acc: 0.9237 - val_loss: 0.2265 - val_acc: 0.9451\n",
      "Epoch 66/75\n",
      "48/48 [==============================] - 256s - loss: 0.1912 - acc: 0.9286 - val_loss: 0.2814 - val_acc: 0.8588\n",
      "Epoch 67/75\n",
      "48/48 [==============================] - 260s - loss: 0.1790 - acc: 0.9346 - val_loss: 0.1769 - val_acc: 0.9399\n",
      "Epoch 68/75\n",
      "48/48 [==============================] - 261s - loss: 0.1766 - acc: 0.9321 - val_loss: 0.3410 - val_acc: 0.8444\n",
      "Epoch 69/75\n",
      "48/48 [==============================] - 258s - loss: 0.1881 - acc: 0.9271 - val_loss: 0.2349 - val_acc: 0.9333\n",
      "Epoch 70/75\n",
      "48/48 [==============================] - 264s - loss: 0.1973 - acc: 0.9230 - val_loss: 0.1670 - val_acc: 0.9542\n",
      "Epoch 71/75\n",
      "48/48 [==============================] - 258s - loss: 0.1879 - acc: 0.9263 - val_loss: 0.3562 - val_acc: 0.8065\n",
      "Epoch 72/75\n",
      "48/48 [==============================] - 258s - loss: 0.1738 - acc: 0.9347 - val_loss: 0.1919 - val_acc: 0.9359\n",
      "Epoch 73/75\n",
      "48/48 [==============================] - 277s - loss: 0.1806 - acc: 0.9392 - val_loss: 0.1915 - val_acc: 0.9320\n",
      "Epoch 74/75\n",
      "48/48 [==============================] - 260s - loss: 0.1532 - acc: 0.9453 - val_loss: 0.1716 - val_acc: 0.9359\n",
      "Epoch 75/75\n",
      "48/48 [==============================] - 291s - loss: 0.1760 - acc: 0.9354 - val_loss: 0.2367 - val_acc: 0.9059\n",
      "1530/1530 [==============================] - 62s    \n",
      "765/765 [==============================] - 31s    \n",
      "\n",
      "\n",
      "kfold: 2\n",
      "best model train acc: 0.9516339869281045, loss: 0.15030738140632904\n",
      "best model valid acc: 0.954248366013072, loss: 0.16701792394803242\n",
      "best model train aroc score: 0.9907773654916512, valid aroc score: 0.9875320153097931\n",
      "\n",
      "\n"
     ]
    }
   ],
   "source": [
    "%cd $DATA_DIR\n",
    "# save initial weights for use on each kfolds run\n",
    "model.save_weights('{}_base.model'.format(model_name))\n",
    "# run kfolds 10x\n",
    "models_stats = train_model_k_folds(model, train_img, train_label, model_name, '{}_base.model'.format(model_name), 75, 3)"
   ]
  },
  {
   "cell_type": "code",
   "execution_count": 51,
   "metadata": {
    "collapsed": false,
    "deletable": true,
    "editable": true
   },
   "outputs": [
    {
     "data": {
      "text/plain": [
       "{'/scratch/yns207/data_invasive/model_jun30_kfold_0.model': {'score_tr_va': [0.98627586206896556,\n",
       "   0.98523682745965135],\n",
       "  'train_acc_loss': [0.94836601307189539, 0.13949879830569223],\n",
       "  'val_acc_loss': [0.94509803781322399, 0.14782204121546028]},\n",
       " '/scratch/yns207/data_invasive/model_jun30_kfold_1.model': {'score_tr_va': [0.9963657988634862,\n",
       "   0.98562379953960966],\n",
       "  'train_acc_loss': [0.97254902015324507, 0.10770460848325218],\n",
       "  'val_acc_loss': [0.94771241759942249, 0.14474385589166405]},\n",
       " '/scratch/yns207/data_invasive/model_jun30_kfold_2.model': {'score_tr_va': [0.99077736549165119,\n",
       "   0.98753201530979307],\n",
       "  'train_acc_loss': [0.95163398692810452, 0.15030738140632904],\n",
       "  'val_acc_loss': [0.95424836601307195, 0.16701792394803242]}}"
      ]
     },
     "execution_count": 51,
     "metadata": {},
     "output_type": "execute_result"
    }
   ],
   "source": [
    "models_stats"
   ]
  },
  {
   "cell_type": "markdown",
   "metadata": {
    "collapsed": true,
    "deletable": true,
    "editable": true
   },
   "source": [
    "wow these aroc scores suck. i dont even want to submit this."
   ]
  },
  {
   "cell_type": "code",
   "execution_count": null,
   "metadata": {
    "collapsed": true,
    "deletable": true,
    "editable": true
   },
   "outputs": [],
   "source": [
    "subm = test_set.iloc[:]\n",
    "subm = subm.drop('invasive',1)\n",
    "\n",
    "%cd $DATA_DIR\n",
    "models = [1,3,4,5,6,7]\n",
    "model = make_model((300,400,3), grab_optimizer('adam', 0.00025))\n",
    "\n",
    "for f in models:\n",
    "    model.load_weights('{}_{}.model'.format(model_name, str(f)))\n",
    "    subm[str(f)] = make_preds(model, test_img)['invasive']\n",
    "subm.head()"
   ]
  },
  {
   "cell_type": "code",
   "execution_count": null,
   "metadata": {
    "collapsed": true,
    "deletable": true,
    "editable": true
   },
   "outputs": [],
   "source": [
    "subm['invasive'] = subm[[str(f) for f in models]].mean(axis=1)\n",
    "subm = subm.drop([str(f) for f in models], 1)\n",
    "subm.head()"
   ]
  },
  {
   "cell_type": "code",
   "execution_count": null,
   "metadata": {
    "collapsed": true,
    "deletable": true,
    "editable": true
   },
   "outputs": [],
   "source": [
    "subm.to_csv(os.path.join(DATA_DIR, 'results', 'subm_jun_27_17_0.gz'), index=False, compression='gzip')"
   ]
  },
  {
   "cell_type": "code",
   "execution_count": null,
   "metadata": {
    "collapsed": true,
    "deletable": true,
    "editable": true
   },
   "outputs": [],
   "source": [
    "from scipy.stats import rankdata\n",
    "from sklearn.preprocessing import MinMaxScaler"
   ]
  },
  {
   "cell_type": "code",
   "execution_count": null,
   "metadata": {
    "collapsed": true,
    "deletable": true,
    "editable": true,
    "scrolled": true
   },
   "outputs": [],
   "source": [
    "subm = test_set.iloc[:]\n",
    "subm = subm.drop('invasive',1)\n",
    "\n",
    "%cd $DATA_DIR\n",
    "models = [1,3,4,5,6,7]\n",
    "model = make_model((300,400,3), grab_optimizer('adam', 0.00025))\n",
    "\n",
    "for f in models:\n",
    "    model.load_weights('{}_{}.model'.format(model_name, str(f)))\n",
    "    subm[str(f)] = make_preds(model, test_img)['invasive']\n",
    "subm.head()"
   ]
  },
  {
   "cell_type": "code",
   "execution_count": null,
   "metadata": {
    "collapsed": true,
    "deletable": true,
    "editable": true
   },
   "outputs": [],
   "source": [
    "for f in models:\n",
    "    subm['r'+str(f)] = rankdata(subm[str(f)])\n",
    "subm.head()"
   ]
  },
  {
   "cell_type": "code",
   "execution_count": null,
   "metadata": {
    "collapsed": true,
    "deletable": true,
    "editable": true
   },
   "outputs": [],
   "source": [
    "subm['r_avg'] = subm[['r1','r3','r4','r5','r6','r7']].mean(axis=1)\n",
    "subm.head()"
   ]
  },
  {
   "cell_type": "code",
   "execution_count": null,
   "metadata": {
    "collapsed": true,
    "deletable": true,
    "editable": true
   },
   "outputs": [],
   "source": [
    "subm['final_r_blend'] = MinMaxScaler().fit_transform(subm['r_avg'].reshape(-1, 1))"
   ]
  },
  {
   "cell_type": "code",
   "execution_count": null,
   "metadata": {
    "collapsed": true,
    "deletable": true,
    "editable": true
   },
   "outputs": [],
   "source": [
    "subm.head()"
   ]
  },
  {
   "cell_type": "code",
   "execution_count": null,
   "metadata": {
    "collapsed": true,
    "deletable": true,
    "editable": true
   },
   "outputs": [],
   "source": [
    "subm = subm[['name', 'final_r_blend']]\n",
    "subm.head()"
   ]
  },
  {
   "cell_type": "code",
   "execution_count": null,
   "metadata": {
    "collapsed": true,
    "deletable": true,
    "editable": true
   },
   "outputs": [],
   "source": [
    "subm.to_csv(os.path.join(DATA_DIR, 'results', 'subm_jun_27_17_1.gz'), index=False, compression='gzip')"
   ]
  },
  {
   "cell_type": "markdown",
   "metadata": {
    "deletable": true,
    "editable": true
   },
   "source": [
    "ok that had the exact same 0.984 score, LOL that's because the submission NEVER WENT THROUGH, i accidentally submitted the older file, my mistake, if it had gone through the column name is not invasive here so it would haev trhown an error"
   ]
  },
  {
   "cell_type": "code",
   "execution_count": null,
   "metadata": {
    "collapsed": false,
    "deletable": true,
    "editable": true
   },
   "outputs": [
    {
     "name": "stderr",
     "output_type": "stream",
     "text": [
      "  0%|          | 1/2295 [00:00<06:28,  5.90it/s]"
     ]
    },
    {
     "name": "stdout",
     "output_type": "stream",
     "text": [
      "/scratch/yns207/data_invasive\n"
     ]
    },
    {
     "name": "stderr",
     "output_type": "stream",
     "text": [
      "100%|██████████| 2295/2295 [02:23<00:00, 16.04it/s]\n",
      "100%|██████████| 1531/1531 [00:52<00:00, 29.12it/s]\n",
      "100%|██████████| 2295/2295 [01:17<00:00, 29.66it/s]\n",
      "100%|██████████| 1531/1531 [00:49<00:00, 30.71it/s]\n",
      "100%|██████████| 2295/2295 [01:22<00:00, 27.87it/s]\n",
      "100%|██████████| 1531/1531 [00:53<00:00, 28.67it/s]\n"
     ]
    }
   ],
   "source": [
    "%cd $DATA_DIR\n",
    "_, test_img_22, _ = read_imgs(128,128)\n",
    "_, test_img_23_24, _ = read_imgs(300,400)\n",
    "_, test_img_30, _ = read_imgs(400,600)"
   ]
  },
  {
   "cell_type": "code",
   "execution_count": null,
   "metadata": {
    "collapsed": true,
    "deletable": true,
    "editable": true
   },
   "outputs": [],
   "source": [
    "# lets try one more ensemble with 3 best conv models, the 3 best resnet models\n",
    "\n",
    "subm = test_set.iloc[:]\n",
    "subm = subm.drop('invasive',1)\n",
    "\n",
    "# 3 best conv models,\n",
    "# best resnet models, (omitting model 1)\n",
    "models = [\n",
    "        'model_jun23_kfold_3.model',\n",
    "        'model_jun23_kfold_7.model',\n",
    "        'model_jun23_kfold_9.model',\n",
    "        'model_jun25_kfold_3.model',\n",
    "        'model_jun25_kfold_4.model',\n",
    "        'model_jun25_kfold_5.model',\n",
    "        'model_jun25_kfold_6.model',\n",
    "        'model_jun25_kfold_7.model',\n",
    "        'model_jun30_kfold_0.model',\n",
    "        'model_jun30_kfold_1.model',\n",
    "        'model_jun30_kfold_2.model'\n",
    "        ]"
   ]
  },
  {
   "cell_type": "code",
   "execution_count": null,
   "metadata": {
    "collapsed": true,
    "deletable": true,
    "editable": true
   },
   "outputs": [],
   "source": [
    "def conv_block(filter_depth, filter_size, pool_size, activation, inputs):\n",
    "    x = BatchNormalization()(inputs)\n",
    "    x = Convolution2D(filter_depth, filter_size, activation=activation)(x)\n",
    "    x = MaxPooling2D(pool_size=pool_size)(x)\n",
    "    return x\n",
    "\n",
    "def dense_block(units, activation, drop_prob, inputs):\n",
    "    x = BatchNormalization()(inputs)\n",
    "    x = Dense(units, activation=activation)(x)\n",
    "    x = Dropout(drop_prob)(x)\n",
    "    return x\n",
    "\n",
    "def make_model_23(input_shape, optimizer):\n",
    "    inputs = Input(shape=input_shape)\n",
    "    m = conv_block(16, (3,3), (2,2),'relu', inputs=inputs)\n",
    "    m = conv_block(32, (3,3), (2,2), 'relu', inputs=m)\n",
    "    m = conv_block(64, (3,3), (2,2), 'relu', inputs=m)\n",
    "    m = conv_block(128, (3,3), (2,2), 'relu', inputs=m)\n",
    "    m = conv_block(256, (3,3), (2,2), 'relu', inputs=m)\n",
    "    m = Flatten()(m)\n",
    "    m = dense_block(2048, 'relu', 0.25, inputs=m)\n",
    "    m = dense_block(512, 'relu', 0.5, inputs=m)\n",
    "    outputs = dense_block(1, 'sigmoid', 0, inputs=m)\n",
    "    \n",
    "    model = Model(inputs=inputs, outputs=outputs)\n",
    "    model.compile(loss='binary_crossentropy', optimizer=optimizer, metrics=['accuracy'])\n",
    "    return model\n",
    "\n",
    "def conv_block(filter_depth, filter_size, pool_size, activation, inputs):\n",
    "    x = BatchNormalization()(inputs)\n",
    "    x = Convolution2D(filter_depth, filter_size, activation=activation)(x)\n",
    "    x = MaxPooling2D(pool_size=pool_size)(x)\n",
    "    return x\n",
    "\n",
    "def dense_block(units, activation, drop_prob, inputs):\n",
    "    x = BatchNormalization()(inputs)\n",
    "    x = Dense(units, activation=activation)(x)\n",
    "    x = Dropout(drop_prob)(x)\n",
    "    return x\n",
    "\n",
    "def make_model_22(input_shape, optimizer):\n",
    "    inputs = Input(shape=input_shape)\n",
    "    m = conv_block(16, (3,3), (2,2),'relu', inputs=inputs)\n",
    "    m = conv_block(32, (3,3), (2,2), 'relu', inputs=m)\n",
    "    m = conv_block(64, (3,3), (2,2), 'relu', inputs=m)\n",
    "    m = conv_block(128, (3,3), (2,2), 'relu', inputs=m)\n",
    "    m = Flatten()(m)\n",
    "    m = dense_block(2048, 'relu', 0.55, inputs=m)\n",
    "    m = dense_block(512, 'relu', 0.65, inputs=m)\n",
    "    outputs = dense_block(1, 'sigmoid', 0, inputs=m)\n",
    "    \n",
    "    model = Model(inputs=inputs, outputs=outputs)\n",
    "    model.compile(loss='binary_crossentropy', optimizer=optimizer, metrics=['accuracy'])\n",
    "    return model\n",
    "\n",
    "def dense_block(units, activation, drop_prob, inputs):\n",
    "    x = BatchNormalization()(inputs)\n",
    "    x = Dense(units, activation=activation)(x)\n",
    "    x = Dropout(drop_prob)(x)\n",
    "    return x\n",
    "\n",
    "#my attempt at making a resnet identity block, wont be making any conv block\n",
    "def resnet_block(filter_depth, filter_size, pool_size, activation, inputs):\n",
    "    x = BatchNormalization()(inputs)\n",
    "    x = Convolution2D(filter_depth, (1,1), activation=activation)(x)\n",
    "\n",
    "    x = BatchNormalization()(x)\n",
    "    x = Convolution2D(filter_depth, filter_size, activation=activation, padding='same')(x)\n",
    "    \n",
    "    x = BatchNormalization()(x)\n",
    "    x = Convolution2D(filter_depth, (1,1))(x)\n",
    "    \n",
    "    shortcut = Convolution2D(filter_depth, (1,1))(inputs)\n",
    "    shortcut = BatchNormalization()(shortcut)\n",
    "    \n",
    "    x = keras.layers.add([x, shortcut])\n",
    "    x = Activation('relu')(x)\n",
    "    return x\n",
    "\n",
    "def make_model_25(input_shape, optimizer):\n",
    "    inputs = Input(shape=input_shape)\n",
    "    m = ZeroPadding2D((3,3))(inputs)\n",
    "    m = Convolution2D(16, (3,3), strides=(2,2), activation='relu')(m)\n",
    "    m = MaxPooling2D((3,3), strides=(2,2))(m)\n",
    "    m = resnet_block(32, (3,3), (2,2), 'relu', inputs=m)\n",
    "    m = resnet_block(64, (3,3), (2,2), 'relu', inputs=m)\n",
    "    m = resnet_block(128, (3,3), (2,2), 'relu', inputs=m)\n",
    "    m = AveragePooling2D((7, 7))(m)\n",
    "    m = Flatten()(m)\n",
    "    m = dense_block(2048, 'relu', 0.25, inputs=m)\n",
    "    m = dense_block(512, 'relu', 0.5, inputs=m)\n",
    "    outputs = dense_block(1, 'sigmoid', 0, inputs=m)\n",
    "    \n",
    "    model = Model(inputs=inputs, outputs=outputs)\n",
    "    model.compile(loss='binary_crossentropy', optimizer=optimizer, metrics=['accuracy'])\n",
    "    return model\n",
    "\n",
    "#omitted 24 because it was just a poorly performing resnet50\n",
    "model_23 = make_model_23((300,400,3), grab_optimizer('adam', 0.000125))\n",
    "model_25 = make_model_25((300,400,3), grab_optimizer('adam', 0.0005))\n",
    "model_30 = make_model_25((400,600,3), grab_optimizer('adam', 0.0005))\n",
    "\n",
    "for f in models:\n",
    "    if 'jun23' in f:\n",
    "        model_23.load_weights(f)\n",
    "        model_test = model_23\n",
    "        subm[str(f)] = make_preds(model_test, test_img_23_24)['invasive']\n",
    "    elif 'jun25' in f:\n",
    "        model_25.load_weights(f)\n",
    "        model_test = model_25\n",
    "        subm[str(f)] = make_preds(model_test, test_img_23_24)['invasive']\n",
    "    else:\n",
    "        model_30.load_weights(f)\n",
    "        model_test = model_30\n",
    "        subm[str(f)] = make_preds(model_test, test_img_30)['invasive']\n",
    "subm.head()"
   ]
  },
  {
   "cell_type": "code",
   "execution_count": null,
   "metadata": {
    "collapsed": true,
    "deletable": true,
    "editable": true
   },
   "outputs": [],
   "source": [
    "for f in models:\n",
    "    subm['r_'+str(f)] = rankdata(subm[str(f)])\n",
    "subm.head()"
   ]
  },
  {
   "cell_type": "code",
   "execution_count": null,
   "metadata": {
    "collapsed": true,
    "deletable": true,
    "editable": true
   },
   "outputs": [],
   "source": [
    "subm['r_avg'] = subm[['r_'+f for f in models]].mean(axis=1)\n",
    "subm.head()"
   ]
  },
  {
   "cell_type": "code",
   "execution_count": null,
   "metadata": {
    "collapsed": true,
    "deletable": true,
    "editable": true
   },
   "outputs": [],
   "source": [
    "subm['final_r_blend'] = MinMaxScaler().fit_transform(subm['r_avg'].reshape(-1, 1))"
   ]
  },
  {
   "cell_type": "code",
   "execution_count": null,
   "metadata": {
    "collapsed": true,
    "deletable": true,
    "editable": true
   },
   "outputs": [],
   "source": [
    "subm.head()"
   ]
  },
  {
   "cell_type": "code",
   "execution_count": null,
   "metadata": {
    "collapsed": true,
    "deletable": true,
    "editable": true
   },
   "outputs": [],
   "source": [
    "subm = subm[['name', 'final_r_blend']]\n",
    "subm.columns = ['name', 'invasive']\n",
    "subm.head()"
   ]
  },
  {
   "cell_type": "code",
   "execution_count": null,
   "metadata": {
    "collapsed": true,
    "deletable": true,
    "editable": true
   },
   "outputs": [],
   "source": [
    "subm.to_csv(os.path.join(DATA_DIR, 'results', 'subm_jun_27_17_2.gz'), index=False, compression='gzip')"
   ]
  },
  {
   "cell_type": "markdown",
   "metadata": {
    "deletable": true,
    "editable": true
   },
   "source": [
    "alright well that rank average did improve my score, 0.98526 -> 0.98560, this ensemble is maybe worth building off of."
   ]
  },
  {
   "cell_type": "markdown",
   "metadata": {
    "deletable": true,
    "editable": true
   },
   "source": [
    "# summary\n",
    "\n",
    "http://blog.kaggle.com/2017/04/20/dogs-vs-cats-redux-playground-competition-3rd-place-interview-marco-lugo/\n",
    "\n",
    "https://gogul09.github.io/software/flower-recognition\n",
    "\n",
    "good overview of voting/rank averraging ensembles:\n",
    "\n",
    "http://andremeetsdata.com/2015/12/30/Numerai-Averaging\n",
    "\n",
    "https://mlwave.com/kaggle-ensembling-guide/\n",
    "\n",
    "https://www.kaggle.com/c/homesite-quote-conversion/discussion/18067\n",
    "\n",
    "giving extra number after the decimal may hust us? worth investigating, or it could have no effect on receiver curve.\n",
    "\n",
    "will try:\n",
    "\n",
    "resnet: https://ctmakro.github.io/site/on_learning/resnet_keras.html\n",
    "\n",
    "simplenet: https://arxiv.org/pdf/1608.06037.pdf\n",
    "\n",
    "leaky relu: https://keras.io/layers/advanced-activations/\n",
    "\n",
    "this site has desciptions for voting ensembles, cool: https://mlwave.com/kaggle-ensembling-guide/\n",
    "\n",
    "in combinatio with my convolutional ensemble from before."
   ]
  },
  {
   "cell_type": "code",
   "execution_count": null,
   "metadata": {
    "collapsed": true,
    "deletable": true,
    "editable": true
   },
   "outputs": [],
   "source": []
  }
 ],
 "metadata": {
  "kernelspec": {
   "display_name": "Python 3",
   "language": "python",
   "name": "python3"
  },
  "language_info": {
   "codemirror_mode": {
    "name": "ipython",
    "version": 3
   },
   "file_extension": ".py",
   "mimetype": "text/x-python",
   "name": "python",
   "nbconvert_exporter": "python",
   "pygments_lexer": "ipython3",
   "version": "3.5.3"
  }
 },
 "nbformat": 4,
 "nbformat_minor": 2
}
