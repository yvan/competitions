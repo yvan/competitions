{
 "cells": [
  {
   "cell_type": "markdown",
   "metadata": {
    "deletable": true,
    "editable": true
   },
   "source": [
    "ok so i'm  gonna try 2 things:\n",
    "\n",
    "thing # 1 finetuned models with finetuning two 1024 dense layers only:\n",
    "\n",
    "aug3-work-1 (running)\n",
    "\n",
    "this has several computational advantages (precomputing layers) and is already running.\n",
    "\n",
    "thing # 2 is going to be multiple gpus (as many as i can get) training:\n",
    "\n",
    "aug3-work-vgg19 (running)\n",
    "\n",
    "aug3-work-resnet50 (running)\n",
    "\n",
    "aug3-work-inceptionv3 (running)\n",
    "\n",
    "aug3-work-xception (not running yet, gpu limit is 4)\n",
    "\n",
    "aug3-work-custom (custom conv net, not running yet, gpu limit)\n",
    "\n",
    "they will retrain up to 3 conv layers.\n",
    "they will not precompute as it makes using data augmentation very difficult (bceause of the way the image data generator works).\n",
    "\n",
    "this will take longer but w/ multi gpus it should go faster.\n",
    "\n",
    "then i want to ensemble all of them (maybe throwing an xgboost fro mthat kernel and/or some random forests)\n",
    "\n",
    "it all needs to use the same holdout data for kfolds and training the final model:\n",
    "\n",
    "```\n",
    "%cd $models_path\n",
    "train_img = load_array('aug_3_train_img.dat')\n",
    "hold_img = load_array('aug_3_hold_img.dat')\n",
    "train_labels = load_array('aug_3_train_labels.dat')\n",
    "hold_labels = load_array('aug_3_hold_labels.dat')\n",
    "```\n",
    "\n",
    "then well use the ensemble to pseudo label and do antoher round of training (maybe kfolded, maybe not) on that data for each model. then well include those models in the ensemble.\n",
    "\n",
    "i want the blending to happen in its own notebook.\n",
    "\n",
    "lets do this!"
   ]
  },
  {
   "cell_type": "code",
   "execution_count": null,
   "metadata": {
    "collapsed": true
   },
   "outputs": [],
   "source": []
  }
 ],
 "metadata": {
  "kernelspec": {
   "display_name": "Python 3",
   "language": "python",
   "name": "python3"
  },
  "language_info": {
   "codemirror_mode": {
    "name": "ipython",
    "version": 3
   },
   "file_extension": ".py",
   "mimetype": "text/x-python",
   "name": "python",
   "nbconvert_exporter": "python",
   "pygments_lexer": "ipython3",
   "version": "3.5.3"
  }
 },
 "nbformat": 4,
 "nbformat_minor": 2
}
