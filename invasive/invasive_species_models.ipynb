{
 "cells": [
  {
   "cell_type": "code",
   "execution_count": null,
   "metadata": {
    "collapsed": true
   },
   "outputs": [],
   "source": [
    "#https://www.kaggle.com/c/invasive-species-monitoring/data\n",
    "#last run @ may 30 2017\n",
    "#@yvan"
   ]
  },
  {
   "cell_type": "markdown",
   "metadata": {},
   "source": [
    "# todo\n",
    "\n",
    "1. get data organized/downloaded \n",
    "2. get keras setup with basic model\n",
    "3. make model better with simple stuff\n",
    "4. submit to kaggle"
   ]
  },
  {
   "cell_type": "code",
   "execution_count": 3,
   "metadata": {},
   "outputs": [
    {
     "name": "stdout",
     "output_type": "stream",
     "text": [
      "/home/yns207/nbs/machine_learning/invasive /scratch/yns207/data_invasive\n"
     ]
    }
   ],
   "source": [
    "import os\n",
    "import numpy as np\n",
    "from glob import glob\n",
    "import pandas as pd\n",
    "\n",
    "CUR_DIR = os.getcwd()\n",
    "DATA_DIR = os.path.join('/scratch', 'yns207', 'data_invasive')\n",
    "print(CUR_DIR, DATA_DIR)"
   ]
  },
  {
   "cell_type": "code",
   "execution_count": null,
   "metadata": {
    "collapsed": true
   },
   "outputs": [],
   "source": [
    "%mkdir -p $DATA_DIR\n",
    "%cd $DATA_DIR\n",
    "!kg config -g -c 'invasive-species-monitoring'\n",
    "!kg download "
   ]
  },
  {
   "cell_type": "code",
   "execution_count": null,
   "metadata": {
    "collapsed": true
   },
   "outputs": [],
   "source": [
    "%ls $DATA_DIR"
   ]
  },
  {
   "cell_type": "code",
   "execution_count": null,
   "metadata": {
    "collapsed": true
   },
   "outputs": [],
   "source": [
    "%cd $DATA_DIR\n",
    "!module load centos/7\n",
    "!7za x '*.7z'\n",
    "!unzip -q *.zip"
   ]
  },
  {
   "cell_type": "code",
   "execution_count": null,
   "metadata": {
    "collapsed": true
   },
   "outputs": [],
   "source": [
    "%ls -lah $DATA_DIR\n",
    "%ls -lah $DATA_DIR/train | head -n 25\n",
    "%ls -lah $DATA_DIR/test  | head -n 25\n",
    "%ls -l $DATA_DIR/train/*.jpg | wc -l\n",
    "%ls -l $DATA_DIR/test/*.jpg | wc -l"
   ]
  },
  {
   "cell_type": "code",
   "execution_count": null,
   "metadata": {
    "collapsed": true
   },
   "outputs": [],
   "source": [
    "%mkdir -p $DATA_DIR/valid"
   ]
  },
  {
   "cell_type": "code",
   "execution_count": null,
   "metadata": {
    "collapsed": true
   },
   "outputs": [],
   "source": [
    "%cd $DATA_DIR\n",
    "g = glob('train/*.jpg')\n",
    "shuf = np.random.permutation(g)\n",
    "for f in range(len(g)//5):\n",
    "    os.rename(shuf[f], os.path.join('valid', shuf[f][6:]))\n",
    "\n",
    "%ls -l $DATA_DIR/valid | wc -l"
   ]
  },
  {
   "cell_type": "code",
   "execution_count": null,
   "metadata": {
    "collapsed": true
   },
   "outputs": [],
   "source": [
    "%cd $DATA_DIR\n",
    "tr_labels_df = pd.read_csv('train_labels.csv')\n",
    "tr_labels_df.head()"
   ]
  },
  {
   "cell_type": "code",
   "execution_count": null,
   "metadata": {
    "collapsed": true
   },
   "outputs": [],
   "source": [
    "%mkdir -p $DATA_DIR/train/0 $DATA_DIR/train/1\n",
    "%mkdir -p $DATA_DIR/valid/0 $DATA_DIR/valid/1"
   ]
  },
  {
   "cell_type": "code",
   "execution_count": null,
   "metadata": {
    "collapsed": true
   },
   "outputs": [],
   "source": [
    "%cd $DATA_DIR\n",
    "gt = glob('train/*.jpg')\n",
    "gv = glob('valid/*.jpg')\n",
    "gt[:5]"
   ]
  },
  {
   "cell_type": "code",
   "execution_count": null,
   "metadata": {
    "collapsed": true
   },
   "outputs": [],
   "source": [
    "#move training exmaples into \n",
    "#classes folders\n",
    "for f in gt:\n",
    "    old = os.path.join(f)\n",
    "    row = tr_labels_df[tr_labels_df['name'] == int(f[6:].split('.')[0])]\n",
    "    new = os.path.join('train', str(row['invasive'].iloc[0]), str(row['name'].iloc[0])+'.jpg')\n",
    "    os.rename(old,new)    "
   ]
  },
  {
   "cell_type": "code",
   "execution_count": null,
   "metadata": {
    "collapsed": true
   },
   "outputs": [],
   "source": [
    "#move validation examples\n",
    "#into classes folders\n",
    "for f in gv:\n",
    "    old = os.path.join(f)\n",
    "    row = tr_labels_df[tr_labels_df['name'] == int(f[6:].split('.')[0])]\n",
    "    new = os.path.join('valid', str(row['invasive'].iloc[0]), str(row['name'].iloc[0])+'.jpg')\n",
    "    os.rename(old,new)  "
   ]
  },
  {
   "cell_type": "code",
   "execution_count": null,
   "metadata": {
    "collapsed": true
   },
   "outputs": [],
   "source": [
    "%ls -lah $DATA_DIR/train\n",
    "%ls -lah $DATA_DIR/valid"
   ]
  },
  {
   "cell_type": "code",
   "execution_count": null,
   "metadata": {
    "collapsed": true
   },
   "outputs": [],
   "source": [
    "%ls -lah $DATA_DIR/train/* | wc -l\n",
    "%ls -lah $DATA_DIR/valid/* | wc -l"
   ]
  },
  {
   "cell_type": "code",
   "execution_count": null,
   "metadata": {
    "collapsed": true
   },
   "outputs": [],
   "source": [
    "%mkdir $DATA_DIR/results"
   ]
  },
  {
   "cell_type": "code",
   "execution_count": 33,
   "metadata": {
    "collapsed": true
   },
   "outputs": [],
   "source": [
    "%mkdir -p $DATA_DIR/test/unknown\n",
    "%mv $DATA_DIR/test/*.jpg $DATA_DIR/test/unknown/"
   ]
  },
  {
   "cell_type": "code",
   "execution_count": 2,
   "metadata": {},
   "outputs": [
    {
     "name": "stderr",
     "output_type": "stream",
     "text": [
      "Using TensorFlow backend.\n"
     ]
    }
   ],
   "source": [
    "from keras import backend as K\n",
    "from keras.models import Sequential, Model\n",
    "from keras.layers import Input\n",
    "from keras.layers.core import Flatten, Dense, Dropout, Lambda\n",
    "from keras.layers.convolutional import Convolution2D, MaxPooling2D, ZeroPadding2D\n",
    "from keras.layers.normalization import BatchNormalization\n",
    "from keras.optimizers import SGD, RMSprop, Adam\n",
    "from keras.preprocessing import image\n",
    "from keras.regularizers import l2\n",
    "from keras.utils.np_utils import to_categorical"
   ]
  },
  {
   "cell_type": "code",
   "execution_count": 72,
   "metadata": {},
   "outputs": [
    {
     "name": "stdout",
     "output_type": "stream",
     "text": [
      "/home/yns207/nbs/machine_learning/invasive /scratch/yns207/data_invasive\n"
     ]
    }
   ],
   "source": [
    "import os\n",
    "import numpy as np\n",
    "from glob import glob\n",
    "import pandas as pd\n",
    "import matplotlib.pyplot as plt\n",
    "from IPython.display import FileLink\n",
    "\n",
    "CUR_DIR = os.getcwd()\n",
    "DATA_DIR = os.path.join('/scratch', 'yns207', 'data_invasive')\n",
    "print(CUR_DIR, DATA_DIR)\n",
    "\n",
    "path = DATA_DIR\n",
    "test_path = os.path.join(path, 'test')\n",
    "models_path = os.path.join(path, 'results')\n",
    "train_path = os.path.join(path, 'train')\n",
    "valid_path = os.path.join(path, 'valid')\n",
    "batch_size = 64"
   ]
  },
  {
   "cell_type": "code",
   "execution_count": 35,
   "metadata": {},
   "outputs": [
    {
     "name": "stdout",
     "output_type": "stream",
     "text": [
      "Found 1836 images belonging to 2 classes.\n",
      "Found 459 images belonging to 2 classes.\n",
      "Found 1531 images belonging to 1 classes.\n"
     ]
    }
   ],
   "source": [
    "gen = image.ImageDataGenerator()\n",
    "tr_batches = gen.flow_from_directory(train_path, \n",
    "                                     target_size=(150,200), \n",
    "                                     class_mode='categorical', \n",
    "                                     shuffle=True, \n",
    "                                     batch_size=batch_size)\n",
    "\n",
    "va_batches = gen.flow_from_directory(valid_path, \n",
    "                                     target_size=(150,200), \n",
    "                                     class_mode='categorical', \n",
    "                                     shuffle=False, \n",
    "                                     batch_size=batch_size)\n",
    "\n",
    "te_batches = gen.flow_from_directory(test_path, \n",
    "                                     target_size=(150,200), \n",
    "                                     class_mode='categorical', \n",
    "                                     shuffle=False, \n",
    "                                     batch_size=batch_size)"
   ]
  },
  {
   "cell_type": "code",
   "execution_count": 6,
   "metadata": {
    "collapsed": true
   },
   "outputs": [],
   "source": [
    "va_classes = va_batches.classes\n",
    "tr_classes = tr_batches.classes\n",
    "va_labels = to_categorical(va_classes)\n",
    "tr_labels = to_categorical(tr_classes)\n",
    "va_filenames = va_batches.filenames\n",
    "tr_filenames = tr_batches.filenames"
   ]
  },
  {
   "cell_type": "code",
   "execution_count": 65,
   "metadata": {
    "collapsed": true
   },
   "outputs": [],
   "source": [
    "model = Sequential([\n",
    "    BatchNormalization(input_shape=(150,200,3)),\n",
    "    ZeroPadding2D((1, 1), input_shape=(150,200,3)),\n",
    "    Convolution2D(64, (3, 3), activation='relu'),\n",
    "    ZeroPadding2D((1, 1)),\n",
    "    Convolution2D(64, (3, 3), activation='relu'),\n",
    "    MaxPooling2D((2, 2), strides=(2, 2)),\n",
    "    BatchNormalization(),\n",
    "    MaxPooling2D((3,3)),\n",
    "    Flatten(),\n",
    "    Dense(100, activation='relu'),\n",
    "    BatchNormalization(),\n",
    "    Dense(2, activation='softmax')\n",
    "])"
   ]
  },
  {
   "cell_type": "code",
   "execution_count": 66,
   "metadata": {
    "collapsed": true
   },
   "outputs": [],
   "source": [
    "model.compile(Adam(), loss='binary_crossentropy', metrics=['accuracy'])"
   ]
  },
  {
   "cell_type": "code",
   "execution_count": 68,
   "metadata": {},
   "outputs": [
    {
     "name": "stdout",
     "output_type": "stream",
     "text": [
      "Epoch 1/1\n",
      "29/29 [==============================] - 634s - loss: 0.5660 - acc: 0.7819 - val_loss: 1.1664 - val_acc: 0.6667\n"
     ]
    },
    {
     "data": {
      "text/plain": [
       "<keras.callbacks.History at 0x2b3f93d0e198>"
      ]
     },
     "execution_count": 68,
     "metadata": {},
     "output_type": "execute_result"
    }
   ],
   "source": [
    "model.fit_generator(tr_batches,\n",
    "                    steps_per_epoch=(tr_batches.n//batch_size)+1,\n",
    "                    validation_data=va_batches,\n",
    "                    validation_steps=(va_batches.n//batch_size)+1,\n",
    "                    epochs=1)"
   ]
  },
  {
   "cell_type": "code",
   "execution_count": null,
   "metadata": {
    "collapsed": true
   },
   "outputs": [],
   "source": [
    "preds = model.predict_generator(te_batches, (te_batches.n//batch_size)+1, workers=2)"
   ]
  },
  {
   "cell_type": "code",
   "execution_count": 76,
   "metadata": {},
   "outputs": [
    {
     "data": {
      "text/plain": [
       "array([ 0.94361967,  0.9714641 ,  0.99734229, ...,  0.96236449,\n",
       "        0.99127018,  0.97317016], dtype=float32)"
      ]
     },
     "execution_count": 76,
     "metadata": {},
     "output_type": "execute_result"
    }
   ],
   "source": [
    "preds[:,1]"
   ]
  },
  {
   "cell_type": "code",
   "execution_count": 209,
   "metadata": {},
   "outputs": [
    {
     "data": {
      "text/plain": [
       "['unknown/324.jpg',\n",
       " 'unknown/47.jpg',\n",
       " 'unknown/966.jpg',\n",
       " 'unknown/1526.jpg',\n",
       " 'unknown/487.jpg']"
      ]
     },
     "execution_count": 209,
     "metadata": {},
     "output_type": "execute_result"
    }
   ],
   "source": [
    "fnames = te_batches.filenames\n",
    "fnames[:5]"
   ]
  },
  {
   "cell_type": "code",
   "execution_count": 196,
   "metadata": {},
   "outputs": [
    {
     "data": {
      "text/plain": [
       "array(['324', '47', '966', ..., '901', '1189', '125'], \n",
       "      dtype='<U4')"
      ]
     },
     "execution_count": 196,
     "metadata": {},
     "output_type": "execute_result"
    }
   ],
   "source": [
    "names = np.array(list(map(lambda x: x[8:].split('.')[0], fnames)))\n",
    "names"
   ]
  },
  {
   "cell_type": "code",
   "execution_count": 197,
   "metadata": {},
   "outputs": [
    {
     "name": "stdout",
     "output_type": "stream",
     "text": [
      "(1531,) (1531,)\n"
     ]
    }
   ],
   "source": [
    "print(names.shape, preds[:,1].shape)"
   ]
  },
  {
   "cell_type": "code",
   "execution_count": 198,
   "metadata": {},
   "outputs": [
    {
     "data": {
      "text/plain": [
       "(1531, 2)"
      ]
     },
     "execution_count": 198,
     "metadata": {},
     "output_type": "execute_result"
    }
   ],
   "source": [
    "subm_data = np.stack((names, preds[:,1]), axis=1)\n",
    "subm_data.shape"
   ]
  },
  {
   "cell_type": "code",
   "execution_count": 199,
   "metadata": {},
   "outputs": [
    {
     "data": {
      "text/html": [
       "<div>\n",
       "<style>\n",
       "    .dataframe thead tr:only-child th {\n",
       "        text-align: right;\n",
       "    }\n",
       "\n",
       "    .dataframe thead th {\n",
       "        text-align: left;\n",
       "    }\n",
       "\n",
       "    .dataframe tbody tr th {\n",
       "        vertical-align: top;\n",
       "    }\n",
       "</style>\n",
       "<table border=\"1\" class=\"dataframe\">\n",
       "  <thead>\n",
       "    <tr style=\"text-align: right;\">\n",
       "      <th></th>\n",
       "      <th>name</th>\n",
       "      <th>invasive</th>\n",
       "    </tr>\n",
       "  </thead>\n",
       "  <tbody>\n",
       "    <tr>\n",
       "      <th>0</th>\n",
       "      <td>324</td>\n",
       "      <td>0.9436196684837341</td>\n",
       "    </tr>\n",
       "    <tr>\n",
       "      <th>1</th>\n",
       "      <td>47</td>\n",
       "      <td>0.9714640974998474</td>\n",
       "    </tr>\n",
       "    <tr>\n",
       "      <th>2</th>\n",
       "      <td>966</td>\n",
       "      <td>0.9973422884941101</td>\n",
       "    </tr>\n",
       "    <tr>\n",
       "      <th>3</th>\n",
       "      <td>1526</td>\n",
       "      <td>0.946323812007904</td>\n",
       "    </tr>\n",
       "    <tr>\n",
       "      <th>4</th>\n",
       "      <td>487</td>\n",
       "      <td>0.9476625919342041</td>\n",
       "    </tr>\n",
       "  </tbody>\n",
       "</table>\n",
       "</div>"
      ],
      "text/plain": [
       "   name            invasive\n",
       "0   324  0.9436196684837341\n",
       "1    47  0.9714640974998474\n",
       "2   966  0.9973422884941101\n",
       "3  1526   0.946323812007904\n",
       "4   487  0.9476625919342041"
      ]
     },
     "execution_count": 199,
     "metadata": {},
     "output_type": "execute_result"
    }
   ],
   "source": [
    "df = pd.DataFrame(subm_data, columns=['name','invasive'])\n",
    "df.head()"
   ]
  },
  {
   "cell_type": "code",
   "execution_count": 200,
   "metadata": {
    "collapsed": true
   },
   "outputs": [],
   "source": [
    "df.to_csv(os.path.join(DATA_DIR, 'results', 'subm_may_27_2017.gz'), index=False, compression='gzip')"
   ]
  },
  {
   "cell_type": "code",
   "execution_count": 201,
   "metadata": {},
   "outputs": [
    {
     "name": "stdout",
     "output_type": "stream",
     "text": [
      "total 28K\r\n",
      "drwxr-x--- 2 yns207 yns207 4,0K 27 mai   11:07 \u001b[0m\u001b[01;34m.\u001b[0m/\r\n",
      "drwxr-x--- 6 yns207 yns207 4,0K 26 mai   19:52 \u001b[01;34m..\u001b[0m/\r\n",
      "-rw-r----- 1 yns207 yns207  17K 27 mai   11:45 \u001b[01;31msubm_may_27_2017.gz\u001b[0m\r\n"
     ]
    }
   ],
   "source": [
    "%ls -lah $DATA_DIR/results"
   ]
  },
  {
   "cell_type": "code",
   "execution_count": null,
   "metadata": {
    "collapsed": true
   },
   "outputs": [],
   "source": [
    "# this gets a score of 0.72519 on leaderboard\n",
    "# thats 85th out of 100"
   ]
  },
  {
   "cell_type": "code",
   "execution_count": 242,
   "metadata": {
    "collapsed": true
   },
   "outputs": [],
   "source": [
    "# lets try with the functional api\n",
    "inputs = Input(shape=(150,200,3))\n",
    "m = BatchNormalization()(inputs)\n",
    "m = ZeroPadding2D((1,1))(m)\n",
    "m = Convolution2D(64, (3,3), activation='relu')(m)\n",
    "m = ZeroPadding2D((1,1))(m)\n",
    "m = Convolution2D(64, (3,3), activation='relu')(m)\n",
    "m = BatchNormalization()(m)\n",
    "m = MaxPooling2D((3,3))(m)\n",
    "m = Flatten()(m)\n",
    "m = Dense(100, activation='relu')(m)\n",
    "m = BatchNormalization()(m)\n",
    "preds = Dense(2, activation='softmax')(m)\n",
    "model = Model(inputs=inputs, outputs=preds)\n",
    "model.compile(Adam(), loss='binary_crossentropy', metrics=['accuracy'])"
   ]
  },
  {
   "cell_type": "code",
   "execution_count": 243,
   "metadata": {},
   "outputs": [
    {
     "name": "stdout",
     "output_type": "stream",
     "text": [
      "_________________________________________________________________\n",
      "Layer (type)                 Output Shape              Param #   \n",
      "=================================================================\n",
      "input_6 (InputLayer)         (None, 150, 200, 3)       0         \n",
      "_________________________________________________________________\n",
      "batch_normalization_60 (Batc (None, 150, 200, 3)       12        \n",
      "_________________________________________________________________\n",
      "zero_padding2d_21 (ZeroPaddi (None, 152, 202, 3)       0         \n",
      "_________________________________________________________________\n",
      "conv2d_26 (Conv2D)           (None, 150, 200, 64)      1792      \n",
      "_________________________________________________________________\n",
      "zero_padding2d_22 (ZeroPaddi (None, 152, 202, 64)      0         \n",
      "_________________________________________________________________\n",
      "conv2d_27 (Conv2D)           (None, 150, 200, 64)      36928     \n",
      "_________________________________________________________________\n",
      "batch_normalization_61 (Batc (None, 150, 200, 64)      256       \n",
      "_________________________________________________________________\n",
      "max_pooling2d_21 (MaxPooling (None, 50, 66, 64)        0         \n",
      "_________________________________________________________________\n",
      "flatten_22 (Flatten)         (None, 211200)            0         \n",
      "_________________________________________________________________\n",
      "dense_42 (Dense)             (None, 100)               21120100  \n",
      "_________________________________________________________________\n",
      "batch_normalization_62 (Batc (None, 100)               400       \n",
      "_________________________________________________________________\n",
      "dense_43 (Dense)             (None, 2)                 202       \n",
      "=================================================================\n",
      "Total params: 21,159,690\n",
      "Trainable params: 21,159,356\n",
      "Non-trainable params: 334\n",
      "_________________________________________________________________\n"
     ]
    }
   ],
   "source": [
    "model.summary()"
   ]
  },
  {
   "cell_type": "code",
   "execution_count": 244,
   "metadata": {},
   "outputs": [
    {
     "name": "stdout",
     "output_type": "stream",
     "text": [
      "Epoch 1/5\n",
      "29/29 [==============================] - 804s - loss: 0.5689 - acc: 0.7521 - val_loss: 1.8391 - val_acc: 0.6797\n",
      "Epoch 2/5\n",
      "29/29 [==============================] - 792s - loss: 0.3545 - acc: 0.8487 - val_loss: 0.9974 - val_acc: 0.6950\n",
      "Epoch 3/5\n",
      "29/29 [==============================] - 792s - loss: 0.2556 - acc: 0.9007 - val_loss: 0.6623 - val_acc: 0.7190\n",
      "Epoch 4/5\n",
      "29/29 [==============================] - 791s - loss: 0.1551 - acc: 0.9504 - val_loss: 0.6189 - val_acc: 0.7081\n",
      "Epoch 5/5\n",
      "29/29 [==============================] - 793s - loss: 0.0605 - acc: 0.9922 - val_loss: 0.4841 - val_acc: 0.7582\n"
     ]
    }
   ],
   "source": [
    "hist = model.fit_generator(tr_batches,\n",
    "                    steps_per_epoch=(tr_batches.n//batch_size)+1,\n",
    "                    validation_data=va_batches,\n",
    "                    validation_steps=(va_batches.n//batch_size)+1,\n",
    "                    epochs=5)"
   ]
  },
  {
   "cell_type": "code",
   "execution_count": 245,
   "metadata": {},
   "outputs": [
    {
     "data": {
      "text/plain": [
       "[0.48410871306795439, 0.75816993464052285]"
      ]
     },
     "execution_count": 245,
     "metadata": {},
     "output_type": "execute_result"
    }
   ],
   "source": [
    "model.evaluate_generator(va_batches, steps=(va_batches.n//batch_size)+1, workers=2)"
   ]
  },
  {
   "cell_type": "code",
   "execution_count": 246,
   "metadata": {},
   "outputs": [
    {
     "data": {
      "text/plain": [
       "{'acc': [0.75163398731767739,\n",
       "  0.84858387825535797,\n",
       "  0.90032679751547851,\n",
       "  0.94989106753812635,\n",
       "  0.99237472818827577],\n",
       " 'loss': [0.57076451325208788,\n",
       "  0.35508828244957269,\n",
       "  0.25641482315292025,\n",
       "  0.15598511007616464,\n",
       "  0.059454905798492351],\n",
       " 'val_acc': [0.6797385620915033,\n",
       "  0.69498910675381265,\n",
       "  0.71895424836601307,\n",
       "  0.7080610021786492,\n",
       "  0.75816993464052285],\n",
       " 'val_loss': [1.8390622671646897,\n",
       "  0.99737354293303293,\n",
       "  0.66230821028384246,\n",
       "  0.6189329985180192,\n",
       "  0.48410871306795439]}"
      ]
     },
     "execution_count": 246,
     "metadata": {},
     "output_type": "execute_result"
    }
   ],
   "source": [
    "hist.history"
   ]
  },
  {
   "cell_type": "code",
   "execution_count": null,
   "metadata": {
    "collapsed": true
   },
   "outputs": [],
   "source": [
    "preds = model.predict_generator(te_batches, (te_batches.n//batch_size)+1, workers=2)\n",
    "preds[:,1]"
   ]
  },
  {
   "cell_type": "code",
   "execution_count": null,
   "metadata": {
    "collapsed": true
   },
   "outputs": [],
   "source": [
    "fnames = te_batches.filenames\n",
    "fnames[:5]"
   ]
  },
  {
   "cell_type": "code",
   "execution_count": null,
   "metadata": {
    "collapsed": true
   },
   "outputs": [],
   "source": [
    "names = np.array(list(map(lambda x: x[8:].split('.')[0], fnames)))\n",
    "names"
   ]
  },
  {
   "cell_type": "code",
   "execution_count": null,
   "metadata": {
    "collapsed": true
   },
   "outputs": [],
   "source": [
    "print(names.shape, preds[:,1].shape)"
   ]
  },
  {
   "cell_type": "code",
   "execution_count": null,
   "metadata": {
    "collapsed": true
   },
   "outputs": [],
   "source": [
    "subm_data = np.stack((names, preds[:,1]), axis=1)\n",
    "subm_data.shape"
   ]
  },
  {
   "cell_type": "code",
   "execution_count": null,
   "metadata": {
    "collapsed": true
   },
   "outputs": [],
   "source": [
    "df = pd.DataFrame(subm_data, columns=['name','invasive'])\n",
    "df.head()"
   ]
  },
  {
   "cell_type": "code",
   "execution_count": null,
   "metadata": {
    "collapsed": true
   },
   "outputs": [],
   "source": [
    "df.to_csv(os.path.join(DATA_DIR, 'results', 'subm_may_27_2017_2.gz'), index=False, compression='gzip')"
   ]
  },
  {
   "cell_type": "code",
   "execution_count": 247,
   "metadata": {},
   "outputs": [
    {
     "name": "stdout",
     "output_type": "stream",
     "text": [
      "(1531,) (1531,)\n",
      "total 29K\r\n",
      "drwxr-x--- 2 yns207 yns207 4,0K 27 mai   22:36 \u001b[0m\u001b[01;34m.\u001b[0m/\r\n",
      "drwxr-x--- 6 yns207 yns207 4,0K 26 mai   19:52 \u001b[01;34m..\u001b[0m/\r\n",
      "-rw-r----- 1 yns207 yns207  18K 27 mai   22:36 \u001b[01;31msubm_may_27_2017_2.gz\u001b[0m\r\n",
      "-rw-r----- 1 yns207 yns207  17K 27 mai   11:45 \u001b[01;31msubm_may_27_2017.gz\u001b[0m\r\n"
     ]
    }
   ],
   "source": [
    "%ls -lah $DATA_DIR/results"
   ]
  },
  {
   "cell_type": "code",
   "execution_count": 26,
   "metadata": {
    "collapsed": true
   },
   "outputs": [],
   "source": [
    "inputs = Input(shape=(150,200,3))\n",
    "m = BatchNormalization()(inputs)\n",
    "\n",
    "m = Convolution2D(64, (3,3), activation='relu')(m)\n",
    "m = BatchNormalization()(m)\n",
    "m = MaxPooling2D((3,3))(m)\n",
    "m = Convolution2D(64, (3,3), activation='relu')(m)\n",
    "m = BatchNormalization()(m)\n",
    "m = MaxPooling2D((3,3))(m)\n",
    "\n",
    "m = Flatten()(m)\n",
    "m = Dense(100, activation='relu')(m)\n",
    "m = BatchNormalization()(m)\n",
    "m = Dropout(0.2)(m)\n",
    "\n",
    "preds = Dense(2, activation='softmax')(m)\n",
    "\n",
    "model = Model(inputs=inputs, outputs=preds)\n",
    "model.compile(Adam(), loss='binary_crossentropy', metrics=['accuracy'])"
   ]
  },
  {
   "cell_type": "code",
   "execution_count": 27,
   "metadata": {},
   "outputs": [
    {
     "name": "stdout",
     "output_type": "stream",
     "text": [
      "_________________________________________________________________\n",
      "Layer (type)                 Output Shape              Param #   \n",
      "=================================================================\n",
      "input_8 (InputLayer)         (None, 150, 200, 3)       0         \n",
      "_________________________________________________________________\n",
      "batch_normalization_25 (Batc (None, 150, 200, 3)       12        \n",
      "_________________________________________________________________\n",
      "conv2d_17 (Conv2D)           (None, 148, 198, 64)      1792      \n",
      "_________________________________________________________________\n",
      "batch_normalization_26 (Batc (None, 148, 198, 64)      256       \n",
      "_________________________________________________________________\n",
      "max_pooling2d_11 (MaxPooling (None, 49, 66, 64)        0         \n",
      "_________________________________________________________________\n",
      "conv2d_18 (Conv2D)           (None, 47, 64, 64)        36928     \n",
      "_________________________________________________________________\n",
      "batch_normalization_27 (Batc (None, 47, 64, 64)        256       \n",
      "_________________________________________________________________\n",
      "max_pooling2d_12 (MaxPooling (None, 15, 21, 64)        0         \n",
      "_________________________________________________________________\n",
      "flatten_8 (Flatten)          (None, 20160)             0         \n",
      "_________________________________________________________________\n",
      "dense_15 (Dense)             (None, 100)               2016100   \n",
      "_________________________________________________________________\n",
      "batch_normalization_28 (Batc (None, 100)               400       \n",
      "_________________________________________________________________\n",
      "dropout_4 (Dropout)          (None, 100)               0         \n",
      "_________________________________________________________________\n",
      "dense_16 (Dense)             (None, 2)                 202       \n",
      "=================================================================\n",
      "Total params: 2,055,946\n",
      "Trainable params: 2,055,484\n",
      "Non-trainable params: 462\n",
      "_________________________________________________________________\n"
     ]
    }
   ],
   "source": [
    "model.summary()"
   ]
  },
  {
   "cell_type": "code",
   "execution_count": 28,
   "metadata": {},
   "outputs": [
    {
     "name": "stdout",
     "output_type": "stream",
     "text": [
      "Epoch 1/5\n",
      "29/29 [==============================] - 402s - loss: 0.5602 - acc: 0.7840 - val_loss: 1.7378 - val_acc: 0.6754\n",
      "Epoch 2/5\n",
      "29/29 [==============================] - 394s - loss: 0.3028 - acc: 0.8763 - val_loss: 0.5677 - val_acc: 0.7211\n",
      "Epoch 3/5\n",
      "29/29 [==============================] - 398s - loss: 0.2537 - acc: 0.8949 - val_loss: 1.5480 - val_acc: 0.3813\n",
      "Epoch 4/5\n",
      "29/29 [==============================] - 398s - loss: 0.1975 - acc: 0.9228 - val_loss: 1.4954 - val_acc: 0.3660\n",
      "Epoch 5/5\n",
      "29/29 [==============================] - 400s - loss: 0.1345 - acc: 0.9530 - val_loss: 1.6966 - val_acc: 0.4837\n"
     ]
    }
   ],
   "source": [
    "hist = model.fit_generator(tr_batches, \n",
    "                           steps_per_epoch=(tr_batches.n//batch_size)+1,\n",
    "                           validation_data=va_batches,\n",
    "                           validation_steps=(va_batches.n//batch_size)+1,\n",
    "                           epochs=5\n",
    "                          )"
   ]
  },
  {
   "cell_type": "code",
   "execution_count": 29,
   "metadata": {},
   "outputs": [
    {
     "data": {
      "text/plain": [
       "{'acc': [0.78431372549019607,\n",
       "  0.87527233167411456,\n",
       "  0.89596949930024827,\n",
       "  0.92320261411936977,\n",
       "  0.95370370344398847],\n",
       " 'loss': [0.56119972350550629,\n",
       "  0.30379279451302715,\n",
       "  0.2516792604866111,\n",
       "  0.19668577757536196,\n",
       "  0.13319088151771777],\n",
       " 'val_acc': [0.6753812636165577,\n",
       "  0.72113289747362819,\n",
       "  0.381263616622663,\n",
       "  0.36601307189542481,\n",
       "  0.48366013104359828],\n",
       " 'val_loss': [1.737814094701098,\n",
       "  0.56770205289969522,\n",
       "  1.547986763494986,\n",
       "  1.4953710321247708,\n",
       "  1.6965879687556513]}"
      ]
     },
     "execution_count": 29,
     "metadata": {},
     "output_type": "execute_result"
    }
   ],
   "source": [
    "hist.history"
   ]
  },
  {
   "cell_type": "code",
   "execution_count": null,
   "metadata": {
    "collapsed": true
   },
   "outputs": [],
   "source": [
    "# ok lets try one conv layer since that didnt work"
   ]
  },
  {
   "cell_type": "code",
   "execution_count": 30,
   "metadata": {
    "collapsed": true
   },
   "outputs": [],
   "source": [
    "inputs = Input(shape=(150,200,3))\n",
    "m = BatchNormalization()(inputs)\n",
    "\n",
    "m = Convolution2D(64, (3,3), activation='relu')(m)\n",
    "m = BatchNormalization()(m)\n",
    "m = MaxPooling2D((3,3))(m)\n",
    "\n",
    "m = Flatten()(m)\n",
    "m = Dense(100, activation='relu')(m)\n",
    "m = BatchNormalization()(m)\n",
    "m = Dropout(0.2)(m)\n",
    "\n",
    "preds = Dense(2, activation='softmax')(m)\n",
    "\n",
    "model = Model(inputs=inputs, outputs=preds)\n",
    "model.compile(Adam(), loss='binary_crossentropy', metrics=['accuracy'])"
   ]
  },
  {
   "cell_type": "code",
   "execution_count": 31,
   "metadata": {},
   "outputs": [
    {
     "name": "stdout",
     "output_type": "stream",
     "text": [
      "Epoch 1/5\n",
      "29/29 [==============================] - 357s - loss: 0.7978 - acc: 0.7221 - val_loss: 1.5683 - val_acc: 0.7102\n",
      "Epoch 2/5\n",
      "29/29 [==============================] - 346s - loss: 0.4845 - acc: 0.7731 - val_loss: 0.8848 - val_acc: 0.7190\n",
      "Epoch 3/5\n",
      "29/29 [==============================] - 343s - loss: 0.4057 - acc: 0.8241 - val_loss: 0.6864 - val_acc: 0.7211\n",
      "Epoch 4/5\n",
      "29/29 [==============================] - 344s - loss: 0.3303 - acc: 0.8649 - val_loss: 0.7075 - val_acc: 0.7190\n",
      "Epoch 5/5\n",
      "29/29 [==============================] - 344s - loss: 0.2153 - acc: 0.9329 - val_loss: 0.7425 - val_acc: 0.7102\n"
     ]
    }
   ],
   "source": [
    "hist = model.fit_generator(tr_batches, \n",
    "                           steps_per_epoch=(tr_batches.n//batch_size)+1,\n",
    "                           validation_data=va_batches,\n",
    "                           validation_steps=(va_batches.n//batch_size)+1,\n",
    "                           epochs=5\n",
    "                          )"
   ]
  },
  {
   "cell_type": "code",
   "execution_count": 32,
   "metadata": {},
   "outputs": [
    {
     "data": {
      "text/plain": [
       "{'acc': [0.72113289747362819,\n",
       "  0.7728758173830369,\n",
       "  0.8246187358640118,\n",
       "  0.86492374753640366,\n",
       "  0.93246187415777471],\n",
       " 'loss': [0.80167517306238478,\n",
       "  0.48517796390716289,\n",
       "  0.40439385863950311,\n",
       "  0.3304192549782381,\n",
       "  0.21594068830049634],\n",
       " 'val_acc': [0.710239651416122,\n",
       "  0.71895424836601307,\n",
       "  0.72113289760348587,\n",
       "  0.71895424836601307,\n",
       "  0.710239651416122],\n",
       " 'val_loss': [1.5683467456216726,\n",
       "  0.88479509476515461,\n",
       "  0.68642806247168897,\n",
       "  0.70746179033793133,\n",
       "  0.74248941363624754]}"
      ]
     },
     "execution_count": 32,
     "metadata": {},
     "output_type": "execute_result"
    }
   ],
   "source": [
    "hist.history"
   ]
  },
  {
   "cell_type": "code",
   "execution_count": 36,
   "metadata": {},
   "outputs": [
    {
     "data": {
      "text/plain": [
       "array([ 0.47417554,  0.92614138,  0.95833862, ...,  0.85439134,\n",
       "        0.8925519 ,  0.89317912], dtype=float32)"
      ]
     },
     "execution_count": 36,
     "metadata": {},
     "output_type": "execute_result"
    }
   ],
   "source": [
    "preds = model.predict_generator(te_batches, (te_batches.n//batch_size)+1, workers=2)\n",
    "preds[:,1]"
   ]
  },
  {
   "cell_type": "code",
   "execution_count": 37,
   "metadata": {},
   "outputs": [
    {
     "data": {
      "text/plain": [
       "['unknown/324.jpg',\n",
       " 'unknown/47.jpg',\n",
       " 'unknown/966.jpg',\n",
       " 'unknown/1526.jpg',\n",
       " 'unknown/487.jpg']"
      ]
     },
     "execution_count": 37,
     "metadata": {},
     "output_type": "execute_result"
    }
   ],
   "source": [
    "fnames = te_batches.filenames\n",
    "fnames[:5]"
   ]
  },
  {
   "cell_type": "code",
   "execution_count": 38,
   "metadata": {},
   "outputs": [
    {
     "data": {
      "text/plain": [
       "array(['324', '47', '966', ..., '901', '1189', '125'], \n",
       "      dtype='<U4')"
      ]
     },
     "execution_count": 38,
     "metadata": {},
     "output_type": "execute_result"
    }
   ],
   "source": [
    "names = np.array(list(map(lambda x: x[8:].split('.')[0], fnames)))\n",
    "names"
   ]
  },
  {
   "cell_type": "code",
   "execution_count": 39,
   "metadata": {},
   "outputs": [
    {
     "name": "stdout",
     "output_type": "stream",
     "text": [
      "(1531,) (1531,)\n"
     ]
    }
   ],
   "source": [
    "print(names.shape, preds[:,1].shape)"
   ]
  },
  {
   "cell_type": "code",
   "execution_count": 40,
   "metadata": {},
   "outputs": [
    {
     "data": {
      "text/plain": [
       "(1531, 2)"
      ]
     },
     "execution_count": 40,
     "metadata": {},
     "output_type": "execute_result"
    }
   ],
   "source": [
    "subm_data = np.stack((names, preds[:,1]), axis=1)\n",
    "subm_data.shape"
   ]
  },
  {
   "cell_type": "code",
   "execution_count": 41,
   "metadata": {},
   "outputs": [
    {
     "data": {
      "text/html": [
       "<div>\n",
       "<style>\n",
       "    .dataframe thead tr:only-child th {\n",
       "        text-align: right;\n",
       "    }\n",
       "\n",
       "    .dataframe thead th {\n",
       "        text-align: left;\n",
       "    }\n",
       "\n",
       "    .dataframe tbody tr th {\n",
       "        vertical-align: top;\n",
       "    }\n",
       "</style>\n",
       "<table border=\"1\" class=\"dataframe\">\n",
       "  <thead>\n",
       "    <tr style=\"text-align: right;\">\n",
       "      <th></th>\n",
       "      <th>name</th>\n",
       "      <th>invasive</th>\n",
       "    </tr>\n",
       "  </thead>\n",
       "  <tbody>\n",
       "    <tr>\n",
       "      <th>0</th>\n",
       "      <td>324</td>\n",
       "      <td>0.4741755425930023</td>\n",
       "    </tr>\n",
       "    <tr>\n",
       "      <th>1</th>\n",
       "      <td>47</td>\n",
       "      <td>0.9261413812637329</td>\n",
       "    </tr>\n",
       "    <tr>\n",
       "      <th>2</th>\n",
       "      <td>966</td>\n",
       "      <td>0.9583386182785034</td>\n",
       "    </tr>\n",
       "    <tr>\n",
       "      <th>3</th>\n",
       "      <td>1526</td>\n",
       "      <td>0.9484215974807739</td>\n",
       "    </tr>\n",
       "    <tr>\n",
       "      <th>4</th>\n",
       "      <td>487</td>\n",
       "      <td>0.9151381850242615</td>\n",
       "    </tr>\n",
       "  </tbody>\n",
       "</table>\n",
       "</div>"
      ],
      "text/plain": [
       "   name            invasive\n",
       "0   324  0.4741755425930023\n",
       "1    47  0.9261413812637329\n",
       "2   966  0.9583386182785034\n",
       "3  1526  0.9484215974807739\n",
       "4   487  0.9151381850242615"
      ]
     },
     "execution_count": 41,
     "metadata": {},
     "output_type": "execute_result"
    }
   ],
   "source": [
    "df = pd.DataFrame(subm_data, columns=['name','invasive'])\n",
    "df.head()"
   ]
  },
  {
   "cell_type": "code",
   "execution_count": 42,
   "metadata": {
    "collapsed": true
   },
   "outputs": [],
   "source": [
    "df.to_csv(os.path.join(DATA_DIR, 'results', 'subm_may_29_2017_.gz'), index=False, compression='gzip')"
   ]
  },
  {
   "cell_type": "code",
   "execution_count": 43,
   "metadata": {},
   "outputs": [
    {
     "name": "stdout",
     "output_type": "stream",
     "text": [
      "total 49K\r\n",
      "drwxr-x--- 2 yns207 yns207 4,0K 29 mai   22:10 \u001b[0m\u001b[38;5;27m.\u001b[0m/\r\n",
      "drwxr-x--- 6 yns207 yns207 4,0K 26 mai   19:52 \u001b[38;5;27m..\u001b[0m/\r\n",
      "-rw-r----- 1 yns207 yns207  18K 27 mai   22:36 \u001b[38;5;9msubm_may_27_2017_2.gz\u001b[0m\r\n",
      "-rw-r----- 1 yns207 yns207  17K 27 mai   11:45 \u001b[38;5;9msubm_may_27_2017.gz\u001b[0m\r\n",
      "-rw-r----- 1 yns207 yns207  18K 29 mai   22:10 \u001b[38;5;9msubm_may_29_2017_.gz\u001b[0m\r\n"
     ]
    }
   ],
   "source": [
    "%ls -lah $DATA_DIR/results"
   ]
  },
  {
   "cell_type": "code",
   "execution_count": 56,
   "metadata": {
    "collapsed": true
   },
   "outputs": [],
   "source": [
    "#ok lets try the first model again...just a dense layer\n",
    "# inputs = Input(shape=(150,200,3))\n",
    "# m = BatchNor  malization()(inputs)\n",
    "\n",
    "# m = Convolution2D(64, (3,3), activation='relu')(m)\n",
    "# m = BatchNormalization()(m)\n",
    "# m = MaxPooling2D((3,3))(m)\n",
    "# m = Convolution2D(64, (3,3), activation='relu')(m)\n",
    "# m = BatchNormalization()(m)\n",
    "# m = MaxPooling2D((3,3))(m)\n",
    "\n",
    "# m = Flatten()(m)\n",
    "# m = Dense(100, activation='relu')(m)\n",
    "# m = BatchNormalization()(m)\n",
    "# m = Dropout(0.2)(m)\n",
    "\n",
    "# preds = Dense(2, activation='softmax')(m)\n",
    "\n",
    "# model = Model(inputs=inputs, outputs=preds)\n",
    "# model.compile(Adam(), loss='binary_crossentropy', metrics=['accuracy'])\n",
    "\n",
    "inputs = Input(shape=(150,200,3))\n",
    "m = BatchNormalization()(inputs)\n",
    "m = Dense(200, activation='relu')(m)\n",
    "m = BatchNormalization()(m)\n",
    "m = Dense(100, activation='relu')(m)\n",
    "m = BatchNormalization()(m)\n",
    "m = Dropout(0.5)(m)\n",
    "m = Flatten()(m)\n",
    "preds = Dense(2, activation='softmax')(m)\n",
    "model = Model(inputs=inputs, outputs=preds)\n",
    "model.compile(Adam(), loss='binary_crossentropy', metrics=['accuracy'])"
   ]
  },
  {
   "cell_type": "code",
   "execution_count": 57,
   "metadata": {},
   "outputs": [
    {
     "name": "stdout",
     "output_type": "stream",
     "text": [
      "_________________________________________________________________\n",
      "Layer (type)                 Output Shape              Param #   \n",
      "=================================================================\n",
      "input_14 (InputLayer)        (None, 150, 200, 3)       0         \n",
      "_________________________________________________________________\n",
      "batch_normalization_44 (Batc (None, 150, 200, 3)       12        \n",
      "_________________________________________________________________\n",
      "dense_31 (Dense)             (None, 150, 200, 200)     800       \n",
      "_________________________________________________________________\n",
      "batch_normalization_45 (Batc (None, 150, 200, 200)     800       \n",
      "_________________________________________________________________\n",
      "dense_32 (Dense)             (None, 150, 200, 100)     20100     \n",
      "_________________________________________________________________\n",
      "batch_normalization_46 (Batc (None, 150, 200, 100)     400       \n",
      "_________________________________________________________________\n",
      "dropout_9 (Dropout)          (None, 150, 200, 100)     0         \n",
      "_________________________________________________________________\n",
      "flatten_10 (Flatten)         (None, 3000000)           0         \n",
      "_________________________________________________________________\n",
      "dense_33 (Dense)             (None, 2)                 6000002   \n",
      "=================================================================\n",
      "Total params: 6,022,114\n",
      "Trainable params: 6,021,508\n",
      "Non-trainable params: 606\n",
      "_________________________________________________________________\n"
     ]
    }
   ],
   "source": [
    "model.summary()"
   ]
  },
  {
   "cell_type": "code",
   "execution_count": null,
   "metadata": {},
   "outputs": [
    {
     "name": "stdout",
     "output_type": "stream",
     "text": [
      "Epoch 1/5\n",
      "29/29 [==============================] - 1602s - loss: 6.2903 - acc: 0.5974 - val_loss: 10.5564 - val_acc: 0.3399\n",
      "Epoch 2/5\n",
      "29/29 [==============================] - 1589s - loss: 6.7271 - acc: 0.5803 - val_loss: 9.2886 - val_acc: 0.4074\n",
      "Epoch 3/5\n",
      " 6/29 [=====>........................] - ETA: 1150s - loss: 7.0133 - acc: 0.5625"
     ]
    }
   ],
   "source": [
    "hist = model.fit_generator(tr_batches, \n",
    "                           steps_per_epoch=(tr_batches.n//batch_size)+1,\n",
    "                           validation_data=va_batches,\n",
    "                           validation_steps=(va_batches.n//batch_size)+1,\n",
    "                           epochs=5\n",
    "                          )"
   ]
  },
  {
   "cell_type": "code",
   "execution_count": 60,
   "metadata": {},
   "outputs": [
    {
     "data": {
      "text/plain": [
       "{'acc': [0.5974945527276182,\n",
       "  0.58115468409586057,\n",
       "  0.54466230975776453,\n",
       "  0.57570806074246339,\n",
       "  0.60457516365840802],\n",
       " 'loss': [6.2875109944727949,\n",
       "  6.7135525476958495,\n",
       "  7.2911616836497988,\n",
       "  6.7987882161192381,\n",
       "  6.3386255796179016],\n",
       " 'val_acc': [0.33986928104575165,\n",
       "  0.40740740766712263,\n",
       "  0.32679738562091504,\n",
       "  0.42047930289717284,\n",
       "  0.44662309381177484],\n",
       " 'val_loss': [10.556353134786901,\n",
       "  9.2886181272452699,\n",
       "  10.742770633406629,\n",
       "  9.2565626069611202,\n",
       "  8.8715121699314494]}"
      ]
     },
     "execution_count": 60,
     "metadata": {},
     "output_type": "execute_result"
    }
   ],
   "source": [
    "hist.history"
   ]
  },
  {
   "cell_type": "code",
   "execution_count": null,
   "metadata": {
    "collapsed": true
   },
   "outputs": [],
   "source": [
    "# ok so all these models are WORSE than the original model i had \n",
    "# (which must have been like a 100 node dense layer with bathcnorm)\n",
    "# what i really should do is evaluate the problem by exploring the data\n",
    "# instead of trying random stuff.\n",
    "\n",
    "# so first ima run the base model with 100 dense nodes, and then chart the laerning curves.\n",
    "# then ill figure out what kind of problem this is and choose the right architecture."
   ]
  },
  {
   "cell_type": "code",
   "execution_count": 68,
   "metadata": {
    "collapsed": true
   },
   "outputs": [],
   "source": [
    "inputs = Input(shape=(150,200,3))\n",
    "m = BatchNormalization()(inputs)\n",
    "m = Flatten()(m)\n",
    "m = Dense(200, activation='relu')(m)\n",
    "m = BatchNormalization()(m)\n",
    "preds = Dense(2, activation='softmax')(m)\n",
    "model = Model(inputs=inputs, outputs=preds)\n",
    "model.compile(Adam(), loss='binary_crossentropy', metrics=['accuracy'])"
   ]
  },
  {
   "cell_type": "code",
   "execution_count": 69,
   "metadata": {},
   "outputs": [
    {
     "name": "stdout",
     "output_type": "stream",
     "text": [
      "Epoch 1/15\n",
      "29/29 [==============================] - 70s - loss: 2.3493 - acc: 0.6517 - val_loss: 9.1823 - val_acc: 0.3660\n",
      "Epoch 2/15\n",
      "29/29 [==============================] - 58s - loss: 0.9013 - acc: 0.7401 - val_loss: 1.1219 - val_acc: 0.5904\n",
      "Epoch 3/15\n",
      "29/29 [==============================] - 58s - loss: 0.4508 - acc: 0.8069 - val_loss: 0.9019 - val_acc: 0.5795\n",
      "Epoch 4/15\n",
      "29/29 [==============================] - 57s - loss: 0.3405 - acc: 0.8788 - val_loss: 0.6232 - val_acc: 0.6972\n",
      "Epoch 5/15\n",
      "29/29 [==============================] - 58s - loss: 0.2195 - acc: 0.9408 - val_loss: 0.5867 - val_acc: 0.7298\n",
      "Epoch 6/15\n",
      "29/29 [==============================] - 58s - loss: 0.1392 - acc: 0.9718 - val_loss: 0.6407 - val_acc: 0.7190\n",
      "Epoch 7/15\n",
      "29/29 [==============================] - 57s - loss: 0.0722 - acc: 0.9946 - val_loss: 0.6237 - val_acc: 0.7473\n",
      "Epoch 8/15\n",
      "29/29 [==============================] - 58s - loss: 0.0340 - acc: 0.9995 - val_loss: 0.5859 - val_acc: 0.7603\n",
      "Epoch 9/15\n",
      "29/29 [==============================] - 58s - loss: 0.0231 - acc: 0.9995 - val_loss: 0.6696 - val_acc: 0.7538\n",
      "Epoch 10/15\n",
      "29/29 [==============================] - 58s - loss: 0.0189 - acc: 0.9989 - val_loss: 0.6975 - val_acc: 0.7538\n",
      "Epoch 11/15\n",
      "29/29 [==============================] - 58s - loss: 0.0123 - acc: 1.0000 - val_loss: 0.6392 - val_acc: 0.7691\n",
      "Epoch 12/15\n",
      "29/29 [==============================] - 58s - loss: 0.0087 - acc: 1.0000 - val_loss: 0.6383 - val_acc: 0.7712\n",
      "Epoch 13/15\n",
      "29/29 [==============================] - 58s - loss: 0.0102 - acc: 1.0000 - val_loss: 0.6817 - val_acc: 0.7691\n",
      "Epoch 14/15\n",
      "29/29 [==============================] - 58s - loss: 0.0159 - acc: 0.9989 - val_loss: 0.6327 - val_acc: 0.7778\n",
      "Epoch 15/15\n",
      "29/29 [==============================] - 58s - loss: 0.0106 - acc: 0.9995 - val_loss: 0.6486 - val_acc: 0.7691\n"
     ]
    }
   ],
   "source": [
    "hist = model.fit_generator(tr_batches, \n",
    "                           steps_per_epoch=(tr_batches.n//batch_size)+1,\n",
    "                           validation_data=va_batches,\n",
    "                           validation_steps=(va_batches.n//batch_size)+1,\n",
    "                           epochs=15\n",
    "                          )"
   ]
  },
  {
   "cell_type": "code",
   "execution_count": 70,
   "metadata": {},
   "outputs": [
    {
     "data": {
      "text/plain": [
       "{'acc': [0.65087146021441955,\n",
       "  0.74019607895080297,\n",
       "  0.80610021760520856,\n",
       "  0.87962963001920247,\n",
       "  0.94063180788929424,\n",
       "  0.97222222235207989,\n",
       "  0.99455337690631807,\n",
       "  0.99945533769063177,\n",
       "  0.99945533769063177,\n",
       "  0.99891067538126366,\n",
       "  1.0,\n",
       "  1.0,\n",
       "  1.0,\n",
       "  0.99891067538126366,\n",
       "  0.99945533769063177],\n",
       " 'loss': [2.3588471308772601,\n",
       "  0.90293662519496509,\n",
       "  0.45224285839949296,\n",
       "  0.340413342958442,\n",
       "  0.21949456200360731,\n",
       "  0.13870743439737748,\n",
       "  0.072486617093122596,\n",
       "  0.033910625932782823,\n",
       "  0.023064321077434845,\n",
       "  0.018946477280998672,\n",
       "  0.012245394808924016,\n",
       "  0.0087360284120769679,\n",
       "  0.010159081444631214,\n",
       "  0.01598235764307394,\n",
       "  0.010626772357747446],\n",
       " 'val_acc': [0.36601307196035365,\n",
       "  0.59041394354990628,\n",
       "  0.57952069736254241,\n",
       "  0.69716775625100058,\n",
       "  0.72984749507280733,\n",
       "  0.71895424888544357,\n",
       "  0.74727668832330141,\n",
       "  0.76034858452728371,\n",
       "  0.75381263668500775,\n",
       "  0.75381263603571969,\n",
       "  0.76906318147717478,\n",
       "  0.77124183006535951,\n",
       "  0.76906318147717478,\n",
       "  0.77777777777777779,\n",
       "  0.76906318147717478],\n",
       " 'val_loss': [9.1822738364371332,\n",
       "  1.1219388311465062,\n",
       "  0.90190785694745634,\n",
       "  0.6232491867994171,\n",
       "  0.58669120475877079,\n",
       "  0.64069099915832739,\n",
       "  0.62370416411647089,\n",
       "  0.58592841421986452,\n",
       "  0.66958702915634205,\n",
       "  0.69749036723492197,\n",
       "  0.63917025842567932,\n",
       "  0.63831950993579456,\n",
       "  0.68166984179440671,\n",
       "  0.63266024409036492,\n",
       "  0.64861076381990856]}"
      ]
     },
     "execution_count": 70,
     "metadata": {},
     "output_type": "execute_result"
    }
   ],
   "source": [
    "hist.history"
   ]
  },
  {
   "cell_type": "code",
   "execution_count": 74,
   "metadata": {},
   "outputs": [
    {
     "data": {
      "image/png": "[encoded data removed]",
      "text/plain": [
       "<matplotlib.figure.Figure at 0x2b04f4d5d2e8>"
      ]
     },
     "metadata": {},
     "output_type": "display_data"
    }
   ],
   "source": [
    "#now plot the learning curves\n",
    "plt.plot(hist.history['acc'])\n",
    "plt.plot(hist.history['val_acc'])\n",
    "plt.title('model acc')\n",
    "plt.ylabel('acc')\n",
    "plt.xlabel('epoch')\n",
    "plt.legend(['train', 'valid'], loc='upper left')\n",
    "plt.show()"
   ]
  },
  {
   "cell_type": "code",
   "execution_count": 75,
   "metadata": {},
   "outputs": [
    {
     "data": {
      "image/png": "[encoded data removed]",
      "text/plain": [
       "<matplotlib.figure.Figure at 0x2b04f5039fd0>"
      ]
     },
     "metadata": {},
     "output_type": "display_data"
    }
   ],
   "source": [
    "plt.plot(hist.history['loss'])\n",
    "plt.plot(hist.history['val_loss'])\n",
    "plt.title('model loss')\n",
    "plt.xlabel('epoch')\n",
    "plt.ylabel('loss')\n",
    "plt.legend(['train', 'valid'], loc='upper left')\n",
    "plt.show()"
   ]
  },
  {
   "cell_type": "code",
   "execution_count": null,
   "metadata": {
    "collapsed": true
   },
   "outputs": [],
   "source": [
    "# lets try to submit this\n",
    "# before we tried to submit a 100 dense model and\n",
    "# that scored pretty well"
   ]
  },
  {
   "cell_type": "code",
   "execution_count": 76,
   "metadata": {},
   "outputs": [
    {
     "data": {
      "text/plain": [
       "array([ 0.60473955,  0.99239892,  0.90256917, ...,  0.99779862,\n",
       "        0.92461187,  0.82978314], dtype=float32)"
      ]
     },
     "execution_count": 76,
     "metadata": {},
     "output_type": "execute_result"
    }
   ],
   "source": [
    "preds = model.predict_generator(te_batches, (te_batches.n//batch_size)+1, workers=2)\n",
    "preds[:,1]"
   ]
  },
  {
   "cell_type": "code",
   "execution_count": 77,
   "metadata": {},
   "outputs": [
    {
     "data": {
      "text/plain": [
       "['unknown/324.jpg',\n",
       " 'unknown/47.jpg',\n",
       " 'unknown/966.jpg',\n",
       " 'unknown/1526.jpg',\n",
       " 'unknown/487.jpg']"
      ]
     },
     "execution_count": 77,
     "metadata": {},
     "output_type": "execute_result"
    }
   ],
   "source": [
    "fnames = te_batches.filenames\n",
    "fnames[:5]"
   ]
  },
  {
   "cell_type": "code",
   "execution_count": 78,
   "metadata": {},
   "outputs": [
    {
     "data": {
      "text/plain": [
       "array(['324', '47', '966', ..., '901', '1189', '125'], \n",
       "      dtype='<U4')"
      ]
     },
     "execution_count": 78,
     "metadata": {},
     "output_type": "execute_result"
    }
   ],
   "source": [
    "names = np.array(list(map(lambda x: x[8:].split('.')[0], fnames)))\n",
    "names"
   ]
  },
  {
   "cell_type": "code",
   "execution_count": 79,
   "metadata": {},
   "outputs": [
    {
     "name": "stdout",
     "output_type": "stream",
     "text": [
      "(1531,) (1531,)\n"
     ]
    }
   ],
   "source": [
    "print(names.shape, preds[:,1].shape)"
   ]
  },
  {
   "cell_type": "code",
   "execution_count": 80,
   "metadata": {},
   "outputs": [
    {
     "data": {
      "text/plain": [
       "(1531, 2)"
      ]
     },
     "execution_count": 80,
     "metadata": {},
     "output_type": "execute_result"
    }
   ],
   "source": [
    "subm_data = np.stack((names, preds[:,1]), axis=1)\n",
    "subm_data.shape"
   ]
  },
  {
   "cell_type": "code",
   "execution_count": 81,
   "metadata": {},
   "outputs": [
    {
     "data": {
      "text/html": [
       "<div>\n",
       "<style>\n",
       "    .dataframe thead tr:only-child th {\n",
       "        text-align: right;\n",
       "    }\n",
       "\n",
       "    .dataframe thead th {\n",
       "        text-align: left;\n",
       "    }\n",
       "\n",
       "    .dataframe tbody tr th {\n",
       "        vertical-align: top;\n",
       "    }\n",
       "</style>\n",
       "<table border=\"1\" class=\"dataframe\">\n",
       "  <thead>\n",
       "    <tr style=\"text-align: right;\">\n",
       "      <th></th>\n",
       "      <th>name</th>\n",
       "      <th>invasive</th>\n",
       "    </tr>\n",
       "  </thead>\n",
       "  <tbody>\n",
       "    <tr>\n",
       "      <th>0</th>\n",
       "      <td>324</td>\n",
       "      <td>0.6047395467758179</td>\n",
       "    </tr>\n",
       "    <tr>\n",
       "      <th>1</th>\n",
       "      <td>47</td>\n",
       "      <td>0.9923989176750183</td>\n",
       "    </tr>\n",
       "    <tr>\n",
       "      <th>2</th>\n",
       "      <td>966</td>\n",
       "      <td>0.9025691747665405</td>\n",
       "    </tr>\n",
       "    <tr>\n",
       "      <th>3</th>\n",
       "      <td>1526</td>\n",
       "      <td>0.8828146457672119</td>\n",
       "    </tr>\n",
       "    <tr>\n",
       "      <th>4</th>\n",
       "      <td>487</td>\n",
       "      <td>0.3911682665348053</td>\n",
       "    </tr>\n",
       "  </tbody>\n",
       "</table>\n",
       "</div>"
      ],
      "text/plain": [
       "   name            invasive\n",
       "0   324  0.6047395467758179\n",
       "1    47  0.9923989176750183\n",
       "2   966  0.9025691747665405\n",
       "3  1526  0.8828146457672119\n",
       "4   487  0.3911682665348053"
      ]
     },
     "execution_count": 81,
     "metadata": {},
     "output_type": "execute_result"
    }
   ],
   "source": [
    "df = pd.DataFrame(subm_data, columns=['name','invasive'])\n",
    "df.head()"
   ]
  },
  {
   "cell_type": "code",
   "execution_count": 84,
   "metadata": {
    "collapsed": true
   },
   "outputs": [],
   "source": [
    "df.to_csv(os.path.join(DATA_DIR, 'results', 'subm_may_30_2017.gz'), index=False, compression='gzip')"
   ]
  },
  {
   "cell_type": "code",
   "execution_count": 85,
   "metadata": {},
   "outputs": [
    {
     "name": "stdout",
     "output_type": "stream",
     "text": [
      "total 69K\r\n",
      "drwxr-x--- 2 yns207 yns207 4,0K 30 mai   14:06 \u001b[0m\u001b[38;5;27m.\u001b[0m/\r\n",
      "drwxr-x--- 6 yns207 yns207 4,0K 26 mai   19:52 \u001b[38;5;27m..\u001b[0m/\r\n",
      "-rw-r----- 1 yns207 yns207  18K 27 mai   22:36 \u001b[38;5;9msubm_may_27_2017_2.gz\u001b[0m\r\n",
      "-rw-r----- 1 yns207 yns207  17K 27 mai   11:45 \u001b[38;5;9msubm_may_27_2017.gz\u001b[0m\r\n",
      "-rw-r----- 1 yns207 yns207  18K 30 mai   14:04 \u001b[38;5;9msubm_may_29_2017_.gz\u001b[0m\r\n",
      "-rw-r----- 1 yns207 yns207  18K 30 mai   14:06 \u001b[38;5;9msubm_may_30_2017.gz\u001b[0m\r\n"
     ]
    }
   ],
   "source": [
    "%ls -lah $DATA_DIR/results"
   ]
  },
  {
   "cell_type": "code",
   "execution_count": 86,
   "metadata": {
    "collapsed": true
   },
   "outputs": [],
   "source": [
    "inputs = Input(shape=(150,200,3))\n",
    "m = BatchNormalization()(inputs)\n",
    "m = Flatten()(m)\n",
    "m = Dense(100, activation='relu')(m)\n",
    "m = BatchNormalization()(m)\n",
    "preds = Dense(2, activation='softmax')(m)\n",
    "model = Model(inputs=inputs, outputs=preds)\n",
    "model.compile(Adam(), loss='binary_crossentropy', metrics=['accuracy'])"
   ]
  },
  {
   "cell_type": "code",
   "execution_count": 87,
   "metadata": {},
   "outputs": [
    {
     "name": "stdout",
     "output_type": "stream",
     "text": [
      "Epoch 1/10\n",
      "29/29 [==============================] - 68s - loss: 2.1293 - acc: 0.6073 - val_loss: 3.9577 - val_acc: 0.6993\n",
      "Epoch 2/10\n",
      "29/29 [==============================] - 55s - loss: 0.5780 - acc: 0.7372 - val_loss: 1.1754 - val_acc: 0.7168\n",
      "Epoch 3/10\n",
      "29/29 [==============================] - 55s - loss: 0.4511 - acc: 0.8003 - val_loss: 0.6977 - val_acc: 0.7516\n",
      "Epoch 4/10\n",
      "29/29 [==============================] - 55s - loss: 0.3778 - acc: 0.8419 - val_loss: 0.5670 - val_acc: 0.7734\n",
      "Epoch 5/10\n",
      "29/29 [==============================] - 56s - loss: 0.3080 - acc: 0.8943 - val_loss: 0.6279 - val_acc: 0.7407\n",
      "Epoch 6/10\n",
      "29/29 [==============================] - 55s - loss: 0.2083 - acc: 0.9419 - val_loss: 0.6101 - val_acc: 0.7560\n",
      "Epoch 7/10\n",
      "29/29 [==============================] - 55s - loss: 0.1303 - acc: 0.9768 - val_loss: 0.8990 - val_acc: 0.6993\n",
      "Epoch 8/10\n",
      "29/29 [==============================] - 55s - loss: 0.0790 - acc: 0.9908 - val_loss: 0.6817 - val_acc: 0.7407\n",
      "Epoch 9/10\n",
      "29/29 [==============================] - 55s - loss: 0.0500 - acc: 0.9962 - val_loss: 0.7021 - val_acc: 0.7386\n",
      "Epoch 10/10\n",
      "29/29 [==============================] - 56s - loss: 0.0461 - acc: 0.9935 - val_loss: 0.6222 - val_acc: 0.7712\n"
     ]
    }
   ],
   "source": [
    "hist = model.fit_generator(tr_batches, \n",
    "                           steps_per_epoch=(tr_batches.n//batch_size)+1,\n",
    "                           validation_data=va_batches,\n",
    "                           validation_steps=(va_batches.n//batch_size)+1,\n",
    "                           epochs=10\n",
    "                          )"
   ]
  },
  {
   "cell_type": "code",
   "execution_count": 88,
   "metadata": {},
   "outputs": [
    {
     "data": {
      "text/plain": [
       "{'acc': [0.60675381328545364,\n",
       "  0.73801742984318786,\n",
       "  0.80010893233201608,\n",
       "  0.84259259207316217,\n",
       "  0.89488017364265093,\n",
       "  0.9422657958562598,\n",
       "  0.9765795206971678,\n",
       "  0.9907407407407407,\n",
       "  0.99618736383442263,\n",
       "  0.99346405228758172],\n",
       " 'loss': [2.1362128133088154,\n",
       "  0.57843277553068007,\n",
       "  0.45116836670177435,\n",
       "  0.37651102449379714,\n",
       "  0.30728714255725637,\n",
       "  0.20842472829070746,\n",
       "  0.13073219740377792,\n",
       "  0.079160834352175399,\n",
       "  0.049836230563701886,\n",
       "  0.046094403506818683],\n",
       " 'val_acc': [0.69934640522875813,\n",
       "  0.71677559912854028,\n",
       "  0.75163398692810457,\n",
       "  0.7734204793028322,\n",
       "  0.7407407407407407,\n",
       "  0.75599128540305016,\n",
       "  0.69934640522875813,\n",
       "  0.7407407407407407,\n",
       "  0.73856209150326801,\n",
       "  0.77124183006535951],\n",
       " 'val_loss': [3.9576841918388266,\n",
       "  1.1754140507080846,\n",
       "  0.69773448245652625,\n",
       "  0.56704868395733676,\n",
       "  0.62786842361579531,\n",
       "  0.61014276135850831,\n",
       "  0.89904705086856884,\n",
       "  0.68171958997034043,\n",
       "  0.70208379949294919,\n",
       "  0.62219940995988243]}"
      ]
     },
     "execution_count": 88,
     "metadata": {},
     "output_type": "execute_result"
    }
   ],
   "source": [
    "hist.history"
   ]
  },
  {
   "cell_type": "code",
   "execution_count": 89,
   "metadata": {},
   "outputs": [
    {
     "data": {
      "image/png": "[encoded data removed]",
      "text/plain": [
       "<matplotlib.figure.Figure at 0x2b04f5776240>"
      ]
     },
     "metadata": {},
     "output_type": "display_data"
    }
   ],
   "source": [
    "#now plot the learning curves\n",
    "plt.plot(hist.history['acc'])\n",
    "plt.plot(hist.history['val_acc'])\n",
    "plt.title('model acc')\n",
    "plt.ylabel('acc')\n",
    "plt.xlabel('epoch')\n",
    "plt.legend(['train', 'valid'], loc='upper left')\n",
    "plt.show()"
   ]
  },
  {
   "cell_type": "code",
   "execution_count": 90,
   "metadata": {},
   "outputs": [
    {
     "data": {
      "image/png": "[encoded data removed]",
      "text/plain": [
       "<matplotlib.figure.Figure at 0x2b04f57e6a20>"
      ]
     },
     "metadata": {},
     "output_type": "display_data"
    }
   ],
   "source": [
    "plt.plot(hist.history['loss'])\n",
    "plt.plot(hist.history['val_loss'])\n",
    "plt.title('model loss')\n",
    "plt.xlabel('epoch')\n",
    "plt.ylabel('loss')\n",
    "plt.legend(['train', 'valid'], loc='upper left')\n",
    "plt.show()"
   ]
  },
  {
   "cell_type": "code",
   "execution_count": 91,
   "metadata": {},
   "outputs": [
    {
     "data": {
      "text/plain": [
       "array([ 0.99726188,  0.94682741,  0.96147537, ...,  0.51398587,\n",
       "        0.61035168,  0.96016949], dtype=float32)"
      ]
     },
     "execution_count": 91,
     "metadata": {},
     "output_type": "execute_result"
    }
   ],
   "source": [
    "preds = model.predict_generator(te_batches, (te_batches.n//batch_size)+1, workers=2)\n",
    "preds[:,1]"
   ]
  },
  {
   "cell_type": "code",
   "execution_count": 92,
   "metadata": {},
   "outputs": [
    {
     "data": {
      "text/plain": [
       "['unknown/324.jpg',\n",
       " 'unknown/47.jpg',\n",
       " 'unknown/966.jpg',\n",
       " 'unknown/1526.jpg',\n",
       " 'unknown/487.jpg']"
      ]
     },
     "execution_count": 92,
     "metadata": {},
     "output_type": "execute_result"
    }
   ],
   "source": [
    "fnames = te_batches.filenames\n",
    "fnames[:5]"
   ]
  },
  {
   "cell_type": "code",
   "execution_count": 93,
   "metadata": {},
   "outputs": [
    {
     "data": {
      "text/plain": [
       "array(['324', '47', '966', ..., '901', '1189', '125'], \n",
       "      dtype='<U4')"
      ]
     },
     "execution_count": 93,
     "metadata": {},
     "output_type": "execute_result"
    }
   ],
   "source": [
    "names = np.array(list(map(lambda x: x[8:].split('.')[0], fnames)))\n",
    "names"
   ]
  },
  {
   "cell_type": "code",
   "execution_count": 94,
   "metadata": {},
   "outputs": [
    {
     "name": "stdout",
     "output_type": "stream",
     "text": [
      "(1531,) (1531,)\n"
     ]
    }
   ],
   "source": [
    "print(names.shape, preds[:,1].shape)"
   ]
  },
  {
   "cell_type": "code",
   "execution_count": 95,
   "metadata": {},
   "outputs": [
    {
     "data": {
      "text/plain": [
       "(1531, 2)"
      ]
     },
     "execution_count": 95,
     "metadata": {},
     "output_type": "execute_result"
    }
   ],
   "source": [
    "subm_data = np.stack((names, preds[:,1]), axis=1)\n",
    "subm_data.shape"
   ]
  },
  {
   "cell_type": "code",
   "execution_count": 96,
   "metadata": {},
   "outputs": [
    {
     "data": {
      "text/html": [
       "<div>\n",
       "<style>\n",
       "    .dataframe thead tr:only-child th {\n",
       "        text-align: right;\n",
       "    }\n",
       "\n",
       "    .dataframe thead th {\n",
       "        text-align: left;\n",
       "    }\n",
       "\n",
       "    .dataframe tbody tr th {\n",
       "        vertical-align: top;\n",
       "    }\n",
       "</style>\n",
       "<table border=\"1\" class=\"dataframe\">\n",
       "  <thead>\n",
       "    <tr style=\"text-align: right;\">\n",
       "      <th></th>\n",
       "      <th>name</th>\n",
       "      <th>invasive</th>\n",
       "    </tr>\n",
       "  </thead>\n",
       "  <tbody>\n",
       "    <tr>\n",
       "      <th>0</th>\n",
       "      <td>324</td>\n",
       "      <td>0.9972618818283081</td>\n",
       "    </tr>\n",
       "    <tr>\n",
       "      <th>1</th>\n",
       "      <td>47</td>\n",
       "      <td>0.9468274116516113</td>\n",
       "    </tr>\n",
       "    <tr>\n",
       "      <th>2</th>\n",
       "      <td>966</td>\n",
       "      <td>0.9614753723144531</td>\n",
       "    </tr>\n",
       "    <tr>\n",
       "      <th>3</th>\n",
       "      <td>1526</td>\n",
       "      <td>0.9923864603042603</td>\n",
       "    </tr>\n",
       "    <tr>\n",
       "      <th>4</th>\n",
       "      <td>487</td>\n",
       "      <td>0.9077484011650085</td>\n",
       "    </tr>\n",
       "  </tbody>\n",
       "</table>\n",
       "</div>"
      ],
      "text/plain": [
       "   name            invasive\n",
       "0   324  0.9972618818283081\n",
       "1    47  0.9468274116516113\n",
       "2   966  0.9614753723144531\n",
       "3  1526  0.9923864603042603\n",
       "4   487  0.9077484011650085"
      ]
     },
     "execution_count": 96,
     "metadata": {},
     "output_type": "execute_result"
    }
   ],
   "source": [
    "df = pd.DataFrame(subm_data, columns=['name','invasive'])\n",
    "df.head()"
   ]
  },
  {
   "cell_type": "code",
   "execution_count": 97,
   "metadata": {
    "collapsed": true
   },
   "outputs": [],
   "source": [
    "df.to_csv(os.path.join(DATA_DIR, 'results', 'subm_may_30_2017_2.gz'), index=False, compression='gzip')"
   ]
  },
  {
   "cell_type": "code",
   "execution_count": 98,
   "metadata": {},
   "outputs": [
    {
     "name": "stdout",
     "output_type": "stream",
     "text": [
      "total 89K\r\n",
      "drwxr-x--- 2 yns207 yns207 4,0K 30 mai   14:56 \u001b[0m\u001b[38;5;27m.\u001b[0m/\r\n",
      "drwxr-x--- 6 yns207 yns207 4,0K 26 mai   19:52 \u001b[38;5;27m..\u001b[0m/\r\n",
      "-rw-r----- 1 yns207 yns207  18K 27 mai   22:36 \u001b[38;5;9msubm_may_27_2017_2.gz\u001b[0m\r\n",
      "-rw-r----- 1 yns207 yns207  17K 27 mai   11:45 \u001b[38;5;9msubm_may_27_2017.gz\u001b[0m\r\n",
      "-rw-r----- 1 yns207 yns207  18K 30 mai   14:04 \u001b[38;5;9msubm_may_29_2017_.gz\u001b[0m\r\n",
      "-rw-r----- 1 yns207 yns207  18K 30 mai   14:56 \u001b[38;5;9msubm_may_30_2017_2.gz\u001b[0m\r\n",
      "-rw-r----- 1 yns207 yns207  18K 30 mai   14:06 \u001b[38;5;9msubm_may_30_2017.gz\u001b[0m\r\n"
     ]
    }
   ],
   "source": [
    "%ls -lah $DATA_DIR/results"
   ]
  },
  {
   "cell_type": "code",
   "execution_count": null,
   "metadata": {
    "collapsed": true
   },
   "outputs": [],
   "source": []
  }
 ],
 "metadata": {
  "kernelspec": {
   "display_name": "Python 3",
   "language": "python",
   "name": "python3"
  },
  "language_info": {
   "codemirror_mode": {
    "name": "ipython",
    "version": 3
   },
   "file_extension": ".py",
   "mimetype": "text/x-python",
   "name": "python",
   "nbconvert_exporter": "python",
   "pygments_lexer": "ipython3",
   "version": "3.5.3"
  }
 },
 "nbformat": 4,
 "nbformat_minor": 2
}
