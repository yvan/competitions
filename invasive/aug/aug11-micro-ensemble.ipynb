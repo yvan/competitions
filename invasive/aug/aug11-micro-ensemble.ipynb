{
 "cells": [
  {
   "cell_type": "code",
   "execution_count": 13,
   "metadata": {
    "collapsed": false
   },
   "outputs": [
    {
     "data": {
      "text/plain": [
       "([name: \"/cpu:0\"\n",
       "  device_type: \"CPU\"\n",
       "  memory_limit: 268435456\n",
       "  locality {\n",
       "  }\n",
       "  incarnation: 4758454870926726169, name: \"/gpu:0\"\n",
       "  device_type: \"GPU\"\n",
       "  memory_limit: 303824896\n",
       "  locality {\n",
       "    bus_id: 2\n",
       "  }\n",
       "  incarnation: 9472406446308518386\n",
       "  physical_device_desc: \"device: 0, name: Tesla K80, pci bus id: 0000:85:00.0\"],\n",
       " 'keras version: 2.0.6')"
      ]
     },
     "execution_count": 13,
     "metadata": {},
     "output_type": "execute_result"
    }
   ],
   "source": [
    "import os, glob, bcolz, gc\n",
    "\n",
    "import numpy as np\n",
    "import pandas as pd\n",
    "\n",
    "from tqdm import tqdm\n",
    "from scipy import ndimage, misc\n",
    "from scipy.stats import rankdata\n",
    "\n",
    "from sklearn.model_selection import train_test_split, KFold\n",
    "from sklearn.metrics import roc_auc_score\n",
    "from sklearn.preprocessing import MinMaxScaler\n",
    "\n",
    "import keras\n",
    "from keras import backend as K\n",
    "from keras import optimizers\n",
    "from keras.models import Model, load_model\n",
    "\n",
    "from keras.applications.inception_v3 import preprocess_input as preprocess_input_inceptionv3\n",
    "\n",
    "from tensorflow.python.client import device_lib\n",
    "device_lib.list_local_devices(), 'keras version: {}'.format(keras.__version__)"
   ]
  },
  {
   "cell_type": "code",
   "execution_count": 2,
   "metadata": {
    "collapsed": true
   },
   "outputs": [],
   "source": [
    "path = os.path.join('/scratch', 'yns207', 'data_invasive')\n",
    "train_set = pd.read_csv(os.path.join(path, 'train_labels.csv'))\n",
    "test_set = pd.read_csv(os.path.join(path, 'sample_submission.csv'))\n",
    "\n",
    "def delete_model(model, clear_session=True):\n",
    "    '''removes model!\n",
    "    '''\n",
    "    del model\n",
    "    gc.collect()\n",
    "    if clear_session: K.clear_session()\n",
    "\n",
    "def read_img(img_path, img_shape):\n",
    "    img = misc.imread(img_path)\n",
    "    img = misc.imresize(img, img_shape)\n",
    "    return img\n",
    "\n",
    "def read_imgs(img_height, img_width):\n",
    "    train_img, test_img = [],[]\n",
    "    for img_path in tqdm(train_set['name'].iloc[:]):\n",
    "        train_img.append(read_img(os.path.join(path, 'train', str(img_path)+'.jpg'), (img_height, img_width)))\n",
    "\n",
    "    for img_path in tqdm(test_set['name'].iloc[:]):\n",
    "        test_img.append(read_img(os.path.join(path, 'test', str(img_path)+'.jpg'), (img_height, img_width)))\n",
    "    return np.array(train_img), np.array(test_img)"
   ]
  },
  {
   "cell_type": "code",
   "execution_count": 3,
   "metadata": {
    "collapsed": false
   },
   "outputs": [
    {
     "name": "stderr",
     "output_type": "stream",
     "text": [
      "100%|██████████| 2295/2295 [01:13<00:00, 31.25it/s]\n",
      "100%|██████████| 1531/1531 [00:47<00:00, 32.18it/s]\n",
      "100%|██████████| 2295/2295 [01:18<00:00, 29.73it/s]\n",
      "100%|██████████| 1531/1531 [00:50<00:00, 30.57it/s]\n"
     ]
    }
   ],
   "source": [
    "train_img_299, test_img_299 = read_imgs(299,299)\n",
    "train_img_450, test_img_450 = read_imgs(450,450)\n",
    "train_labels = train_set['invasive'].values"
   ]
  },
  {
   "cell_type": "code",
   "execution_count": 4,
   "metadata": {
    "collapsed": false
   },
   "outputs": [
    {
     "name": "stdout",
     "output_type": "stream",
     "text": [
      "invasive_incepv3_aug10_kfolds_299x299_0.model\n"
     ]
    },
    {
     "name": "stderr",
     "output_type": "stream",
     "text": [
      "/home/yns207/anaconda3/envs/keras-py3/lib/python3.5/site-packages/keras/models.py:281: UserWarning: Error in loading the saved optimizer state. As a result, your model is starting with a freshly initialized optimizer.\n",
      "  warnings.warn('Error in loading the saved optimizer '\n"
     ]
    },
    {
     "name": "stdout",
     "output_type": "stream",
     "text": [
      "invasive_incepv3_aug10_kfolds_299x299_1.model\n",
      "invasive_incepv3_aug10_kfolds_0.model\n"
     ]
    }
   ],
   "source": [
    "preds_df = pd.DataFrame([], columns=['name'])\n",
    "preds_df['name'] = test_set['name']\n",
    "\n",
    "model_files = [\n",
    "    'invasive_incepv3_aug10_kfolds_299x299_0.model',\n",
    "    'invasive_incepv3_aug10_kfolds_299x299_1.model',\n",
    "    'invasive_incepv3_aug10_kfolds_0.model',\n",
    "]\n",
    "\n",
    "for model_name in model_files:\n",
    "    print(model_name)\n",
    "    model = load_model(os.path.join(path,model_name))\n",
    "    if '299' in model_name:\n",
    "        proc_test_img = preprocess_input_inceptionv3(test_img_299.astype(np.float32))\n",
    "    else:\n",
    "        proc_test_img = preprocess_input_inceptionv3(test_img_450.astype(np.float32))\n",
    "    preds_df[model_name] = pd.Series(model.predict(proc_test_img).flatten())\n",
    "    delete_model(model)"
   ]
  },
  {
   "cell_type": "code",
   "execution_count": 5,
   "metadata": {
    "collapsed": false
   },
   "outputs": [
    {
     "data": {
      "text/html": [
       "<div>\n",
       "<style>\n",
       "    .dataframe thead tr:only-child th {\n",
       "        text-align: right;\n",
       "    }\n",
       "\n",
       "    .dataframe thead th {\n",
       "        text-align: left;\n",
       "    }\n",
       "\n",
       "    .dataframe tbody tr th {\n",
       "        vertical-align: top;\n",
       "    }\n",
       "</style>\n",
       "<table border=\"1\" class=\"dataframe\">\n",
       "  <thead>\n",
       "    <tr style=\"text-align: right;\">\n",
       "      <th></th>\n",
       "      <th>name</th>\n",
       "      <th>invasive_incepv3_aug10_kfolds_299x299_0.model</th>\n",
       "      <th>invasive_incepv3_aug10_kfolds_299x299_1.model</th>\n",
       "      <th>invasive_incepv3_aug10_kfolds_0.model</th>\n",
       "    </tr>\n",
       "  </thead>\n",
       "  <tbody>\n",
       "    <tr>\n",
       "      <th>0</th>\n",
       "      <td>1</td>\n",
       "      <td>0.999220</td>\n",
       "      <td>0.999937</td>\n",
       "      <td>0.999953</td>\n",
       "    </tr>\n",
       "    <tr>\n",
       "      <th>1</th>\n",
       "      <td>2</td>\n",
       "      <td>0.006064</td>\n",
       "      <td>0.018489</td>\n",
       "      <td>0.003858</td>\n",
       "    </tr>\n",
       "    <tr>\n",
       "      <th>2</th>\n",
       "      <td>3</td>\n",
       "      <td>0.011985</td>\n",
       "      <td>0.269733</td>\n",
       "      <td>0.045479</td>\n",
       "    </tr>\n",
       "    <tr>\n",
       "      <th>3</th>\n",
       "      <td>4</td>\n",
       "      <td>0.017386</td>\n",
       "      <td>0.077561</td>\n",
       "      <td>0.013823</td>\n",
       "    </tr>\n",
       "    <tr>\n",
       "      <th>4</th>\n",
       "      <td>5</td>\n",
       "      <td>0.978104</td>\n",
       "      <td>0.991908</td>\n",
       "      <td>0.995183</td>\n",
       "    </tr>\n",
       "  </tbody>\n",
       "</table>\n",
       "</div>"
      ],
      "text/plain": [
       "   name  invasive_incepv3_aug10_kfolds_299x299_0.model  \\\n",
       "0     1                                       0.999220   \n",
       "1     2                                       0.006064   \n",
       "2     3                                       0.011985   \n",
       "3     4                                       0.017386   \n",
       "4     5                                       0.978104   \n",
       "\n",
       "   invasive_incepv3_aug10_kfolds_299x299_1.model  \\\n",
       "0                                       0.999937   \n",
       "1                                       0.018489   \n",
       "2                                       0.269733   \n",
       "3                                       0.077561   \n",
       "4                                       0.991908   \n",
       "\n",
       "   invasive_incepv3_aug10_kfolds_0.model  \n",
       "0                               0.999953  \n",
       "1                               0.003858  \n",
       "2                               0.045479  \n",
       "3                               0.013823  \n",
       "4                               0.995183  "
      ]
     },
     "execution_count": 5,
     "metadata": {},
     "output_type": "execute_result"
    }
   ],
   "source": [
    "preds_df.head()"
   ]
  },
  {
   "cell_type": "code",
   "execution_count": 6,
   "metadata": {
    "collapsed": false
   },
   "outputs": [
    {
     "data": {
      "text/html": [
       "<div>\n",
       "<style>\n",
       "    .dataframe thead tr:only-child th {\n",
       "        text-align: right;\n",
       "    }\n",
       "\n",
       "    .dataframe thead th {\n",
       "        text-align: left;\n",
       "    }\n",
       "\n",
       "    .dataframe tbody tr th {\n",
       "        vertical-align: top;\n",
       "    }\n",
       "</style>\n",
       "<table border=\"1\" class=\"dataframe\">\n",
       "  <thead>\n",
       "    <tr style=\"text-align: right;\">\n",
       "      <th></th>\n",
       "      <th>name</th>\n",
       "      <th>invasive</th>\n",
       "    </tr>\n",
       "  </thead>\n",
       "  <tbody>\n",
       "    <tr>\n",
       "      <th>0</th>\n",
       "      <td>1</td>\n",
       "      <td>0.999703</td>\n",
       "    </tr>\n",
       "    <tr>\n",
       "      <th>1</th>\n",
       "      <td>2</td>\n",
       "      <td>0.009470</td>\n",
       "    </tr>\n",
       "    <tr>\n",
       "      <th>2</th>\n",
       "      <td>3</td>\n",
       "      <td>0.109066</td>\n",
       "    </tr>\n",
       "    <tr>\n",
       "      <th>3</th>\n",
       "      <td>4</td>\n",
       "      <td>0.036257</td>\n",
       "    </tr>\n",
       "    <tr>\n",
       "      <th>4</th>\n",
       "      <td>5</td>\n",
       "      <td>0.988398</td>\n",
       "    </tr>\n",
       "  </tbody>\n",
       "</table>\n",
       "</div>"
      ],
      "text/plain": [
       "   name  invasive\n",
       "0     1  0.999703\n",
       "1     2  0.009470\n",
       "2     3  0.109066\n",
       "3     4  0.036257\n",
       "4     5  0.988398"
      ]
     },
     "execution_count": 6,
     "metadata": {},
     "output_type": "execute_result"
    }
   ],
   "source": [
    "# avg all preds\n",
    "subm = pd.DataFrame([], columns=['name', 'invasive'])\n",
    "subm['name'] = test_set['name']\n",
    "subm['invasive'] = preds_df[[col for col in preds_df.columns if not col is 'name']].mean(axis=1)\n",
    "subm.head()"
   ]
  },
  {
   "cell_type": "code",
   "execution_count": 7,
   "metadata": {
    "collapsed": true
   },
   "outputs": [],
   "source": [
    "subm.to_csv(os.path.join(path, 'results', 'subm_aug11_0.gz'), index=False, compression='gzip')"
   ]
  },
  {
   "cell_type": "markdown",
   "metadata": {},
   "source": [
    "that did really well. 0.99279 vs 0.9869 cool"
   ]
  },
  {
   "cell_type": "code",
   "execution_count": 14,
   "metadata": {
    "collapsed": false
   },
   "outputs": [
    {
     "data": {
      "text/html": [
       "<div>\n",
       "<style>\n",
       "    .dataframe thead tr:only-child th {\n",
       "        text-align: right;\n",
       "    }\n",
       "\n",
       "    .dataframe thead th {\n",
       "        text-align: left;\n",
       "    }\n",
       "\n",
       "    .dataframe tbody tr th {\n",
       "        vertical-align: top;\n",
       "    }\n",
       "</style>\n",
       "<table border=\"1\" class=\"dataframe\">\n",
       "  <thead>\n",
       "    <tr style=\"text-align: right;\">\n",
       "      <th></th>\n",
       "      <th>name</th>\n",
       "      <th>invasive</th>\n",
       "      <th>r_invasive_incepv3_aug10_kfolds_299x299_0.model</th>\n",
       "      <th>r_invasive_incepv3_aug10_kfolds_299x299_1.model</th>\n",
       "      <th>r_invasive_incepv3_aug10_kfolds_0.model</th>\n",
       "      <th>r_avg</th>\n",
       "    </tr>\n",
       "  </thead>\n",
       "  <tbody>\n",
       "    <tr>\n",
       "      <th>0</th>\n",
       "      <td>1</td>\n",
       "      <td>0.857325</td>\n",
       "      <td>1329.0</td>\n",
       "      <td>1167.0</td>\n",
       "      <td>1377.0</td>\n",
       "      <td>1291.000000</td>\n",
       "    </tr>\n",
       "    <tr>\n",
       "      <th>1</th>\n",
       "      <td>2</td>\n",
       "      <td>0.302892</td>\n",
       "      <td>495.0</td>\n",
       "      <td>559.0</td>\n",
       "      <td>343.0</td>\n",
       "      <td>465.666667</td>\n",
       "    </tr>\n",
       "    <tr>\n",
       "      <th>2</th>\n",
       "      <td>3</td>\n",
       "      <td>0.469043</td>\n",
       "      <td>597.0</td>\n",
       "      <td>835.0</td>\n",
       "      <td>707.0</td>\n",
       "      <td>713.000000</td>\n",
       "    </tr>\n",
       "    <tr>\n",
       "      <th>3</th>\n",
       "      <td>4</td>\n",
       "      <td>0.422243</td>\n",
       "      <td>643.0</td>\n",
       "      <td>766.0</td>\n",
       "      <td>521.0</td>\n",
       "      <td>643.333333</td>\n",
       "    </tr>\n",
       "    <tr>\n",
       "      <th>4</th>\n",
       "      <td>5</td>\n",
       "      <td>0.654675</td>\n",
       "      <td>1004.0</td>\n",
       "      <td>967.0</td>\n",
       "      <td>997.0</td>\n",
       "      <td>989.333333</td>\n",
       "    </tr>\n",
       "  </tbody>\n",
       "</table>\n",
       "</div>"
      ],
      "text/plain": [
       "   name  invasive  r_invasive_incepv3_aug10_kfolds_299x299_0.model  \\\n",
       "0     1  0.857325                                           1329.0   \n",
       "1     2  0.302892                                            495.0   \n",
       "2     3  0.469043                                            597.0   \n",
       "3     4  0.422243                                            643.0   \n",
       "4     5  0.654675                                           1004.0   \n",
       "\n",
       "   r_invasive_incepv3_aug10_kfolds_299x299_1.model  \\\n",
       "0                                           1167.0   \n",
       "1                                            559.0   \n",
       "2                                            835.0   \n",
       "3                                            766.0   \n",
       "4                                            967.0   \n",
       "\n",
       "   r_invasive_incepv3_aug10_kfolds_0.model        r_avg  \n",
       "0                                   1377.0  1291.000000  \n",
       "1                                    343.0   465.666667  \n",
       "2                                    707.0   713.000000  \n",
       "3                                    521.0   643.333333  \n",
       "4                                    997.0   989.333333  "
      ]
     },
     "execution_count": 14,
     "metadata": {},
     "output_type": "execute_result"
    }
   ],
   "source": [
    "# lets try a rank avged version...\n",
    "subm = pd.DataFrame([], columns=['name', 'invasive'])\n",
    "subm['name'] = test_set['name']\n",
    "for col in preds_df.columns:\n",
    "    if col == 'name':\n",
    "        continue\n",
    "    subm['r_'+col] = rankdata(preds_df[col])\n",
    "subm['r_avg'] = subm[[col for col in subm.columns if not col is 'name']].mean(axis=1)\n",
    "subm['invasive'] = MinMaxScaler(feature_range=(0.01,0.99)).fit_transform(subm['r_avg'] .values.reshape(-1, 1))\n",
    "subm.head()"
   ]
  },
  {
   "cell_type": "code",
   "execution_count": 16,
   "metadata": {
    "collapsed": true
   },
   "outputs": [],
   "source": [
    "subm[['name','invasive']].to_csv(os.path.join(path, 'results', 'subm_aug11_1.gz'), index=False, compression='gzip')"
   ]
  },
  {
   "cell_type": "markdown",
   "metadata": {},
   "source": [
    "that was worse: 0.99230"
   ]
  },
  {
   "cell_type": "code",
   "execution_count": null,
   "metadata": {
    "collapsed": true
   },
   "outputs": [],
   "source": []
  }
 ],
 "metadata": {
  "kernelspec": {
   "display_name": "Python 3",
   "language": "python",
   "name": "python3"
  },
  "language_info": {
   "codemirror_mode": {
    "name": "ipython",
    "version": 3
   },
   "file_extension": ".py",
   "mimetype": "text/x-python",
   "name": "python",
   "nbconvert_exporter": "python",
   "pygments_lexer": "ipython3",
   "version": "3.5.3"
  }
 },
 "nbformat": 4,
 "nbformat_minor": 2
}
