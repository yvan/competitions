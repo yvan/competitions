{
 "cells": [
  {
   "cell_type": "markdown",
   "metadata": {},
   "source": [
    "# refs\n",
    "\n",
    "[global average pooling vs max pooling](https://stats.stackexchange.com/questions/257321/what-is-global-max-pooling-layer-and-what-is-its-advantage-over-maxpooling-layer)\n",
    "\n",
    "[pre trained vgg 1](https://www.kaggle.com/fujisan/use-keras-pre-trained-vgg16-acc-98)\n",
    "\n",
    "[pre trained vgg 2](https://www.kaggle.com/chmaxx/finetune-vgg16-0-97-with-minimal-effort)\n",
    "\n",
    "[ensembles](http://blog.kaggle.com/2017/04/20/dogs-vs-cats-redux-playground-competition-3rd-place-interview-marco-lugo/)\n",
    "\n",
    "[other model types](http://www.pyimagesearch.com/2017/03/20/imagenet-vggnet-resnet-inception-xception-keras/)"
   ]
  },
  {
   "cell_type": "code",
   "execution_count": 8,
   "metadata": {},
   "outputs": [
    {
     "data": {
      "text/plain": [
       "[name: \"/cpu:0\"\n",
       " device_type: \"CPU\"\n",
       " memory_limit: 268435456\n",
       " locality {\n",
       " }\n",
       " incarnation: 3882984177126620798, name: \"/gpu:0\"\n",
       " device_type: \"GPU\"\n",
       " memory_limit: 361496576\n",
       " locality {\n",
       "   bus_id: 1\n",
       " }\n",
       " incarnation: 14271453165574102131\n",
       " physical_device_desc: \"device: 0, name: Tesla K80, pci bus id: 0000:04:00.0\"]"
      ]
     },
     "execution_count": 8,
     "metadata": {},
     "output_type": "execute_result"
    }
   ],
   "source": [
    "from tensorflow.python.client import device_lib\n",
    "device_lib.list_local_devices() "
   ]
  },
  {
   "cell_type": "markdown",
   "metadata": {},
   "source": [
    "# setup"
   ]
  },
  {
   "cell_type": "code",
   "execution_count": 13,
   "metadata": {},
   "outputs": [],
   "source": [
    "import h5py\n",
    "import numpy as np\n",
    "import PIL\n",
    "\n",
    "from keras import backend as K\n",
    "from keras.preprocessing import image\n",
    "\n",
    "from keras.models import Sequential, Model\n",
    "from keras.layers import Input, GlobalAveragePooling2D, GlobalMaxPooling2D\n",
    "from keras.layers.core import Flatten, Dense, Dropout, Lambda\n",
    "from keras.layers.convolutional import Convolution2D, MaxPooling2D, ZeroPadding2D\n",
    "from keras.optimizers import SGD, RMSprop, Adam\n",
    "from keras.layers.normalization import BatchNormalization\n",
    "from keras.preprocessing import image\n",
    "from keras.callbacks import ModelCheckpoint, EarlyStopping\n",
    "\n",
    "from keras.applications.vgg16 import VGG16\n",
    "\n",
    "import matplotlib.image as mpimg\n",
    "import matplotlib.pyplot as plt"
   ]
  },
  {
   "cell_type": "code",
   "execution_count": 14,
   "metadata": {},
   "outputs": [
    {
     "name": "stdout",
     "output_type": "stream",
     "text": [
      "/home/yns207/nbs/machine_learning/invasive /scratch/yns207/data_invasive\n"
     ]
    }
   ],
   "source": [
    "import os\n",
    "import numpy as np\n",
    "from glob import glob\n",
    "import pandas as pd\n",
    "\n",
    "CUR_DIR = os.getcwd()\n",
    "DATA_DIR = os.path.join('/scratch', 'yns207', 'data_invasive')\n",
    "W_PATH = 'https://github.com/fchollet/deep-learning-models/releases/download/v0.1/vgg16_weights_tf_dim_ordering_tf_kernels_notop.h5'\n",
    "print(CUR_DIR, DATA_DIR)\n",
    "\n",
    "path = DATA_DIR\n",
    "test_path = os.path.join(path, 'test')\n",
    "models_path = os.path.join(path, 'results')\n",
    "train_path = os.path.join(path, 'train')\n",
    "valid_path = os.path.join(path, 'valid')"
   ]
  },
  {
   "cell_type": "markdown",
   "metadata": {},
   "source": [
    "# make the model "
   ]
  },
  {
   "cell_type": "code",
   "execution_count": 62,
   "metadata": {
    "collapsed": true
   },
   "outputs": [],
   "source": [
    "base_model = VGG16(weights='imagenet', include_top=False)"
   ]
  },
  {
   "cell_type": "code",
   "execution_count": 63,
   "metadata": {},
   "outputs": [],
   "source": [
    "for layer in base_model.layers:\n",
    "    layer.trainable = False\n",
    "    \n",
    "top_model = base_model.get_layer('block5_conv3').output\n",
    "top_model = GlobalAveragePooling2D()(top_model)\n",
    "top_model = Dense(256, activation='relu')(top_model)\n",
    "top_model = Dropout(0.5)(top_model)\n",
    "top_model = Dense(1, activation='sigmoid')(top_model)\n",
    "\n",
    "model = Model(inputs=base_model.input, outputs=top_model)\n",
    "model.compile(loss='binary_crossentropy', \n",
    "              optimizer=RMSprop(lr=0.001),\n",
    "              metrics=['accuracy'])"
   ]
  },
  {
   "cell_type": "code",
   "execution_count": 64,
   "metadata": {},
   "outputs": [
    {
     "name": "stdout",
     "output_type": "stream",
     "text": [
      "Found 1531 images belonging to 1 classes.\n"
     ]
    }
   ],
   "source": [
    "batch_size = 5\n",
    "\n",
    "img_width = 600\n",
    "img_height = 450\n",
    "\n",
    "gen = image.ImageDataGenerator()\n",
    "va_gen = image.ImageDataGenerator(rescale=1., featurewise_center=True)\n",
    "gen_t = image.ImageDataGenerator(rescale=1., \n",
    "    featurewise_center=True,\n",
    "    rotation_range=10,\n",
    "    width_shift_range=.1,\n",
    "    height_shift_range=.1,\n",
    "    shear_range=0.2,\n",
    "    zoom_range=0.2,\n",
    "    horizontal_flip=True,\n",
    "    vertical_flip=False,\n",
    "    fill_mode=\"reflect\")\n",
    "\n",
    "# original vgg means [103.939, 116.779, 123.68]\n",
    "# my mean is [111.32052594, 121.25063492, 103.65633209]\n",
    "# you need ot subtract the vgg mean because thats\n",
    "# what vgg was trained on, its weights are tried to that\n",
    "# nromalization (they did not use batch norm)\n",
    "# wha you see below is the mean for the \n",
    "gen.mean = np.array([103.939, 116.779, 123.68]).reshape(1,1,3)\n",
    "va_gen.mean = np.array([103.939, 116.779, 123.68]).reshape(1,1,3)\n",
    "gen_t.mean = np.array([103.939, 116.779, 123.68]).reshape(1,1,3)\n",
    "\n",
    "te_batches = gen.flow_from_directory(test_path, \n",
    "                                     target_size=(img_height,img_width), \n",
    "                                     class_mode='binary', \n",
    "                                     shuffle=False, \n",
    "                                     batch_size=batch_size)"
   ]
  },
  {
   "cell_type": "code",
   "execution_count": 65,
   "metadata": {
    "scrolled": true
   },
   "outputs": [
    {
     "name": "stdout",
     "output_type": "stream",
     "text": [
      "Found 1836 images belonging to 2 classes.\n",
      "Found 1836 images belonging to 2 classes.\n",
      "Found 459 images belonging to 2 classes.\n",
      "Epoch 1/10\n",
      "368/368 [==============================] - 75s - loss: 0.3284 - acc: 0.8826 - val_loss: 0.1691 - val_acc: 0.9281\n",
      "Epoch 2/10\n",
      "368/368 [==============================] - 73s - loss: 0.2491 - acc: 0.9185 - val_loss: 0.2183 - val_acc: 0.9303\n",
      "Epoch 3/10\n",
      "368/368 [==============================] - 73s - loss: 0.2728 - acc: 0.9217 - val_loss: 0.2064 - val_acc: 0.9368\n",
      "Epoch 4/10\n",
      "368/368 [==============================] - 73s - loss: 0.2599 - acc: 0.9185 - val_loss: 0.1654 - val_acc: 0.9434\n",
      "Epoch 5/10\n",
      "368/368 [==============================] - 73s - loss: 0.2225 - acc: 0.9239 - val_loss: 0.2054 - val_acc: 0.9346\n",
      "Epoch 6/10\n",
      "368/368 [==============================] - 73s - loss: 0.2601 - acc: 0.9163 - val_loss: 0.1844 - val_acc: 0.9368\n",
      "Epoch 7/10\n",
      "368/368 [==============================] - 73s - loss: 0.2291 - acc: 0.9337 - val_loss: 0.1979 - val_acc: 0.9477\n",
      "Epoch 8/10\n",
      "368/368 [==============================] - 73s - loss: 0.2160 - acc: 0.9370 - val_loss: 0.2161 - val_acc: 0.9455\n",
      "Epoch 00007: early stopping\n",
      "Found 1836 images belonging to 2 classes.\n",
      "Found 1836 images belonging to 2 classes.\n",
      "Found 459 images belonging to 2 classes.\n",
      "Epoch 1/10\n",
      "368/368 [==============================] - 269s - loss: 0.2420 - acc: 0.9201 - val_loss: 0.1333 - val_acc: 0.9608\n",
      "Epoch 2/10\n",
      "368/368 [==============================] - 268s - loss: 0.2292 - acc: 0.9245 - val_loss: 0.1219 - val_acc: 0.9542\n",
      "Epoch 3/10\n",
      "368/368 [==============================] - 268s - loss: 0.2056 - acc: 0.9304 - val_loss: 0.1955 - val_acc: 0.9477\n",
      "Epoch 4/10\n",
      "368/368 [==============================] - 269s - loss: 0.2154 - acc: 0.9266 - val_loss: 0.1615 - val_acc: 0.9455\n",
      "Epoch 5/10\n",
      "368/368 [==============================] - 268s - loss: 0.1905 - acc: 0.9288 - val_loss: 0.1295 - val_acc: 0.9608\n",
      "Epoch 6/10\n",
      "368/368 [==============================] - 268s - loss: 0.2006 - acc: 0.9397 - val_loss: 0.2165 - val_acc: 0.9455\n",
      "Epoch 00005: early stopping\n"
     ]
    }
   ],
   "source": [
    "early_stopping = EarlyStopping(monitor='val_loss', patience=3, verbose=1, mode='auto')\n",
    "\n",
    "img_width = 300\n",
    "img_height = 225\n",
    "\n",
    "tr_batches = gen.flow_from_directory(train_path, \n",
    "                                     target_size=(img_height,img_width), \n",
    "                                     class_mode='binary', \n",
    "                                     shuffle=True, \n",
    "                                     batch_size=batch_size)\n",
    "\n",
    "tr_batches_aug = gen_t.flow_from_directory(train_path, \n",
    "                                     target_size=(img_height,img_width), \n",
    "                                     class_mode='binary', \n",
    "                                     shuffle=True, \n",
    "                                     batch_size=batch_size)\n",
    "\n",
    "va_batches = va_gen.flow_from_directory(valid_path, \n",
    "                                     target_size=(img_height,img_width), \n",
    "                                     class_mode='binary', \n",
    "                                     shuffle=False, \n",
    "                                     batch_size=batch_size)\n",
    "\n",
    "hist = model.fit_generator(tr_batches_aug,\n",
    "                    steps_per_epoch=(tr_batches_aug.n//batch_size)+1,\n",
    "                    validation_data=va_batches,\n",
    "                    validation_steps=(va_batches.n//batch_size)+1,\n",
    "                    epochs=10,\n",
    "                    callbacks=[early_stopping])\n",
    "\n",
    "img_width = 600\n",
    "img_height = 450\n",
    "\n",
    "tr_batches = gen.flow_from_directory(train_path, \n",
    "                                     target_size=(img_height,img_width), \n",
    "                                     class_mode='binary', \n",
    "                                     shuffle=True, \n",
    "                                     batch_size=batch_size)\n",
    "\n",
    "tr_batches_aug = gen_t.flow_from_directory(train_path, \n",
    "                                     target_size=(img_height,img_width), \n",
    "                                     class_mode='binary', \n",
    "                                     shuffle=True, \n",
    "                                     batch_size=batch_size)\n",
    "\n",
    "va_batches = va_gen.flow_from_directory(valid_path, \n",
    "                                     target_size=(img_height,img_width), \n",
    "                                     class_mode='binary', \n",
    "                                     shuffle=False, \n",
    "                                     batch_size=batch_size)\n",
    "\n",
    "hist2 = model.fit_generator(tr_batches_aug,\n",
    "                    steps_per_epoch=(tr_batches_aug.n//batch_size)+1,\n",
    "                    validation_data=va_batches,\n",
    "                    validation_steps=(va_batches.n//batch_size)+1,\n",
    "                    epochs=10,\n",
    "                    callbacks=[early_stopping])"
   ]
  },
  {
   "cell_type": "code",
   "execution_count": 66,
   "metadata": {},
   "outputs": [
    {
     "data": {
      "image/png": "[encoded data removed]",
      "text/plain": [
       "<matplotlib.figure.Figure at 0x2b02b34b6a20>"
      ]
     },
     "metadata": {},
     "output_type": "display_data"
    }
   ],
   "source": [
    "plt.plot(hist.history['acc'])\n",
    "plt.plot(hist.history['val_acc'])\n",
    "plt.title('model loss')\n",
    "plt.xlabel('epoch')\n",
    "plt.ylabel('loss')\n",
    "plt.legend(['train', 'valid'], loc='upper left')\n",
    "plt.show()"
   ]
  },
  {
   "cell_type": "code",
   "execution_count": 67,
   "metadata": {},
   "outputs": [
    {
     "data": {
      "image/png": "[encoded data removed]",
      "text/plain": [
       "<matplotlib.figure.Figure at 0x2b02b3354ac8>"
      ]
     },
     "metadata": {},
     "output_type": "display_data"
    }
   ],
   "source": [
    "plt.plot(hist2.history['acc'])\n",
    "plt.plot(hist2.history['val_acc'])\n",
    "plt.title('model loss')\n",
    "plt.xlabel('epoch')\n",
    "plt.ylabel('loss')\n",
    "plt.legend(['train', 'valid'], loc='upper left')\n",
    "plt.show()"
   ]
  },
  {
   "cell_type": "code",
   "execution_count": 68,
   "metadata": {},
   "outputs": [
    {
     "name": "stdout",
     "output_type": "stream",
     "text": [
      "Found 1836 images belonging to 2 classes.\n",
      "Found 459 images belonging to 2 classes.\n",
      "Epoch 1/10\n",
      "368/368 [==============================] - 474s - loss: 0.2111 - acc: 0.9299 - val_loss: 0.1448 - val_acc: 0.9455\n",
      "Epoch 2/10\n",
      "368/368 [==============================] - 465s - loss: 0.1839 - acc: 0.9380 - val_loss: 0.2086 - val_acc: 0.9412\n",
      "Epoch 3/10\n",
      "368/368 [==============================] - 465s - loss: 0.1983 - acc: 0.9348 - val_loss: 0.2202 - val_acc: 0.9455\n",
      "Epoch 4/10\n",
      "368/368 [==============================] - 466s - loss: 0.1690 - acc: 0.9402 - val_loss: 0.1669 - val_acc: 0.9608\n",
      "Epoch 5/10\n",
      "368/368 [==============================] - 466s - loss: 0.2026 - acc: 0.9408 - val_loss: 0.1677 - val_acc: 0.9455\n",
      "Epoch 00004: early stopping\n"
     ]
    }
   ],
   "source": [
    "img_width = 800\n",
    "img_height = 600\n",
    "\n",
    "tr_batches_aug = gen_t.flow_from_directory(train_path, \n",
    "                                     target_size=(img_height,img_width), \n",
    "                                     class_mode='binary', \n",
    "                                     shuffle=True, \n",
    "                                     batch_size=batch_size)\n",
    "\n",
    "va_batches = va_gen.flow_from_directory(valid_path, \n",
    "                                     target_size=(img_height,img_width), \n",
    "                                     class_mode='binary', \n",
    "                                     shuffle=False, \n",
    "                                     batch_size=batch_size)\n",
    "\n",
    "hist3 = model.fit_generator(tr_batches_aug,\n",
    "                    steps_per_epoch=(tr_batches_aug.n//batch_size)+1,\n",
    "                    validation_data=va_batches,\n",
    "                    validation_steps=(va_batches.n//batch_size)+1,\n",
    "                    epochs=10,\n",
    "                    callbacks=[early_stopping])"
   ]
  },
  {
   "cell_type": "code",
   "execution_count": 69,
   "metadata": {},
   "outputs": [
    {
     "data": {
      "image/png": "[encoded data removed]",
      "text/plain": [
       "<matplotlib.figure.Figure at 0x2b02b34fd748>"
      ]
     },
     "metadata": {},
     "output_type": "display_data"
    }
   ],
   "source": [
    "plt.plot(hist3.history['acc'])\n",
    "plt.plot(hist3.history['val_acc'])\n",
    "plt.title('model loss')\n",
    "plt.xlabel('epoch')\n",
    "plt.ylabel('loss')\n",
    "plt.legend(['train', 'valid'], loc='upper left')\n",
    "plt.show()"
   ]
  },
  {
   "cell_type": "code",
   "execution_count": 70,
   "metadata": {
    "collapsed": true
   },
   "outputs": [],
   "source": [
    "# lets save weights and come back.\n",
    "model.save_weights(os.path.join(DATA_DIR, 'vgg16_jun9_2017.h5'))"
   ]
  },
  {
   "cell_type": "markdown",
   "metadata": {},
   "source": [
    "# summary\n",
    "\n",
    "i changed the iimage generator and the result seems a lot more robust. the first one mentioned here: https://blog.keras.io/building-powerful-image-classification-models-using-very-little-data.html\n",
    "\n",
    "ok its actually just slower to train and less stable on valid accuracy. gets a lower training accuracy which implies that were exposing fewer features to the algo with this image data gen.\n",
    "\n"
   ]
  },
  {
   "cell_type": "markdown",
   "metadata": {},
   "source": [
    "# ideas\n",
    "\n",
    "# so waht did i change?\n",
    "# i  used the vgg average and not the one i calculated to subtract from pixels\n",
    "# batch size changed to 5.\n",
    "# binary class mode is needed to use 1 output node with the sigmoid activation\n",
    "# imag sizing changed to 600 450\n",
    "# used rmsprop instaed of adam\n",
    "# differences between my implementation and the kaggle kernel: i trained on lareg imgs first, then on smaller\n",
    "# did that make a difference? -> it looks like training on smaller images AFTER bigs ones makse validation accurracy worse\n",
    "# but this doesntm ean that the other wya around isnt good.\n",
    "#added dropout on the last layer between the dense and output node\n",
    "# which of these is superficial or made things worse? which actually made things better\n",
    "# could we get a better result by adding two layers one with more nodes, then less nodes so it focuses\n",
    "# could we get a better result by resizing images?\n",
    "# what abut adding bathcnorm? waht about using a bathcnormed vgg16\n",
    "# what about psuedo labelling?\n",
    "# what about resnet? \n",
    "# check out this idea: http://blog.kaggle.com/2017/04/20/dogs-vs-cats-redux-playground-competition-3rd-place-interview-marco-lugo/\n",
    "\n",
    "# maybe we need to remvoe pooling layers? hinton does say theyre kinda shit, repalce with what? -> ok i think we should use a global max pooling layer at the end instaedo f an average pooling layer. average pooling is like saying X YxY conv featurse how doggy of catty is each one on avg. max pooling layer is like saying DID ANY OF THE FEATURES TRIGGER DOG OR CAT (hydrangea or no hydrangea)\n",
    "\n",
    "# try to use a SELU actvation function: https://arxiv.org/pdf/1706.02515.pdf\n",
    "\n",
    "# try this:\n",
    "\n",
    "https://www.kaggle.com/hexietufts/easy-to-use-keras-imagedatagenerator"
   ]
  },
  {
   "cell_type": "code",
   "execution_count": null,
   "metadata": {
    "collapsed": true
   },
   "outputs": [],
   "source": []
  }
 ],
 "metadata": {
  "kernelspec": {
   "display_name": "Python 3",
   "language": "python",
   "name": "python3"
  },
  "language_info": {
   "codemirror_mode": {
    "name": "ipython",
    "version": 3
   },
   "file_extension": ".py",
   "mimetype": "text/x-python",
   "name": "python",
   "nbconvert_exporter": "python",
   "pygments_lexer": "ipython3",
   "version": "3.5.3"
  }
 },
 "nbformat": 4,
 "nbformat_minor": 2
}
