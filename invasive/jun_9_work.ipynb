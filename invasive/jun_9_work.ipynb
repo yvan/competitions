{
 "cells": [
  {
   "cell_type": "code",
   "execution_count": 1,
   "metadata": {},
   "outputs": [
    {
     "data": {
      "text/plain": [
       "[name: \"/cpu:0\"\n",
       " device_type: \"CPU\"\n",
       " memory_limit: 268435456\n",
       " locality {\n",
       " }\n",
       " incarnation: 5897205208089780946, name: \"/gpu:0\"\n",
       " device_type: \"GPU\"\n",
       " memory_limit: 11332668621\n",
       " locality {\n",
       "   bus_id: 1\n",
       " }\n",
       " incarnation: 993269867077991036\n",
       " physical_device_desc: \"device: 0, name: Tesla K80, pci bus id: 0000:04:00.0\"]"
      ]
     },
     "execution_count": 1,
     "metadata": {},
     "output_type": "execute_result"
    }
   ],
   "source": [
    "from tensorflow.python.client import device_lib\n",
    "device_lib.list_local_devices() "
   ]
  },
  {
   "cell_type": "markdown",
   "metadata": {},
   "source": [
    "# setup"
   ]
  },
  {
   "cell_type": "code",
   "execution_count": 2,
   "metadata": {},
   "outputs": [
    {
     "name": "stderr",
     "output_type": "stream",
     "text": [
      "Using TensorFlow backend.\n"
     ]
    }
   ],
   "source": [
    "import h5py\n",
    "import numpy as np\n",
    "import PIL\n",
    "\n",
    "from keras import backend as K\n",
    "from keras.utils.data_utils import get_file\n",
    "from keras.models import Sequential, Model\n",
    "from keras.layers import Input, GlobalAveragePooling2D\n",
    "from keras.layers.core import Flatten, Dense, Dropout, Lambda\n",
    "from keras.layers.convolutional import Convolution2D, MaxPooling2D, ZeroPadding2D\n",
    "from keras.optimizers import SGD, RMSprop, Adam\n",
    "from keras.preprocessing import image\n",
    "from keras.layers.normalization import BatchNormalization\n",
    "from keras.preprocessing import image\n",
    "from keras import optimizers\n",
    "from keras import applications\n",
    "from keras.callbacks import ModelCheckpoint, EarlyStopping\n",
    "\n",
    "from keras.applications.vgg16 import VGG16\n",
    "\n",
    "import matplotlib.image as mpimg\n",
    "import matplotlib.pyplot as plt"
   ]
  },
  {
   "cell_type": "code",
   "execution_count": 3,
   "metadata": {},
   "outputs": [
    {
     "name": "stdout",
     "output_type": "stream",
     "text": [
      "/home/yns207/nbs/machine_learning/invasive /scratch/yns207/data_invasive\n"
     ]
    }
   ],
   "source": [
    "import os\n",
    "import numpy as np\n",
    "from glob import glob\n",
    "import pandas as pd\n",
    "\n",
    "CUR_DIR = os.getcwd()\n",
    "DATA_DIR = os.path.join('/scratch', 'yns207', 'data_invasive')\n",
    "W_PATH = 'https://github.com/fchollet/deep-learning-models/releases/download/v0.1/vgg16_weights_tf_dim_ordering_tf_kernels_notop.h5'\n",
    "print(CUR_DIR, DATA_DIR)\n",
    "path = DATA_DIR\n",
    "test_path = os.path.join(path, 'test')\n",
    "models_path = os.path.join(path, 'results')\n",
    "train_path = os.path.join(path, 'train')\n",
    "valid_path = os.path.join(path, 'valid')"
   ]
  },
  {
   "cell_type": "markdown",
   "metadata": {},
   "source": [
    "# make the model "
   ]
  },
  {
   "cell_type": "code",
   "execution_count": 4,
   "metadata": {
    "collapsed": true
   },
   "outputs": [],
   "source": [
    "base_model = VGG16(weights='imagenet', include_top=False)"
   ]
  },
  {
   "cell_type": "code",
   "execution_count": 5,
   "metadata": {
    "collapsed": true
   },
   "outputs": [],
   "source": [
    "for layer in base_model.layers:\n",
    "    layer.trainable = False\n",
    "    \n",
    "top_model = base_model.get_layer('block5_conv3').output\n",
    "top_model = GlobalAveragePooling2D()(top_model)\n",
    "top_model = Dense(256, activation='relu')(top_model)\n",
    "top_model = Dropout(0.5)(top_model)\n",
    "top_model = Dense(1, activation='sigmoid')(top_model)\n",
    "\n",
    "model = Model(inputs=base_model.input, outputs=top_model)\n",
    "model.compile(loss='binary_crossentropy', \n",
    "              optimizer=optimizers.RMSprop(lr=0.001),\n",
    "              metrics=['accuracy'])"
   ]
  },
  {
   "cell_type": "code",
   "execution_count": 6,
   "metadata": {},
   "outputs": [
    {
     "name": "stdout",
     "output_type": "stream",
     "text": [
      "Found 1836 images belonging to 2 classes.\n",
      "Found 1836 images belonging to 2 classes.\n",
      "Found 459 images belonging to 2 classes.\n",
      "Found 1531 images belonging to 1 classes.\n"
     ]
    }
   ],
   "source": [
    "batch_size = 10\n",
    "\n",
    "img_width = 600\n",
    "img_height = 450\n",
    "\n",
    "gen = image.ImageDataGenerator()\n",
    "gen_t = image.ImageDataGenerator(rescale=1., \n",
    "            featurewise_center=True,\n",
    "            rotation_range=10,\n",
    "            width_shift_range=.1,\n",
    "            height_shift_range=.1,\n",
    "            shear_range=0.2,\n",
    "            zoom_range=0.2,\n",
    "            horizontal_flip=True,\n",
    "            vertical_flip=False,\n",
    "            fill_mode=\"reflect\")\n",
    "\n",
    "\n",
    "gen.mean = np.array([111.32052594, 121.25063492, 103.65633209]).reshape(1,1,3)\n",
    "gen_t.mean = np.array([111.32052594, 121.25063492, 103.65633209]).reshape(1,1,3)\n",
    "\n",
    "tr_batches = gen.flow_from_directory(train_path, \n",
    "                                     target_size=(224,224), \n",
    "                                     class_mode='binary', \n",
    "                                     shuffle=True, \n",
    "                                     batch_size=batch_size)\n",
    "\n",
    "tr_batches_aug = gen_t.flow_from_directory(train_path, \n",
    "                                     target_size=(224,224), \n",
    "                                     class_mode='binary', \n",
    "                                     shuffle=True, \n",
    "                                     batch_size=batch_size)\n",
    "\n",
    "va_batches = gen.flow_from_directory(valid_path, \n",
    "                                     target_size=(224,224), \n",
    "                                     class_mode='binary', \n",
    "                                     shuffle=False, \n",
    "                                     batch_size=batch_size)\n",
    "\n",
    "te_batches = gen.flow_from_directory(test_path, \n",
    "                                     target_size=(224,224), \n",
    "                                     class_mode='binary', \n",
    "                                     shuffle=False, \n",
    "                                     batch_size=batch_size)"
   ]
  },
  {
   "cell_type": "code",
   "execution_count": 141,
   "metadata": {},
   "outputs": [
    {
     "name": "stdout",
     "output_type": "stream",
     "text": [
      "Found 1836 images belonging to 2 classes.\n",
      "Found 459 images belonging to 2 classes.\n",
      "Found 1531 images belonging to 1 classes.\n"
     ]
    }
   ],
   "source": [
    "# first train 300 by 225\n",
    "# next train on 600 by 450\n",
    "img_width = 600  # Change image size for training here\n",
    "img_height = 450 # Change image size for training here\n",
    "\n",
    "batch_size = 5 # i achieved good and fast results with this small minibatch size for training\n",
    "batch_size_val = 400 # if Tensorflow throws a memory error while validating at end of epoch, decrease validation batch size her\n",
    "\n",
    "# set data augmentation parameters here\n",
    "datagen = image.ImageDataGenerator(rescale=1., \n",
    "    featurewise_center=True,\n",
    "    rotation_range=10,\n",
    "    width_shift_range=.1,\n",
    "    height_shift_range=.1,\n",
    "    shear_range=0.2,\n",
    "    zoom_range=0.2,\n",
    "    horizontal_flip=True,\n",
    "    vertical_flip=False,\n",
    "    fill_mode=\"reflect\")\n",
    "\n",
    "# normalization neccessary for correct image input to VGG16\n",
    "datagen.mean=np.array([103.939, 116.779, 123.68],dtype=np.float32).reshape(1,1,3)\n",
    "\n",
    "# no data augmentation for validation and test set\n",
    "validgen = image.ImageDataGenerator(rescale=1., featurewise_center=True)\n",
    "validgen.mean=np.array([103.939, 116.779, 123.68],dtype=np.float32).reshape(1,1,3)\n",
    "\n",
    "\n",
    "train_gen = datagen.flow_from_directory(\n",
    "        train_path,\n",
    "        target_size=(img_height, img_width),\n",
    "        batch_size=batch_size,\n",
    "        class_mode=\"binary\",\n",
    "        shuffle=True, \n",
    "        #save_to_dir=\"_augmented_images/\", \n",
    "        #save_prefix=\"aug_\"\n",
    "        )\n",
    "\n",
    "val_gen = validgen.flow_from_directory(\n",
    "        valid_path,\n",
    "        target_size=(img_height, img_width),\n",
    "        batch_size=batch_size,\n",
    "        class_mode=\"binary\",\n",
    "        shuffle=True)\n",
    "\n",
    "test_gen = validgen.flow_from_directory(\n",
    "        test_path,\n",
    "        target_size=(img_height, img_width),\n",
    "        batch_size=1,\n",
    "        class_mode=\"binary\",\n",
    "        shuffle=False)\n",
    "\n",
    "train_samples = len(train_gen.filenames)\n",
    "validation_samples = len(val_gen.filenames)\n",
    "test_samples = len(test_gen.filenames)"
   ]
  },
  {
   "cell_type": "code",
   "execution_count": 129,
   "metadata": {},
   "outputs": [
    {
     "name": "stdout",
     "output_type": "stream",
     "text": [
      "Epoch 1/10\n",
      "368/368 [==============================] - 75s - loss: 0.3204 - acc: 0.8717 - val_loss: 0.2022 - val_acc: 0.9325\n",
      "Epoch 2/10\n",
      "368/368 [==============================] - 73s - loss: 0.2728 - acc: 0.9022 - val_loss: 0.1808 - val_acc: 0.9281\n",
      "Epoch 3/10\n",
      "368/368 [==============================] - 73s - loss: 0.2476 - acc: 0.9174 - val_loss: 0.2210 - val_acc: 0.9434\n",
      "Epoch 4/10\n",
      "368/368 [==============================] - 73s - loss: 0.2341 - acc: 0.9185 - val_loss: 0.2022 - val_acc: 0.9281\n",
      "Epoch 5/10\n",
      "368/368 [==============================] - 73s - loss: 0.2332 - acc: 0.9255 - val_loss: 0.1680 - val_acc: 0.9499\n",
      "Epoch 6/10\n",
      "368/368 [==============================] - 73s - loss: 0.2368 - acc: 0.9255 - val_loss: 0.2094 - val_acc: 0.9499\n",
      "Epoch 7/10\n",
      "368/368 [==============================] - 73s - loss: 0.2223 - acc: 0.9212 - val_loss: 0.3629 - val_acc: 0.9194\n",
      "Epoch 8/10\n",
      "368/368 [==============================] - 73s - loss: 0.2193 - acc: 0.9321 - val_loss: 0.1381 - val_acc: 0.9564\n",
      "Epoch 9/10\n",
      "368/368 [==============================] - 73s - loss: 0.1926 - acc: 0.9375 - val_loss: 0.2680 - val_acc: 0.9368\n",
      "Epoch 10/10\n",
      "368/368 [==============================] - 72s - loss: 0.2217 - acc: 0.9228 - val_loss: 0.2095 - val_acc: 0.9586\n"
     ]
    }
   ],
   "source": [
    "early_stopping = EarlyStopping(monitor='val_loss', patience=3, verbose=1, mode='auto')\n",
    "\n",
    "hist = model.fit_generator(train_gen,\n",
    "                    steps_per_epoch=(train_gen.n//batch_size)+1,\n",
    "                    validation_data=val_gen,\n",
    "                    validation_steps=(val_gen.n//batch_size)+1,\n",
    "                    epochs=10,\n",
    "                    callbacks=[early_stopping])"
   ]
  },
  {
   "cell_type": "code",
   "execution_count": 130,
   "metadata": {},
   "outputs": [
    {
     "data": {
      "image/png": "[encoded data removed]",
      "text/plain": [
       "<matplotlib.figure.Figure at 0x2b05e99a4c18>"
      ]
     },
     "metadata": {},
     "output_type": "display_data"
    }
   ],
   "source": [
    "plt.plot(hist.history['acc'])\n",
    "plt.plot(hist.history['val_acc'])\n",
    "plt.title('model loss')\n",
    "plt.xlabel('epoch')\n",
    "plt.ylabel('loss')\n",
    "plt.legend(['train', 'valid'], loc='upper left')\n",
    "plt.show()"
   ]
  },
  {
   "cell_type": "code",
   "execution_count": null,
   "metadata": {
    "collapsed": true
   },
   "outputs": [],
   "source": []
  }
 ],
 "metadata": {
  "kernelspec": {
   "display_name": "Python 3",
   "language": "python",
   "name": "python3"
  },
  "language_info": {
   "codemirror_mode": {
    "name": "ipython",
    "version": 3
   },
   "file_extension": ".py",
   "mimetype": "text/x-python",
   "name": "python",
   "nbconvert_exporter": "python",
   "pygments_lexer": "ipython3",
   "version": "3.5.3"
  }
 },
 "nbformat": 4,
 "nbformat_minor": 2
}
