{
 "cells": [
  {
   "cell_type": "markdown",
   "metadata": {},
   "source": [
    "# this section sets up constants and imports"
   ]
  },
  {
   "cell_type": "code",
   "execution_count": 2,
   "metadata": {},
   "outputs": [
    {
     "ename": "InternalError",
     "evalue": "failed initializing StreamExecutor for CUDA device ordinal 0: Internal: failed call to cuDevicePrimaryCtxRetain: CUDA_ERROR_INVALID_DEVICE",
     "output_type": "error",
     "traceback": [
      "\u001b[0;31m---------------------------------------------------------------------------\u001b[0m",
      "\u001b[0;31mInternalError\u001b[0m                             Traceback (most recent call last)",
      "\u001b[0;32m<ipython-input-2-a66509387a5f>\u001b[0m in \u001b[0;36m<module>\u001b[0;34m()\u001b[0m\n\u001b[1;32m      1\u001b[0m \u001b[0;31m#trying a vgg16 build\u001b[0m\u001b[0;34m\u001b[0m\u001b[0;34m\u001b[0m\u001b[0m\n\u001b[1;32m      2\u001b[0m \u001b[0;32mfrom\u001b[0m \u001b[0mtensorflow\u001b[0m\u001b[0;34m.\u001b[0m\u001b[0mpython\u001b[0m\u001b[0;34m.\u001b[0m\u001b[0mclient\u001b[0m \u001b[0;32mimport\u001b[0m \u001b[0mdevice_lib\u001b[0m\u001b[0;34m\u001b[0m\u001b[0m\n\u001b[0;32m----> 3\u001b[0;31m \u001b[0mdevice_lib\u001b[0m\u001b[0;34m.\u001b[0m\u001b[0mlist_local_devices\u001b[0m\u001b[0;34m(\u001b[0m\u001b[0;34m)\u001b[0m\u001b[0;34m\u001b[0m\u001b[0m\n\u001b[0m",
      "\u001b[0;32m/home/yns207/anaconda3/envs/keras-py3/lib/python3.5/site-packages/tensorflow/python/client/device_lib.py\u001b[0m in \u001b[0;36mlist_local_devices\u001b[0;34m()\u001b[0m\n\u001b[1;32m     34\u001b[0m     \u001b[0;32mreturn\u001b[0m \u001b[0mm\u001b[0m\u001b[0;34m\u001b[0m\u001b[0m\n\u001b[1;32m     35\u001b[0m \u001b[0;34m\u001b[0m\u001b[0m\n\u001b[0;32m---> 36\u001b[0;31m   \u001b[0;32mreturn\u001b[0m \u001b[0;34m[\u001b[0m\u001b[0m_convert\u001b[0m\u001b[0;34m(\u001b[0m\u001b[0ms\u001b[0m\u001b[0;34m)\u001b[0m \u001b[0;32mfor\u001b[0m \u001b[0ms\u001b[0m \u001b[0;32min\u001b[0m \u001b[0mpywrap_tensorflow\u001b[0m\u001b[0;34m.\u001b[0m\u001b[0mlist_devices\u001b[0m\u001b[0;34m(\u001b[0m\u001b[0;34m)\u001b[0m\u001b[0;34m]\u001b[0m\u001b[0;34m\u001b[0m\u001b[0m\n\u001b[0m",
      "\u001b[0;32m/home/yns207/anaconda3/envs/keras-py3/lib/python3.5/site-packages/tensorflow/python/pywrap_tensorflow_internal.py\u001b[0m in \u001b[0;36mlist_devices\u001b[0;34m()\u001b[0m\n\u001b[1;32m    449\u001b[0m \u001b[0;34m\u001b[0m\u001b[0m\n\u001b[1;32m    450\u001b[0m   \u001b[0;32mwith\u001b[0m \u001b[0merrors\u001b[0m\u001b[0;34m.\u001b[0m\u001b[0mraise_exception_on_not_ok_status\u001b[0m\u001b[0;34m(\u001b[0m\u001b[0;34m)\u001b[0m \u001b[0;32mas\u001b[0m \u001b[0mstatus\u001b[0m\u001b[0;34m:\u001b[0m\u001b[0;34m\u001b[0m\u001b[0m\n\u001b[0;32m--> 451\u001b[0;31m     \u001b[0;32mreturn\u001b[0m \u001b[0mListDevices\u001b[0m\u001b[0;34m(\u001b[0m\u001b[0mstatus\u001b[0m\u001b[0;34m)\u001b[0m\u001b[0;34m\u001b[0m\u001b[0m\n\u001b[0m\u001b[1;32m    452\u001b[0m \u001b[0;34m\u001b[0m\u001b[0m\n\u001b[1;32m    453\u001b[0m \u001b[0;34m\u001b[0m\u001b[0m\n",
      "\u001b[0;32m/home/yns207/anaconda3/envs/keras-py3/lib/python3.5/contextlib.py\u001b[0m in \u001b[0;36m__exit__\u001b[0;34m(self, type, value, traceback)\u001b[0m\n\u001b[1;32m     64\u001b[0m         \u001b[0;32mif\u001b[0m \u001b[0mtype\u001b[0m \u001b[0;32mis\u001b[0m \u001b[0;32mNone\u001b[0m\u001b[0;34m:\u001b[0m\u001b[0;34m\u001b[0m\u001b[0m\n\u001b[1;32m     65\u001b[0m             \u001b[0;32mtry\u001b[0m\u001b[0;34m:\u001b[0m\u001b[0;34m\u001b[0m\u001b[0m\n\u001b[0;32m---> 66\u001b[0;31m                 \u001b[0mnext\u001b[0m\u001b[0;34m(\u001b[0m\u001b[0mself\u001b[0m\u001b[0;34m.\u001b[0m\u001b[0mgen\u001b[0m\u001b[0;34m)\u001b[0m\u001b[0;34m\u001b[0m\u001b[0m\n\u001b[0m\u001b[1;32m     67\u001b[0m             \u001b[0;32mexcept\u001b[0m \u001b[0mStopIteration\u001b[0m\u001b[0;34m:\u001b[0m\u001b[0;34m\u001b[0m\u001b[0m\n\u001b[1;32m     68\u001b[0m                 \u001b[0;32mreturn\u001b[0m\u001b[0;34m\u001b[0m\u001b[0m\n",
      "\u001b[0;32m/home/yns207/anaconda3/envs/keras-py3/lib/python3.5/site-packages/tensorflow/python/framework/errors_impl.py\u001b[0m in \u001b[0;36mraise_exception_on_not_ok_status\u001b[0;34m()\u001b[0m\n\u001b[1;32m    464\u001b[0m           \u001b[0;32mNone\u001b[0m\u001b[0;34m,\u001b[0m \u001b[0;32mNone\u001b[0m\u001b[0;34m,\u001b[0m\u001b[0;34m\u001b[0m\u001b[0m\n\u001b[1;32m    465\u001b[0m           \u001b[0mcompat\u001b[0m\u001b[0;34m.\u001b[0m\u001b[0mas_text\u001b[0m\u001b[0;34m(\u001b[0m\u001b[0mpywrap_tensorflow\u001b[0m\u001b[0;34m.\u001b[0m\u001b[0mTF_Message\u001b[0m\u001b[0;34m(\u001b[0m\u001b[0mstatus\u001b[0m\u001b[0;34m)\u001b[0m\u001b[0;34m)\u001b[0m\u001b[0;34m,\u001b[0m\u001b[0;34m\u001b[0m\u001b[0m\n\u001b[0;32m--> 466\u001b[0;31m           pywrap_tensorflow.TF_GetCode(status))\n\u001b[0m\u001b[1;32m    467\u001b[0m   \u001b[0;32mfinally\u001b[0m\u001b[0;34m:\u001b[0m\u001b[0;34m\u001b[0m\u001b[0m\n\u001b[1;32m    468\u001b[0m     \u001b[0mpywrap_tensorflow\u001b[0m\u001b[0;34m.\u001b[0m\u001b[0mTF_DeleteStatus\u001b[0m\u001b[0;34m(\u001b[0m\u001b[0mstatus\u001b[0m\u001b[0;34m)\u001b[0m\u001b[0;34m\u001b[0m\u001b[0m\n",
      "\u001b[0;31mInternalError\u001b[0m: failed initializing StreamExecutor for CUDA device ordinal 0: Internal: failed call to cuDevicePrimaryCtxRetain: CUDA_ERROR_INVALID_DEVICE"
     ]
    }
   ],
   "source": [
    "#trying a vgg16 build\n",
    "from tensorflow.python.client import device_lib\n",
    "device_lib.list_local_devices() "
   ]
  },
  {
   "cell_type": "code",
   "execution_count": 2,
   "metadata": {},
   "outputs": [
    {
     "name": "stderr",
     "output_type": "stream",
     "text": [
      "WARNING (theano.sandbox.cuda): The cuda backend is deprecated and will be removed in the next release (v0.10).  Please switch to the gpuarray backend. You can get more information about how to switch at this URL:\n",
      " https://github.com/Theano/Theano/wiki/Converting-to-the-new-gpu-back-end%28gpuarray%29\n",
      "\n",
      "Using gpu device 0: GeForce GTX 1080 (CNMeM is disabled, cuDNN 5105)\n"
     ]
    }
   ],
   "source": [
    "from theano.sandbox import cuda"
   ]
  },
  {
   "cell_type": "code",
   "execution_count": 6,
   "metadata": {},
   "outputs": [
    {
     "name": "stderr",
     "output_type": "stream",
     "text": [
      "Using TensorFlow backend.\n"
     ]
    }
   ],
   "source": [
    "import h5py\n",
    "import numpy as np\n",
    "import PIL\n",
    "\n",
    "from keras import backend as K\n",
    "from keras.utils.data_utils import get_file\n",
    "from keras.models import Sequential, Model\n",
    "from keras.layers import Input\n",
    "from keras.layers.core import Flatten, Dense, Dropout, Lambda\n",
    "from keras.layers.convolutional import Convolution2D, MaxPooling2D, ZeroPadding2D\n",
    "from keras.optimizers import SGD, RMSprop, Adam\n",
    "from keras.preprocessing import image\n",
    "from keras.layers.normalization import BatchNormalization\n",
    "from keras.preprocessing import image\n",
    "from keras import optimizers\n",
    "from keras import applications\n",
    "from keras.callbacks import ModelCheckpoint\n",
    "\n",
    "import matplotlib.image as mpimg\n",
    "import matplotlib.pyplot as plt"
   ]
  },
  {
   "cell_type": "code",
   "execution_count": 3,
   "metadata": {},
   "outputs": [
    {
     "name": "stdout",
     "output_type": "stream",
     "text": [
      "/home/yns207/nbs/machine_learning/invasive /scratch/yns207/data_invasive\n"
     ]
    }
   ],
   "source": [
    "import os\n",
    "import numpy as np\n",
    "from glob import glob\n",
    "import pandas as pd\n",
    "\n",
    "CUR_DIR = os.getcwd()\n",
    "DATA_DIR = os.path.join('/scratch', 'yns207', 'data_invasive')\n",
    "W_PATH = 'https://github.com/fchollet/deep-learning-models/releases/download/v0.1/vgg16_weights_tf_dim_ordering_tf_kernels_notop.h5'\n",
    "print(CUR_DIR, DATA_DIR)"
   ]
  },
  {
   "cell_type": "code",
   "execution_count": 4,
   "metadata": {
    "collapsed": true
   },
   "outputs": [],
   "source": [
    "path = DATA_DIR\n",
    "test_path = os.path.join(path, 'test')\n",
    "models_path = os.path.join(path, 'results')\n",
    "train_path = os.path.join(path, 'train')\n",
    "valid_path = os.path.join(path, 'valid')\n",
    "batch_size = 64"
   ]
  },
  {
   "cell_type": "markdown",
   "metadata": {},
   "source": [
    "# preprocesses and trains the model"
   ]
  },
  {
   "cell_type": "code",
   "execution_count": 9,
   "metadata": {},
   "outputs": [
    {
     "name": "stdout",
     "output_type": "stream",
     "text": [
      "/scratch/yns207/data_invasive\n",
      "[[[ 111.32052594  121.25063492  103.65633209]]]\n"
     ]
    }
   ],
   "source": [
    "%cd $DATA_DIR\n",
    "gt = glob('train/0/*.jpg')\n",
    "\n",
    "px_avg = np.array([]).reshape(0,3)\n",
    "\n",
    "for f in gt:\n",
    "    img = mpimg.imread(f)\n",
    "    r_img = img.reshape(img.shape[0]*img.shape[1], img.shape[2])\n",
    "    mean = np.mean(r_img, axis=0).reshape(1,3)\n",
    "    px_avg = np.vstack((px_avg, mean))\n",
    "\n",
    "all_img_px_avg = np.mean(px_avg, axis=0)\n",
    "vgg_mean = all_img_px_avg.reshape((1,1,3))\n",
    "\n",
    "def vgg_preprocess(x):\n",
    "    x = x - vgg_mean\n",
    "    return x[:, ::-1] # reverse axis rgb->bgr\n",
    "\n",
    "print(vgg_mean)"
   ]
  },
  {
   "cell_type": "code",
   "execution_count": 25,
   "metadata": {
    "collapsed": true
   },
   "outputs": [],
   "source": [
    "# reset model from previous run\n",
    "model = None\n",
    "\n",
    "# create the skeleton of the vgg16\n",
    "inputs = Input(shape=(224,224,3))\n",
    "m = Lambda(vgg_preprocess, input_shape=(224,224,3), output_shape=(224,224,3))(inputs)\n",
    "m = ZeroPadding2D((1,1))(m)\n",
    "m = Convolution2D(64, (3, 3), activation='relu')(m)\n",
    "m = ZeroPadding2D((1,1))(m)\n",
    "m = Convolution2D(64, (3, 3), activation='relu')(m)\n",
    "m = MaxPooling2D((2,2), strides=(2,2))(m)\n",
    "\n",
    "m = ZeroPadding2D((1,1))(m)\n",
    "m = Convolution2D(128, (3, 3), activation='relu')(m)\n",
    "m = ZeroPadding2D((1,1))(m)\n",
    "m = Convolution2D(128, (3, 3), activation='relu')(m)\n",
    "m = MaxPooling2D((2,2), strides=(2,2))(m)\n",
    "\n",
    "m = ZeroPadding2D((1,1))(m)\n",
    "m = Convolution2D(256, (3, 3), activation='relu')(m)\n",
    "m = ZeroPadding2D((1,1))(m)\n",
    "m = Convolution2D(256, (3, 3), activation='relu')(m)\n",
    "m = ZeroPadding2D((1,1))(m)\n",
    "m = Convolution2D(256, (3, 3), activation='relu')(m)\n",
    "m = MaxPooling2D((2,2), strides=(2,2))(m)\n",
    "\n",
    "m = ZeroPadding2D((1,1))(m)\n",
    "m = Convolution2D(512, (3, 3), activation='relu')(m)\n",
    "m = ZeroPadding2D((1,1))(m)\n",
    "m = Convolution2D(512, (3, 3), activation='relu')(m)\n",
    "m = ZeroPadding2D((1,1))(m)\n",
    "m = Convolution2D(512, (3, 3), activation='relu')(m)\n",
    "m = MaxPooling2D((2,2), strides=(2,2))(m)\n",
    "\n",
    "m = ZeroPadding2D((1,1))(m)\n",
    "m = Convolution2D(512, (3, 3), activation='relu')(m)\n",
    "m = ZeroPadding2D((1,1))(m)\n",
    "m = Convolution2D(512, (3, 3), activation='relu')(m)\n",
    "m = ZeroPadding2D((1,1))(m)\n",
    "m = Convolution2D(512, (3, 3), activation='relu')(m)\n",
    "conv_feat = MaxPooling2D((2,2), strides=(2,2),)(m)\n",
    "\n",
    "# ignore the top\n",
    "# m = Flatten()(m)\n",
    "# m = Dense(4096, activation='relu')(m)\n",
    "# m = Dense(4096, activation='relu')(m)\n",
    "# preds = Dense(1000, activation='softmax')(m)\n",
    "\n",
    "base_model = Model(inputs=inputs, outputs=conv_feat)"
   ]
  },
  {
   "cell_type": "code",
   "execution_count": 26,
   "metadata": {
    "collapsed": true
   },
   "outputs": [],
   "source": [
    "base_model.load_weights(get_file('vgg16_tf_notop.h5',  W_PATH))"
   ]
  },
  {
   "cell_type": "code",
   "execution_count": 27,
   "metadata": {
    "collapsed": true
   },
   "outputs": [],
   "source": [
    "for layer in base_model.layers:\n",
    "    layer.trainable = False"
   ]
  },
  {
   "cell_type": "code",
   "execution_count": 28,
   "metadata": {
    "scrolled": true
   },
   "outputs": [
    {
     "name": "stdout",
     "output_type": "stream",
     "text": [
      "_________________________________________________________________\n",
      "Layer (type)                 Output Shape              Param #   \n",
      "=================================================================\n",
      "input_2 (InputLayer)         (None, 224, 224, 3)       0         \n",
      "_________________________________________________________________\n",
      "lambda_2 (Lambda)            (None, 224, 224, 3)       0         \n",
      "_________________________________________________________________\n",
      "zero_padding2d_14 (ZeroPaddi (None, 226, 226, 3)       0         \n",
      "_________________________________________________________________\n",
      "conv2d_14 (Conv2D)           (None, 224, 224, 64)      1792      \n",
      "_________________________________________________________________\n",
      "zero_padding2d_15 (ZeroPaddi (None, 226, 226, 64)      0         \n",
      "_________________________________________________________________\n",
      "conv2d_15 (Conv2D)           (None, 224, 224, 64)      36928     \n",
      "_________________________________________________________________\n",
      "max_pooling2d_6 (MaxPooling2 (None, 112, 112, 64)      0         \n",
      "_________________________________________________________________\n",
      "zero_padding2d_16 (ZeroPaddi (None, 114, 114, 64)      0         \n",
      "_________________________________________________________________\n",
      "conv2d_16 (Conv2D)           (None, 112, 112, 128)     73856     \n",
      "_________________________________________________________________\n",
      "zero_padding2d_17 (ZeroPaddi (None, 114, 114, 128)     0         \n",
      "_________________________________________________________________\n",
      "conv2d_17 (Conv2D)           (None, 112, 112, 128)     147584    \n",
      "_________________________________________________________________\n",
      "max_pooling2d_7 (MaxPooling2 (None, 56, 56, 128)       0         \n",
      "_________________________________________________________________\n",
      "zero_padding2d_18 (ZeroPaddi (None, 58, 58, 128)       0         \n",
      "_________________________________________________________________\n",
      "conv2d_18 (Conv2D)           (None, 56, 56, 256)       295168    \n",
      "_________________________________________________________________\n",
      "zero_padding2d_19 (ZeroPaddi (None, 58, 58, 256)       0         \n",
      "_________________________________________________________________\n",
      "conv2d_19 (Conv2D)           (None, 56, 56, 256)       590080    \n",
      "_________________________________________________________________\n",
      "zero_padding2d_20 (ZeroPaddi (None, 58, 58, 256)       0         \n",
      "_________________________________________________________________\n",
      "conv2d_20 (Conv2D)           (None, 56, 56, 256)       590080    \n",
      "_________________________________________________________________\n",
      "max_pooling2d_8 (MaxPooling2 (None, 28, 28, 256)       0         \n",
      "_________________________________________________________________\n",
      "zero_padding2d_21 (ZeroPaddi (None, 30, 30, 256)       0         \n",
      "_________________________________________________________________\n",
      "conv2d_21 (Conv2D)           (None, 28, 28, 512)       1180160   \n",
      "_________________________________________________________________\n",
      "zero_padding2d_22 (ZeroPaddi (None, 30, 30, 512)       0         \n",
      "_________________________________________________________________\n",
      "conv2d_22 (Conv2D)           (None, 28, 28, 512)       2359808   \n",
      "_________________________________________________________________\n",
      "zero_padding2d_23 (ZeroPaddi (None, 30, 30, 512)       0         \n",
      "_________________________________________________________________\n",
      "conv2d_23 (Conv2D)           (None, 28, 28, 512)       2359808   \n",
      "_________________________________________________________________\n",
      "max_pooling2d_9 (MaxPooling2 (None, 14, 14, 512)       0         \n",
      "_________________________________________________________________\n",
      "zero_padding2d_24 (ZeroPaddi (None, 16, 16, 512)       0         \n",
      "_________________________________________________________________\n",
      "conv2d_24 (Conv2D)           (None, 14, 14, 512)       2359808   \n",
      "_________________________________________________________________\n",
      "zero_padding2d_25 (ZeroPaddi (None, 16, 16, 512)       0         \n",
      "_________________________________________________________________\n",
      "conv2d_25 (Conv2D)           (None, 14, 14, 512)       2359808   \n",
      "_________________________________________________________________\n",
      "zero_padding2d_26 (ZeroPaddi (None, 16, 16, 512)       0         \n",
      "_________________________________________________________________\n",
      "conv2d_26 (Conv2D)           (None, 14, 14, 512)       2359808   \n",
      "_________________________________________________________________\n",
      "max_pooling2d_10 (MaxPooling (None, 7, 7, 512)         0         \n",
      "_________________________________________________________________\n",
      "sequential_2 (Sequential)    (None, 2)                 6423298   \n",
      "=================================================================\n",
      "Total params: 21,137,986\n",
      "Trainable params: 6,423,298\n",
      "Non-trainable params: 14,714,688\n",
      "_________________________________________________________________\n"
     ]
    }
   ],
   "source": [
    "top_model = Sequential()\n",
    "top_model.add(Flatten(input_shape=base_model.output_shape[1:]))\n",
    "top_model.add(Dense(256, activation='relu'))\n",
    "top_model.add(Dense(2, activation='sigmoid'))\n",
    "\n",
    "model = Model(inputs=base_model.input, outputs=top_model(base_model.output))\n",
    "model.compile(loss='binary_crossentropy', optimizer=optimizers.SGD(lr=1e-4, momentum=0.9),\n",
    "              metrics=['accuracy'])\n",
    "\n",
    "model.summary()"
   ]
  },
  {
   "cell_type": "code",
   "execution_count": 134,
   "metadata": {},
   "outputs": [
    {
     "name": "stdout",
     "output_type": "stream",
     "text": [
      "Found 1836 images belonging to 2 classes.\n",
      "Found 1836 images belonging to 2 classes.\n",
      "Found 459 images belonging to 2 classes.\n",
      "Found 1531 images belonging to 1 classes.\n"
     ]
    }
   ],
   "source": [
    "gen = image.ImageDataGenerator()\n",
    "gen_t = image.ImageDataGenerator(\n",
    "        rotation_range=30, \n",
    "        width_shift_range=0.1,\n",
    "        height_shift_range=0.1, \n",
    "        horizontal_flip=True)\n",
    "\n",
    "tr_batches = gen.flow_from_directory(train_path, \n",
    "                                     target_size=(224,224), \n",
    "                                     class_mode='categorical', \n",
    "                                     shuffle=True, \n",
    "                                     batch_size=batch_size)\n",
    "\n",
    "tr_batches_aug = gen_t.flow_from_directory(train_path, \n",
    "                                     target_size=(224,224), \n",
    "                                     class_mode='categorical', \n",
    "                                     shuffle=True, \n",
    "                                     batch_size=batch_size)\n",
    "\n",
    "va_batches = gen.flow_from_directory(valid_path, \n",
    "                                     target_size=(224,224), \n",
    "                                     class_mode='categorical', \n",
    "                                     shuffle=False, \n",
    "                                     batch_size=batch_size)\n",
    "\n",
    "te_batches = gen.flow_from_directory(test_path, \n",
    "                                     target_size=(224,224), \n",
    "                                     class_mode='categorical', \n",
    "                                     shuffle=False, \n",
    "                                     batch_size=batch_size)"
   ]
  },
  {
   "cell_type": "code",
   "execution_count": 30,
   "metadata": {},
   "outputs": [
    {
     "name": "stdout",
     "output_type": "stream",
     "text": [
      "Epoch 1/10\n",
      "29/29 [==============================] - 59s - loss: 1.2254 - acc: 0.7629 - val_loss: 0.5025 - val_acc: 0.8791\n",
      "Epoch 2/10\n",
      "29/29 [==============================] - 46s - loss: 0.2951 - acc: 0.9173 - val_loss: 0.3792 - val_acc: 0.8911\n",
      "Epoch 3/10\n",
      "29/29 [==============================] - 46s - loss: 0.1403 - acc: 0.9524 - val_loss: 0.3588 - val_acc: 0.8922\n",
      "Epoch 4/10\n",
      "29/29 [==============================] - 46s - loss: 0.0810 - acc: 0.9713 - val_loss: 0.3767 - val_acc: 0.8932\n",
      "Epoch 5/10\n",
      "29/29 [==============================] - 46s - loss: 0.0468 - acc: 0.9872 - val_loss: 0.3585 - val_acc: 0.9009\n",
      "Epoch 6/10\n",
      "29/29 [==============================] - 46s - loss: 0.0311 - acc: 0.9938 - val_loss: 0.3525 - val_acc: 0.9020\n",
      "Epoch 7/10\n",
      "29/29 [==============================] - 46s - loss: 0.0223 - acc: 0.9981 - val_loss: 0.3522 - val_acc: 0.9031\n",
      "Epoch 8/10\n",
      "29/29 [==============================] - 46s - loss: 0.0176 - acc: 0.9985 - val_loss: 0.3519 - val_acc: 0.9031\n",
      "Epoch 9/10\n",
      "29/29 [==============================] - 46s - loss: 0.0145 - acc: 0.9997 - val_loss: 0.3522 - val_acc: 0.9041\n",
      "Epoch 10/10\n",
      "29/29 [==============================] - 46s - loss: 0.0126 - acc: 1.0000 - val_loss: 0.3511 - val_acc: 0.9063\n"
     ]
    }
   ],
   "source": [
    "hist = model.fit_generator(tr_batches,\n",
    "                    steps_per_epoch=(tr_batches.n//batch_size)+1,\n",
    "                    validation_data=va_batches,\n",
    "                    validation_steps=(va_batches.n//batch_size)+1,\n",
    "                    epochs=10)"
   ]
  },
  {
   "cell_type": "code",
   "execution_count": 31,
   "metadata": {},
   "outputs": [
    {
     "data": {
      "text/plain": [
       "{'acc': [0.76171023965141615,\n",
       "  0.91639433551198257,\n",
       "  0.95234204896914409,\n",
       "  0.97113289786320112,\n",
       "  0.98747276766367731,\n",
       "  0.99373638344226578,\n",
       "  0.99809368191721137,\n",
       "  0.99863834448629474,\n",
       "  0.99972766884531594,\n",
       "  1.0],\n",
       " 'loss': [1.2324025130999114,\n",
       "  0.2978471160048623,\n",
       "  0.14020533028641038,\n",
       "  0.080994462200759024,\n",
       "  0.046559114520456274,\n",
       "  0.031162035377586588,\n",
       "  0.022181066714860257,\n",
       "  0.017463743163187519,\n",
       "  0.014583316493641448,\n",
       "  0.012592136218721831],\n",
       " 'val_acc': [0.87908496796954949,\n",
       "  0.89106753916522252,\n",
       "  0.89215686274509809,\n",
       "  0.89324618736383443,\n",
       "  0.90087145969498905,\n",
       "  0.90196078431372551,\n",
       "  0.90305010893246185,\n",
       "  0.90305010893246185,\n",
       "  0.9041394335511983,\n",
       "  0.90631808278867099],\n",
       " 'val_loss': [0.50254006639999504,\n",
       "  0.37917894959319909,\n",
       "  0.35879198313652172,\n",
       "  0.37674205479656464,\n",
       "  0.3585069912317369,\n",
       "  0.35254891838042435,\n",
       "  0.35222653594184544,\n",
       "  0.35194413478370584,\n",
       "  0.3521901782447866,\n",
       "  0.35106778423624491]}"
      ]
     },
     "execution_count": 31,
     "metadata": {},
     "output_type": "execute_result"
    }
   ],
   "source": [
    "hist.history"
   ]
  },
  {
   "cell_type": "code",
   "execution_count": 32,
   "metadata": {},
   "outputs": [
    {
     "data": {
      "image/png": "[encoded data removed]",
      "text/plain": [
       "<matplotlib.figure.Figure at 0x2b99377b8cf8>"
      ]
     },
     "metadata": {},
     "output_type": "display_data"
    }
   ],
   "source": [
    "plt.plot(hist.history['acc'])\n",
    "plt.plot(hist.history['val_acc'])\n",
    "plt.title('model acc')\n",
    "plt.ylabel('acc')\n",
    "plt.xlabel('epoch')\n",
    "plt.legend(['train', 'valid'], loc='upper left')\n",
    "plt.show()"
   ]
  },
  {
   "cell_type": "code",
   "execution_count": 33,
   "metadata": {},
   "outputs": [
    {
     "data": {
      "image/png": "[encoded data removed]",
      "text/plain": [
       "<matplotlib.figure.Figure at 0x2b9937e21a90>"
      ]
     },
     "metadata": {},
     "output_type": "display_data"
    }
   ],
   "source": [
    "plt.plot(hist.history['loss'])\n",
    "plt.plot(hist.history['val_loss'])\n",
    "plt.title('model loss')\n",
    "plt.xlabel('epoch')\n",
    "plt.ylabel('loss')\n",
    "plt.legend(['train', 'valid'], loc='upper left')\n",
    "plt.show()"
   ]
  },
  {
   "cell_type": "code",
   "execution_count": 34,
   "metadata": {},
   "outputs": [
    {
     "data": {
      "text/plain": [
       "array([  1.68584927e-03,   9.80228007e-01,   1.71551891e-02, ...,\n",
       "         2.43302867e-01,   1.13686502e-01,   8.94223740e-06], dtype=float32)"
      ]
     },
     "execution_count": 34,
     "metadata": {},
     "output_type": "execute_result"
    }
   ],
   "source": [
    "preds = model.predict_generator(te_batches, (te_batches.n//batch_size)+1, workers=2)\n",
    "preds[:,1]"
   ]
  },
  {
   "cell_type": "code",
   "execution_count": 35,
   "metadata": {},
   "outputs": [
    {
     "data": {
      "text/plain": [
       "['unknown/324.jpg',\n",
       " 'unknown/47.jpg',\n",
       " 'unknown/966.jpg',\n",
       " 'unknown/1526.jpg',\n",
       " 'unknown/487.jpg']"
      ]
     },
     "execution_count": 35,
     "metadata": {},
     "output_type": "execute_result"
    }
   ],
   "source": [
    "fnames = te_batches.filenames\n",
    "fnames[:5]"
   ]
  },
  {
   "cell_type": "code",
   "execution_count": 36,
   "metadata": {},
   "outputs": [
    {
     "data": {
      "text/plain": [
       "array(['324', '47', '966', ..., '901', '1189', '125'], \n",
       "      dtype='<U4')"
      ]
     },
     "execution_count": 36,
     "metadata": {},
     "output_type": "execute_result"
    }
   ],
   "source": [
    "names = np.array(list(map(lambda x: x[8:].split('.')[0], fnames)))\n",
    "names"
   ]
  },
  {
   "cell_type": "code",
   "execution_count": 37,
   "metadata": {},
   "outputs": [
    {
     "name": "stdout",
     "output_type": "stream",
     "text": [
      "(1531,) (1531,)\n"
     ]
    }
   ],
   "source": [
    "print(names.shape, preds[:,1].shape)"
   ]
  },
  {
   "cell_type": "code",
   "execution_count": 38,
   "metadata": {},
   "outputs": [
    {
     "data": {
      "text/plain": [
       "(1531, 2)"
      ]
     },
     "execution_count": 38,
     "metadata": {},
     "output_type": "execute_result"
    }
   ],
   "source": [
    "subm_data = np.stack((names, preds[:,1]), axis=1)\n",
    "subm_data.shape"
   ]
  },
  {
   "cell_type": "code",
   "execution_count": 39,
   "metadata": {},
   "outputs": [
    {
     "data": {
      "text/html": [
       "<div>\n",
       "<style>\n",
       "    .dataframe thead tr:only-child th {\n",
       "        text-align: right;\n",
       "    }\n",
       "\n",
       "    .dataframe thead th {\n",
       "        text-align: left;\n",
       "    }\n",
       "\n",
       "    .dataframe tbody tr th {\n",
       "        vertical-align: top;\n",
       "    }\n",
       "</style>\n",
       "<table border=\"1\" class=\"dataframe\">\n",
       "  <thead>\n",
       "    <tr style=\"text-align: right;\">\n",
       "      <th></th>\n",
       "      <th>name</th>\n",
       "      <th>invasive</th>\n",
       "    </tr>\n",
       "  </thead>\n",
       "  <tbody>\n",
       "    <tr>\n",
       "      <th>0</th>\n",
       "      <td>324</td>\n",
       "      <td>0.001685849274508655</td>\n",
       "    </tr>\n",
       "    <tr>\n",
       "      <th>1</th>\n",
       "      <td>47</td>\n",
       "      <td>0.9802280068397522</td>\n",
       "    </tr>\n",
       "    <tr>\n",
       "      <th>2</th>\n",
       "      <td>966</td>\n",
       "      <td>0.01715518906712532</td>\n",
       "    </tr>\n",
       "    <tr>\n",
       "      <th>3</th>\n",
       "      <td>1526</td>\n",
       "      <td>1.2194141163490713e-05</td>\n",
       "    </tr>\n",
       "    <tr>\n",
       "      <th>4</th>\n",
       "      <td>487</td>\n",
       "      <td>0.8726879358291626</td>\n",
       "    </tr>\n",
       "  </tbody>\n",
       "</table>\n",
       "</div>"
      ],
      "text/plain": [
       "   name                invasive\n",
       "0   324    0.001685849274508655\n",
       "1    47      0.9802280068397522\n",
       "2   966     0.01715518906712532\n",
       "3  1526  1.2194141163490713e-05\n",
       "4   487      0.8726879358291626"
      ]
     },
     "execution_count": 39,
     "metadata": {},
     "output_type": "execute_result"
    }
   ],
   "source": [
    "df = pd.DataFrame(subm_data, columns=['name','invasive'])\n",
    "df.head()"
   ]
  },
  {
   "cell_type": "code",
   "execution_count": 40,
   "metadata": {
    "collapsed": true
   },
   "outputs": [],
   "source": [
    "df.to_csv(os.path.join(DATA_DIR, 'results', 'subm_june_1_2017_2.gz'), index=False, compression='gzip')"
   ]
  },
  {
   "cell_type": "code",
   "execution_count": 41,
   "metadata": {},
   "outputs": [
    {
     "name": "stdout",
     "output_type": "stream",
     "text": [
      "total 129K\r\n",
      "drwxr-x--- 2 yns207 yns207 4,0K  1 juin  11:37 \u001b[0m\u001b[38;5;27m.\u001b[0m/\r\n",
      "drwxr-x--- 6 yns207 yns207 4,0K 26 mai   19:52 \u001b[38;5;27m..\u001b[0m/\r\n",
      "-rw-r----- 1 yns207 yns207  17K  1 juin  11:37 \u001b[38;5;9msubm_june_1_2017_2.gz\u001b[0m\r\n",
      "-rw-r----- 1 yns207 yns207  17K  1 juin  11:19 \u001b[38;5;9msubm_june_1_2017.gz\u001b[0m\r\n",
      "-rw-r----- 1 yns207 yns207  18K 27 mai   22:36 \u001b[38;5;9msubm_may_27_2017_2.gz\u001b[0m\r\n",
      "-rw-r----- 1 yns207 yns207  17K 27 mai   11:45 \u001b[38;5;9msubm_may_27_2017.gz\u001b[0m\r\n",
      "-rw-r----- 1 yns207 yns207  18K 30 mai   14:04 \u001b[38;5;9msubm_may_29_2017_.gz\u001b[0m\r\n",
      "-rw-r----- 1 yns207 yns207  18K 30 mai   14:56 \u001b[38;5;9msubm_may_30_2017_2.gz\u001b[0m\r\n",
      "-rw-r----- 1 yns207 yns207  18K 30 mai   14:06 \u001b[38;5;9msubm_may_30_2017.gz\u001b[0m\r\n"
     ]
    }
   ],
   "source": [
    "%ls -lah $DATA_DIR/results"
   ]
  },
  {
   "cell_type": "markdown",
   "metadata": {},
   "source": [
    "the last run kind of confirms that this algorithm has a high variance in other words more optimization could help\n",
    "we could also try to increase bias (beacause we cant get more data)\n",
    "\n",
    "before running this at 10 epochs i ran it at 5 and got that score\n",
    "\n",
    "everytime i incerase epochs by 5 i seem to get an extra .10 score\n",
    "\n",
    "so maybe ill try for ~25 epochs, with adam should be ok\n",
    "\n",
    "heres what to try next:\n",
    "\n",
    "1 - adam optimizer instead of SGD\n",
    "\n",
    "2 - learning rate speed up then slowdown after 10 epochs\n",
    "\n",
    "3 - data augmentation\n",
    "\n",
    "4 - batch norm + dropout on the final layers\n",
    "\n",
    "5 - pseudo labeling to get more data since this *seems* like a high variance scenario\n",
    "\n",
    "ps the above model is ALREADY with the mean of non-invasive images form the training set subtracted."
   ]
  },
  {
   "cell_type": "code",
   "execution_count": 55,
   "metadata": {
    "scrolled": true
   },
   "outputs": [
    {
     "name": "stdout",
     "output_type": "stream",
     "text": [
      "_________________________________________________________________\n",
      "Layer (type)                 Output Shape              Param #   \n",
      "=================================================================\n",
      "input_5 (InputLayer)         (None, 224, 224, 3)       0         \n",
      "_________________________________________________________________\n",
      "lambda_5 (Lambda)            (None, 224, 224, 3)       0         \n",
      "_________________________________________________________________\n",
      "zero_padding2d_53 (ZeroPaddi (None, 226, 226, 3)       0         \n",
      "_________________________________________________________________\n",
      "conv2d_53 (Conv2D)           (None, 224, 224, 64)      1792      \n",
      "_________________________________________________________________\n",
      "zero_padding2d_54 (ZeroPaddi (None, 226, 226, 64)      0         \n",
      "_________________________________________________________________\n",
      "conv2d_54 (Conv2D)           (None, 224, 224, 64)      36928     \n",
      "_________________________________________________________________\n",
      "max_pooling2d_21 (MaxPooling (None, 112, 112, 64)      0         \n",
      "_________________________________________________________________\n",
      "zero_padding2d_55 (ZeroPaddi (None, 114, 114, 64)      0         \n",
      "_________________________________________________________________\n",
      "conv2d_55 (Conv2D)           (None, 112, 112, 128)     73856     \n",
      "_________________________________________________________________\n",
      "zero_padding2d_56 (ZeroPaddi (None, 114, 114, 128)     0         \n",
      "_________________________________________________________________\n",
      "conv2d_56 (Conv2D)           (None, 112, 112, 128)     147584    \n",
      "_________________________________________________________________\n",
      "max_pooling2d_22 (MaxPooling (None, 56, 56, 128)       0         \n",
      "_________________________________________________________________\n",
      "zero_padding2d_57 (ZeroPaddi (None, 58, 58, 128)       0         \n",
      "_________________________________________________________________\n",
      "conv2d_57 (Conv2D)           (None, 56, 56, 256)       295168    \n",
      "_________________________________________________________________\n",
      "zero_padding2d_58 (ZeroPaddi (None, 58, 58, 256)       0         \n",
      "_________________________________________________________________\n",
      "conv2d_58 (Conv2D)           (None, 56, 56, 256)       590080    \n",
      "_________________________________________________________________\n",
      "zero_padding2d_59 (ZeroPaddi (None, 58, 58, 256)       0         \n",
      "_________________________________________________________________\n",
      "conv2d_59 (Conv2D)           (None, 56, 56, 256)       590080    \n",
      "_________________________________________________________________\n",
      "max_pooling2d_23 (MaxPooling (None, 28, 28, 256)       0         \n",
      "_________________________________________________________________\n",
      "zero_padding2d_60 (ZeroPaddi (None, 30, 30, 256)       0         \n",
      "_________________________________________________________________\n",
      "conv2d_60 (Conv2D)           (None, 28, 28, 512)       1180160   \n",
      "_________________________________________________________________\n",
      "zero_padding2d_61 (ZeroPaddi (None, 30, 30, 512)       0         \n",
      "_________________________________________________________________\n",
      "conv2d_61 (Conv2D)           (None, 28, 28, 512)       2359808   \n",
      "_________________________________________________________________\n",
      "zero_padding2d_62 (ZeroPaddi (None, 30, 30, 512)       0         \n",
      "_________________________________________________________________\n",
      "conv2d_62 (Conv2D)           (None, 28, 28, 512)       2359808   \n",
      "_________________________________________________________________\n",
      "max_pooling2d_24 (MaxPooling (None, 14, 14, 512)       0         \n",
      "_________________________________________________________________\n",
      "zero_padding2d_63 (ZeroPaddi (None, 16, 16, 512)       0         \n",
      "_________________________________________________________________\n",
      "conv2d_63 (Conv2D)           (None, 14, 14, 512)       2359808   \n",
      "_________________________________________________________________\n",
      "zero_padding2d_64 (ZeroPaddi (None, 16, 16, 512)       0         \n",
      "_________________________________________________________________\n",
      "conv2d_64 (Conv2D)           (None, 14, 14, 512)       2359808   \n",
      "_________________________________________________________________\n",
      "zero_padding2d_65 (ZeroPaddi (None, 16, 16, 512)       0         \n",
      "_________________________________________________________________\n",
      "conv2d_65 (Conv2D)           (None, 14, 14, 512)       2359808   \n",
      "_________________________________________________________________\n",
      "max_pooling2d_25 (MaxPooling (None, 7, 7, 512)         0         \n",
      "_________________________________________________________________\n",
      "sequential_5 (Sequential)    (None, 2)                 6524674   \n",
      "=================================================================\n",
      "Total params: 21,239,362\n",
      "Trainable params: 6,473,986\n",
      "Non-trainable params: 14,765,376\n",
      "_________________________________________________________________\n"
     ]
    }
   ],
   "source": [
    "top_model = Sequential()\n",
    "top_model.add(Flatten(input_shape=base_model.output_shape[1:]))\n",
    "top_model.add(BatchNormalization())\n",
    "top_model.add(Dense(256, activation='relu'))\n",
    "top_model.add(BatchNormalization())\n",
    "top_model.add(Dense(2, activation='sigmoid'))\n",
    "\n",
    "model = Model(inputs=base_model.input, outputs=top_model(base_model.output))\n",
    "model.compile(loss='binary_crossentropy', optimizer=optimizers.Adam(lr=0.0001), metrics=['accuracy'])"
   ]
  },
  {
   "cell_type": "code",
   "execution_count": 56,
   "metadata": {},
   "outputs": [
    {
     "name": "stdout",
     "output_type": "stream",
     "text": [
      "Found 1836 images belonging to 2 classes.\n",
      "Found 459 images belonging to 2 classes.\n",
      "Found 1531 images belonging to 1 classes.\n"
     ]
    }
   ],
   "source": [
    "gen = image.ImageDataGenerator()\n",
    "tr_batches = gen.flow_from_directory(train_path, \n",
    "                                     target_size=(224,224), \n",
    "                                     class_mode='categorical', \n",
    "                                     shuffle=True, \n",
    "                                     batch_size=batch_size)\n",
    "\n",
    "va_batches = gen.flow_from_directory(valid_path, \n",
    "                                     target_size=(224,224), \n",
    "                                     class_mode='categorical', \n",
    "                                     shuffle=False, \n",
    "                                     batch_size=batch_size)\n",
    "\n",
    "te_batches = gen.flow_from_directory(test_path, \n",
    "                                     target_size=(224,224), \n",
    "                                     class_mode='categorical', \n",
    "                                     shuffle=False, \n",
    "                                     batch_size=batch_size)"
   ]
  },
  {
   "cell_type": "code",
   "execution_count": null,
   "metadata": {
    "collapsed": true
   },
   "outputs": [],
   "source": [
    "#try learning rate altering\n",
    "#try adam instaed of SGD\n",
    "#try batchnorm"
   ]
  },
  {
   "cell_type": "code",
   "execution_count": 57,
   "metadata": {},
   "outputs": [
    {
     "name": "stdout",
     "output_type": "stream",
     "text": [
      "Epoch 1/10\n",
      "29/29 [==============================] - 59s - loss: 0.4040 - acc: 0.8229 - val_loss: 0.3874 - val_acc: 0.8954\n",
      "Epoch 2/10\n",
      "29/29 [==============================] - 46s - loss: 0.0973 - acc: 0.9720 - val_loss: 0.3834 - val_acc: 0.8998\n",
      "Epoch 3/10\n",
      "29/29 [==============================] - 46s - loss: 0.0455 - acc: 0.9955 - val_loss: 0.3506 - val_acc: 0.9031\n",
      "Epoch 4/10\n",
      "29/29 [==============================] - 46s - loss: 0.0292 - acc: 0.9978 - val_loss: 0.3451 - val_acc: 0.9041\n",
      "Epoch 5/10\n",
      "29/29 [==============================] - 46s - loss: 0.0227 - acc: 0.9978 - val_loss: 0.3385 - val_acc: 0.9052\n",
      "Epoch 6/10\n",
      "29/29 [==============================] - 46s - loss: 0.0148 - acc: 0.9997 - val_loss: 0.3295 - val_acc: 0.9052\n",
      "Epoch 7/10\n",
      "29/29 [==============================] - 46s - loss: 0.0123 - acc: 0.9996 - val_loss: 0.3282 - val_acc: 0.9074\n",
      "Epoch 8/10\n",
      "29/29 [==============================] - 46s - loss: 0.0087 - acc: 1.0000 - val_loss: 0.3272 - val_acc: 0.9052\n",
      "Epoch 9/10\n",
      "29/29 [==============================] - 46s - loss: 0.0080 - acc: 1.0000 - val_loss: 0.3276 - val_acc: 0.9063\n",
      "Epoch 10/10\n",
      "29/29 [==============================] - 46s - loss: 0.0070 - acc: 1.0000 - val_loss: 0.3268 - val_acc: 0.9052\n"
     ]
    }
   ],
   "source": [
    "hists = [None]*3\n",
    "hists[0] = model.fit_generator(tr_batches,\n",
    "                    steps_per_epoch=(tr_batches.n//batch_size)+1,\n",
    "                    validation_data=va_batches,\n",
    "                    validation_steps=(va_batches.n//batch_size)+1,\n",
    "                    epochs=10)"
   ]
  },
  {
   "cell_type": "code",
   "execution_count": 58,
   "metadata": {},
   "outputs": [
    {
     "name": "stdout",
     "output_type": "stream",
     "text": [
      "Epoch 1/10\n",
      "29/29 [==============================] - 59s - loss: 0.0055 - acc: 1.0000 - val_loss: 0.3246 - val_acc: 0.9041\n",
      "Epoch 2/10\n",
      "29/29 [==============================] - 46s - loss: 0.0047 - acc: 1.0000 - val_loss: 0.3254 - val_acc: 0.9031\n",
      "Epoch 3/10\n",
      "29/29 [==============================] - 46s - loss: 0.0049 - acc: 1.0000 - val_loss: 0.3200 - val_acc: 0.9063\n",
      "Epoch 4/10\n",
      "29/29 [==============================] - 46s - loss: 0.0043 - acc: 1.0000 - val_loss: 0.3239 - val_acc: 0.9041\n",
      "Epoch 5/10\n",
      "29/29 [==============================] - 46s - loss: 0.0033 - acc: 1.0000 - val_loss: 0.3252 - val_acc: 0.9041\n",
      "Epoch 6/10\n",
      "29/29 [==============================] - 46s - loss: 0.0043 - acc: 1.0000 - val_loss: 0.3261 - val_acc: 0.9020\n",
      "Epoch 7/10\n",
      "29/29 [==============================] - 46s - loss: 0.0050 - acc: 1.0000 - val_loss: 0.3285 - val_acc: 0.8998\n",
      "Epoch 8/10\n",
      "29/29 [==============================] - 46s - loss: 0.0027 - acc: 1.0000 - val_loss: 0.3266 - val_acc: 0.9041\n",
      "Epoch 9/10\n",
      "29/29 [==============================] - 46s - loss: 0.0027 - acc: 1.0000 - val_loss: 0.3343 - val_acc: 0.9031\n",
      "Epoch 10/10\n",
      "29/29 [==============================] - 46s - loss: 0.0022 - acc: 1.0000 - val_loss: 0.3418 - val_acc: 0.9031\n"
     ]
    }
   ],
   "source": [
    "model.optimizer.lr = 0.001\n",
    "hists[1] = model.fit_generator(tr_batches,\n",
    "                    steps_per_epoch=(tr_batches.n//batch_size)+1,\n",
    "                    validation_data=va_batches,\n",
    "                    validation_steps=(va_batches.n//batch_size)+1,\n",
    "                    epochs=10)"
   ]
  },
  {
   "cell_type": "code",
   "execution_count": 59,
   "metadata": {},
   "outputs": [
    {
     "name": "stdout",
     "output_type": "stream",
     "text": [
      "Epoch 1/10\n",
      "29/29 [==============================] - 59s - loss: 0.0022 - acc: 1.0000 - val_loss: 0.3459 - val_acc: 0.9041\n",
      "Epoch 2/10\n",
      "29/29 [==============================] - 46s - loss: 0.0021 - acc: 1.0000 - val_loss: 0.3484 - val_acc: 0.8998\n",
      "Epoch 3/10\n",
      "29/29 [==============================] - 46s - loss: 0.0026 - acc: 1.0000 - val_loss: 0.3532 - val_acc: 0.8987\n",
      "Epoch 4/10\n",
      "29/29 [==============================] - 46s - loss: 0.0022 - acc: 1.0000 - val_loss: 0.3568 - val_acc: 0.8976\n",
      "Epoch 5/10\n",
      "29/29 [==============================] - 46s - loss: 0.0018 - acc: 1.0000 - val_loss: 0.3583 - val_acc: 0.8965\n",
      "Epoch 6/10\n",
      "29/29 [==============================] - 46s - loss: 0.0014 - acc: 1.0000 - val_loss: 0.3536 - val_acc: 0.9031\n",
      "Epoch 7/10\n",
      "29/29 [==============================] - 46s - loss: 0.0021 - acc: 1.0000 - val_loss: 0.3571 - val_acc: 0.8998\n",
      "Epoch 8/10\n",
      "29/29 [==============================] - 46s - loss: 0.0015 - acc: 1.0000 - val_loss: 0.3527 - val_acc: 0.8987\n",
      "Epoch 9/10\n",
      "29/29 [==============================] - 46s - loss: 0.0014 - acc: 1.0000 - val_loss: 0.3534 - val_acc: 0.9020\n",
      "Epoch 10/10\n",
      "29/29 [==============================] - 46s - loss: 0.0016 - acc: 1.0000 - val_loss: 0.3595 - val_acc: 0.9009\n"
     ]
    }
   ],
   "source": [
    "model.optimizer.lr = 0.00001\n",
    "hists[2] = model.fit_generator(tr_batches,\n",
    "                    steps_per_epoch=(tr_batches.n//batch_size)+1,\n",
    "                    validation_data=va_batches,\n",
    "                    validation_steps=(va_batches.n//batch_size)+1,\n",
    "                    epochs=10)"
   ]
  },
  {
   "cell_type": "code",
   "execution_count": 70,
   "metadata": {},
   "outputs": [
    {
     "data": {
      "image/png": "[encoded data removed]",
      "text/plain": [
       "<matplotlib.figure.Figure at 0x2b99391492b0>"
      ]
     },
     "metadata": {},
     "output_type": "display_data"
    },
    {
     "data": {
      "image/png": "[encoded data removed]",
      "text/plain": [
       "<matplotlib.figure.Figure at 0x2b993918ec88>"
      ]
     },
     "metadata": {},
     "output_type": "display_data"
    },
    {
     "data": {
      "image/png": "[encoded data removed]",
      "text/plain": [
       "<matplotlib.figure.Figure at 0x2b9937db81d0>"
      ]
     },
     "metadata": {},
     "output_type": "display_data"
    }
   ],
   "source": [
    "# plot learning curves\n",
    "for i in range(3):\n",
    "    plt.plot(hists[i].history['loss'])\n",
    "    plt.plot(hists[i].history['val_loss'])\n",
    "    plt.title('model loss')\n",
    "    plt.xlabel('epoch')\n",
    "    plt.ylabel('loss')\n",
    "    plt.legend(['train', 'valid'], loc='upper left')\n",
    "    plt.show()"
   ]
  },
  {
   "cell_type": "code",
   "execution_count": null,
   "metadata": {
    "collapsed": true
   },
   "outputs": [],
   "source": [
    "# another try"
   ]
  },
  {
   "cell_type": "code",
   "execution_count": null,
   "metadata": {
    "collapsed": true
   },
   "outputs": [],
   "source": [
    "#lets keep all changes except learning rate changes.\n",
    "#looks like with batchnorm + adam it reaches optimal in\n",
    "#a few epochs\n",
    "#lets also try to add dropout and pseudo labelling\n",
    "#lets also try data aug\n",
    "# added another layer and more dropouts/batchnorms"
   ]
  },
  {
   "cell_type": "code",
   "execution_count": 126,
   "metadata": {
    "collapsed": true,
    "scrolled": true
   },
   "outputs": [],
   "source": [
    "top_model = Sequential()\n",
    "top_model.add(Flatten(input_shape=base_model.output_shape[1:]))\n",
    "top_model.add(BatchNormalization())\n",
    "top_model.add(Dense(256, activation='relu'))\n",
    "top_model.add(BatchNormalization())\n",
    "top_model.add(Dense(256, activation='relu'))\n",
    "top_model.add(BatchNormalization())\n",
    "top_model.add(Dropout(0.5))\n",
    "top_model.add(Dense(2, activation='sigmoid'))\n",
    "\n",
    "model = Model(inputs=base_model.input, outputs=top_model(base_model.output))\n",
    "model.compile(loss='binary_crossentropy', optimizer=optimizers.Adam(lr=0.0001), metrics=['accuracy'])"
   ]
  },
  {
   "cell_type": "code",
   "execution_count": 128,
   "metadata": {},
   "outputs": [
    {
     "name": "stdout",
     "output_type": "stream",
     "text": [
      "Epoch 1/10\n",
      "29/29 [==============================] - 70s - loss: 0.6393 - acc: 0.7045 - val_loss: 0.4106 - val_acc: 0.8377\n",
      "Epoch 2/10\n",
      "29/29 [==============================] - 58s - loss: 0.4326 - acc: 0.8249 - val_loss: 0.3987 - val_acc: 0.8486\n",
      "Epoch 3/10\n",
      "29/29 [==============================] - 58s - loss: 0.3843 - acc: 0.8450 - val_loss: 0.3723 - val_acc: 0.8627\n",
      "Epoch 4/10\n",
      "29/29 [==============================] - 58s - loss: 0.3333 - acc: 0.8665 - val_loss: 0.3465 - val_acc: 0.8824\n",
      "Epoch 5/10\n",
      "29/29 [==============================] - 57s - loss: 0.2938 - acc: 0.8805 - val_loss: 0.3035 - val_acc: 0.9009\n",
      "Epoch 6/10\n",
      "29/29 [==============================] - 58s - loss: 0.2771 - acc: 0.8943 - val_loss: 0.2956 - val_acc: 0.9009\n",
      "Epoch 7/10\n",
      "29/29 [==============================] - 57s - loss: 0.2713 - acc: 0.8963 - val_loss: 0.3030 - val_acc: 0.8976\n",
      "Epoch 8/10\n",
      "29/29 [==============================] - 58s - loss: 0.2439 - acc: 0.9071 - val_loss: 0.2743 - val_acc: 0.9129\n",
      "Epoch 9/10\n",
      "29/29 [==============================] - 57s - loss: 0.2144 - acc: 0.9190 - val_loss: 0.2756 - val_acc: 0.9129\n",
      "Epoch 10/10\n",
      "29/29 [==============================] - 57s - loss: 0.2143 - acc: 0.9227 - val_loss: 0.2613 - val_acc: 0.9216\n"
     ]
    }
   ],
   "source": [
    "hist = model.fit_generator(tr_batches_aug,\n",
    "                    steps_per_epoch=(tr_batches_aug.n//batch_size)+1,\n",
    "                    validation_data=va_batches,\n",
    "                    validation_steps=(va_batches.n//batch_size)+1,\n",
    "                    epochs=10)"
   ]
  },
  {
   "cell_type": "code",
   "execution_count": 130,
   "metadata": {},
   "outputs": [
    {
     "data": {
      "image/png": "[encoded data removed]",
      "text/plain": [
       "<matplotlib.figure.Figure at 0x2b997c23dcf8>"
      ]
     },
     "metadata": {},
     "output_type": "display_data"
    }
   ],
   "source": [
    "plt.plot(hist.history['loss'])\n",
    "plt.plot(hist.history['val_loss'])\n",
    "plt.title('model loss')\n",
    "plt.xlabel('epoch')\n",
    "plt.ylabel('loss')\n",
    "plt.legend(['train', 'valid'], loc='upper left')\n",
    "plt.show()"
   ]
  },
  {
   "cell_type": "code",
   "execution_count": null,
   "metadata": {
    "collapsed": true
   },
   "outputs": [],
   "source": [
    "#as train/valid loss keep going down together going down lets do another 10 epochs"
   ]
  },
  {
   "cell_type": "code",
   "execution_count": 131,
   "metadata": {},
   "outputs": [
    {
     "name": "stdout",
     "output_type": "stream",
     "text": [
      "Epoch 1/10\n",
      "29/29 [==============================] - 70s - loss: 0.2167 - acc: 0.9215 - val_loss: 0.2506 - val_acc: 0.9227\n",
      "Epoch 2/10\n",
      "29/29 [==============================] - 57s - loss: 0.1954 - acc: 0.9293 - val_loss: 0.2527 - val_acc: 0.9237\n",
      "Epoch 3/10\n",
      "29/29 [==============================] - 57s - loss: 0.1720 - acc: 0.9363 - val_loss: 0.2388 - val_acc: 0.9259\n",
      "Epoch 4/10\n",
      "29/29 [==============================] - 58s - loss: 0.2003 - acc: 0.9258 - val_loss: 0.2604 - val_acc: 0.9248\n",
      "Epoch 5/10\n",
      "29/29 [==============================] - 57s - loss: 0.1791 - acc: 0.9358 - val_loss: 0.2584 - val_acc: 0.9227\n",
      "Epoch 6/10\n",
      "29/29 [==============================] - 57s - loss: 0.1797 - acc: 0.9391 - val_loss: 0.2801 - val_acc: 0.9270\n",
      "Epoch 7/10\n",
      "29/29 [==============================] - 57s - loss: 0.1656 - acc: 0.9375 - val_loss: 0.2783 - val_acc: 0.9259\n",
      "Epoch 8/10\n",
      "29/29 [==============================] - 57s - loss: 0.1750 - acc: 0.9347 - val_loss: 0.2651 - val_acc: 0.9227\n",
      "Epoch 9/10\n",
      "29/29 [==============================] - 57s - loss: 0.1478 - acc: 0.9453 - val_loss: 0.2699 - val_acc: 0.9205\n",
      "Epoch 10/10\n",
      "29/29 [==============================] - 57s - loss: 0.1435 - acc: 0.9441 - val_loss: 0.2780 - val_acc: 0.9161\n"
     ]
    }
   ],
   "source": [
    "hist = model.fit_generator(tr_batches_aug,\n",
    "                    steps_per_epoch=(tr_batches_aug.n//batch_size)+1,\n",
    "                    validation_data=va_batches,\n",
    "                    validation_steps=(va_batches.n//batch_size)+1,\n",
    "                    epochs=10)"
   ]
  },
  {
   "cell_type": "code",
   "execution_count": 133,
   "metadata": {},
   "outputs": [
    {
     "data": {
      "image/png": "[encoded data removed]",
      "text/plain": [
       "<matplotlib.figure.Figure at 0x2b9963af0668>"
      ]
     },
     "metadata": {},
     "output_type": "display_data"
    }
   ],
   "source": [
    "plt.plot(hist.history['acc'])\n",
    "plt.plot(hist.history['val_acc'])\n",
    "plt.title('model loss')\n",
    "plt.xlabel('epoch')\n",
    "plt.ylabel('loss')\n",
    "plt.legend(['train', 'valid'], loc='upper left')\n",
    "plt.show()"
   ]
  },
  {
   "cell_type": "code",
   "execution_count": 132,
   "metadata": {},
   "outputs": [
    {
     "data": {
      "image/png": "[encoded data removed]",
      "text/plain": [
       "<matplotlib.figure.Figure at 0x2b997c23dfd0>"
      ]
     },
     "metadata": {},
     "output_type": "display_data"
    }
   ],
   "source": [
    "plt.plot(hist.history['loss'])\n",
    "plt.plot(hist.history['val_loss'])\n",
    "plt.title('model loss')\n",
    "plt.xlabel('epoch')\n",
    "plt.ylabel('loss')\n",
    "plt.legend(['train', 'valid'], loc='upper left')\n",
    "plt.show()"
   ]
  },
  {
   "cell_type": "code",
   "execution_count": null,
   "metadata": {
    "collapsed": true
   },
   "outputs": [],
   "source": [
    "# ok that looks like over fitting now."
   ]
  },
  {
   "cell_type": "code",
   "execution_count": null,
   "metadata": {
    "collapsed": true
   },
   "outputs": [],
   "source": [
    "# what is it about this change (only having dropout on the last layer?) that made it better tho?\n",
    "# changing the data augmentation?\n",
    "#i think the models before had too much bias (one hidden layer on top, too many dropouts early on losing information)\n",
    "# now we have two layers and we wait until the last layer to dropout/generalize\n",
    "# ok lets try a smaller batch size maybe 32 instaed of 64"
   ]
  },
  {
   "cell_type": "code",
   "execution_count": 135,
   "metadata": {
    "collapsed": true
   },
   "outputs": [],
   "source": [
    "# ik lets try something else, 1 incraese hidden features to 1024 from conv net\n",
    "# decrease bathc size, dropout half the features, we may just need psuedo label\n",
    "# because we are overfitting, and have high variance\n",
    "batch_size = 32\n",
    "\n",
    "top_model = Sequential()\n",
    "top_model.add(Flatten(input_shape=base_model.output_shape[1:]))\n",
    "top_model.add(BatchNormalization())\n",
    "top_model.add(Dense(1024, activation='relu'))\n",
    "top_model.add(BatchNormalization())\n",
    "top_model.add(Dropout(0.5))\n",
    "top_model.add(Dense(256, activation='relu'))\n",
    "top_model.add(BatchNormalization())\n",
    "top_model.add(Dense(2, activation='sigmoid'))\n",
    "\n",
    "model = Model(inputs=base_model.input, outputs=top_model(base_model.output))\n",
    "model.compile(loss='binary_crossentropy', optimizer=optimizers.Adam(lr=0.0001), metrics=['accuracy'])"
   ]
  },
  {
   "cell_type": "code",
   "execution_count": 136,
   "metadata": {},
   "outputs": [
    {
     "name": "stdout",
     "output_type": "stream",
     "text": [
      "Epoch 1/10\n",
      "58/58 [==============================] - 137s - loss: 0.4142 - acc: 0.8142 - val_loss: 0.3608 - val_acc: 0.8831\n",
      "Epoch 2/10\n",
      "58/58 [==============================] - 117s - loss: 0.2703 - acc: 0.9024 - val_loss: 0.3600 - val_acc: 0.8917\n",
      "Epoch 3/10\n",
      "58/58 [==============================] - 118s - loss: 0.2194 - acc: 0.9187 - val_loss: 0.3263 - val_acc: 0.9005\n",
      "Epoch 4/10\n",
      "58/58 [==============================] - 117s - loss: 0.1957 - acc: 0.9291 - val_loss: 0.3112 - val_acc: 0.9057\n",
      "Epoch 5/10\n",
      "58/58 [==============================] - 118s - loss: 0.1710 - acc: 0.9332 - val_loss: 0.2985 - val_acc: 0.9157\n",
      "Epoch 6/10\n",
      "58/58 [==============================] - 117s - loss: 0.1680 - acc: 0.9412 - val_loss: 0.2772 - val_acc: 0.9163\n",
      "Epoch 7/10\n",
      "58/58 [==============================] - 117s - loss: 0.1478 - acc: 0.9450 - val_loss: 0.2779 - val_acc: 0.9163\n",
      "Epoch 8/10\n",
      "58/58 [==============================] - 117s - loss: 0.1392 - acc: 0.9498 - val_loss: 0.2339 - val_acc: 0.9280\n",
      "Epoch 9/10\n",
      "58/58 [==============================] - 118s - loss: 0.1233 - acc: 0.9538 - val_loss: 0.2878 - val_acc: 0.9169\n",
      "Epoch 10/10\n",
      "58/58 [==============================] - 118s - loss: 0.1282 - acc: 0.9509 - val_loss: 0.2652 - val_acc: 0.9227\n"
     ]
    }
   ],
   "source": [
    "hist = model.fit_generator(tr_batches_aug,\n",
    "                    steps_per_epoch=(tr_batches_aug.n//batch_size)+1,\n",
    "                    validation_data=va_batches,\n",
    "                    validation_steps=(va_batches.n//batch_size)+1,\n",
    "                    epochs=10)"
   ]
  },
  {
   "cell_type": "code",
   "execution_count": 137,
   "metadata": {},
   "outputs": [
    {
     "data": {
      "image/png": "[encoded data removed]",
      "text/plain": [
       "<matplotlib.figure.Figure at 0x2b997d723f98>"
      ]
     },
     "metadata": {},
     "output_type": "display_data"
    }
   ],
   "source": [
    "plt.plot(hist.history['acc'])\n",
    "plt.plot(hist.history['val_acc'])\n",
    "plt.title('model loss')\n",
    "plt.xlabel('epoch')\n",
    "plt.ylabel('loss')\n",
    "plt.legend(['train', 'valid'], loc='upper left')\n",
    "plt.show()"
   ]
  },
  {
   "cell_type": "code",
   "execution_count": 138,
   "metadata": {},
   "outputs": [
    {
     "data": {
      "image/png": "[encoded data removed]",
      "text/plain": [
       "<matplotlib.figure.Figure at 0x2b997cc47ba8>"
      ]
     },
     "metadata": {},
     "output_type": "display_data"
    }
   ],
   "source": [
    "plt.plot(hist.history['loss'])\n",
    "plt.plot(hist.history['val_loss'])\n",
    "plt.title('model loss')\n",
    "plt.xlabel('epoch')\n",
    "plt.ylabel('loss')\n",
    "plt.legend(['train', 'valid'], loc='upper left')\n",
    "plt.show()"
   ]
  },
  {
   "cell_type": "code",
   "execution_count": 139,
   "metadata": {},
   "outputs": [
    {
     "name": "stdout",
     "output_type": "stream",
     "text": [
      "Epoch 1/5\n",
      "58/58 [==============================] - 136s - loss: 0.1117 - acc: 0.9636 - val_loss: 0.3062 - val_acc: 0.9133\n",
      "Epoch 2/5\n",
      "58/58 [==============================] - 118s - loss: 0.1116 - acc: 0.9603 - val_loss: 0.2546 - val_acc: 0.9280\n",
      "Epoch 3/5\n",
      "58/58 [==============================] - 118s - loss: 0.1272 - acc: 0.9518 - val_loss: 0.2682 - val_acc: 0.9221\n",
      "Epoch 4/5\n",
      "58/58 [==============================] - 118s - loss: 0.0952 - acc: 0.9633 - val_loss: 0.2636 - val_acc: 0.9286\n",
      "Epoch 5/5\n",
      "58/58 [==============================] - 118s - loss: 0.1028 - acc: 0.9607 - val_loss: 0.2670 - val_acc: 0.9256\n"
     ]
    }
   ],
   "source": [
    "# lets just try training a little slow, validation lss gets unstable and starts jumping around\n",
    "# indiactes maybe a slower rate\n",
    "model.optimizer.lr = 0.00001\n",
    "hist = model.fit_generator(tr_batches_aug,\n",
    "                    steps_per_epoch=(tr_batches_aug.n//batch_size)+1,\n",
    "                    validation_data=va_batches,\n",
    "                    validation_steps=(va_batches.n//batch_size)+1,\n",
    "                    epochs=5)"
   ]
  },
  {
   "cell_type": "code",
   "execution_count": 140,
   "metadata": {},
   "outputs": [
    {
     "data": {
      "image/png": "[encoded data removed]",
      "text/plain": [
       "<matplotlib.figure.Figure at 0x2b997d6fe518>"
      ]
     },
     "metadata": {},
     "output_type": "display_data"
    }
   ],
   "source": [
    "plt.plot(hist.history['acc'])\n",
    "plt.plot(hist.history['val_acc'])\n",
    "plt.title('model loss')\n",
    "plt.xlabel('epoch')\n",
    "plt.ylabel('loss')\n",
    "plt.legend(['train', 'valid'], loc='upper left')\n",
    "plt.show()"
   ]
  },
  {
   "cell_type": "code",
   "execution_count": 141,
   "metadata": {},
   "outputs": [
    {
     "data": {
      "image/png": "[encoded data removed]",
      "text/plain": [
       "<matplotlib.figure.Figure at 0x2b997d811e80>"
      ]
     },
     "metadata": {},
     "output_type": "display_data"
    }
   ],
   "source": [
    "plt.plot(hist.history['loss'])\n",
    "plt.plot(hist.history['val_loss'])\n",
    "plt.title('model loss')\n",
    "plt.xlabel('epoch')\n",
    "plt.ylabel('loss')\n",
    "plt.legend(['train', 'valid'], loc='upper left')\n",
    "plt.show()"
   ]
  },
  {
   "cell_type": "code",
   "execution_count": null,
   "metadata": {
    "collapsed": true
   },
   "outputs": [],
   "source": [
    "# ok looks like weve pushed that to the limit buttt\n",
    "# the validation and training loss are moving in sync (more or less)\n",
    "# so it looks like this isnt overfitting toooo bad"
   ]
  },
  {
   "cell_type": "code",
   "execution_count": null,
   "metadata": {
    "collapsed": true
   },
   "outputs": [],
   "source": [
    "# i think next we should uh look to see the ones were misclassifying.\n",
    "# could also try changing input resolutions (to a bigger res 400 X 300 as specified in forum)\n",
    "# could also try segmenting the image classifying segments and taking the highest prediction as\n",
    "# the prediciton for the whole image, this has the effect of essentially craeting *more* data"
   ]
  },
  {
   "cell_type": "code",
   "execution_count": null,
   "metadata": {
    "collapsed": true
   },
   "outputs": [],
   "source": [
    "#submission #5 was awful, lowest score yet.... even tho seems like best model yet."
   ]
  },
  {
   "cell_type": "code",
   "execution_count": null,
   "metadata": {
    "collapsed": true
   },
   "outputs": [],
   "source": [
    "# ok ok we could also try retraining come of the later conv layers might be interesting.\n",
    "# could also try a simpler conv net."
   ]
  },
  {
   "cell_type": "code",
   "execution_count": null,
   "metadata": {
    "collapsed": true
   },
   "outputs": [],
   "source": [
    "# ill try to replicate forums 50 epoch training while im doing other stuff"
   ]
  },
  {
   "cell_type": "code",
   "execution_count": 176,
   "metadata": {
    "collapsed": true
   },
   "outputs": [],
   "source": [
    "img_rows, img_cols, img_channel = 224, 224, 3\n",
    "base_model = applications.VGG16(weights='imagenet', include_top=False, input_shape=(img_rows, img_cols, img_channel))\n",
    "add_model = Sequential()\n",
    "add_model.add(Flatten(input_shape=base_model.output_shape[1:]))\n",
    "add_model.add(Dense(256, activation='relu'))\n",
    "add_model.add(Dense(2, activation='softmax'))\n",
    "\n",
    "model = Model(inputs=base_model.input, outputs=add_model(base_model.output))\n",
    "model.compile(loss='binary_crossentropy', optimizer=optimizers.SGD(lr=1e-4, momentum=0.9),metrics=['accuracy'])"
   ]
  },
  {
   "cell_type": "code",
   "execution_count": 165,
   "metadata": {},
   "outputs": [
    {
     "name": "stdout",
     "output_type": "stream",
     "text": [
      "Epoch 1/50\n",
      "58/58 [==============================] - 228s - loss: 0.9369 - acc: 0.8090 - val_loss: 0.1509 - val_acc: 0.9415\n",
      "Epoch 2/50\n",
      "58/58 [==============================] - 201s - loss: 0.1781 - acc: 0.9358 - val_loss: 0.1889 - val_acc: 0.9274\n",
      "Epoch 3/50\n",
      "58/58 [==============================] - 202s - loss: 0.1385 - acc: 0.9476 - val_loss: 0.0990 - val_acc: 0.9660\n",
      "Epoch 4/50\n",
      "58/58 [==============================] - 202s - loss: 0.1225 - acc: 0.9540 - val_loss: 0.0809 - val_acc: 0.9707\n",
      "Epoch 5/50\n",
      "58/58 [==============================] - 200s - loss: 0.0854 - acc: 0.9682 - val_loss: 0.0856 - val_acc: 0.9696\n",
      "Epoch 6/50\n",
      "58/58 [==============================] - 200s - loss: 0.0927 - acc: 0.9673 - val_loss: 0.0704 - val_acc: 0.9696\n",
      "Epoch 7/50\n",
      "58/58 [==============================] - 200s - loss: 0.0906 - acc: 0.9670 - val_loss: 0.1006 - val_acc: 0.9707\n",
      "Epoch 8/50\n",
      "58/58 [==============================] - 199s - loss: 0.0663 - acc: 0.9786 - val_loss: 0.0730 - val_acc: 0.9707\n",
      "Epoch 9/50\n",
      "58/58 [==============================] - 201s - loss: 0.0557 - acc: 0.9804 - val_loss: 0.0695 - val_acc: 0.9719\n",
      "Epoch 10/50\n",
      "58/58 [==============================] - 199s - loss: 0.0582 - acc: 0.9783 - val_loss: 0.0691 - val_acc: 0.9719\n",
      "Epoch 11/50\n",
      "58/58 [==============================] - 200s - loss: 0.0542 - acc: 0.9810 - val_loss: 0.0855 - val_acc: 0.9754\n",
      "Epoch 12/50\n",
      "58/58 [==============================] - 201s - loss: 0.0521 - acc: 0.9817 - val_loss: 0.0905 - val_acc: 0.9637\n",
      "Epoch 13/50\n",
      "58/58 [==============================] - 201s - loss: 0.0375 - acc: 0.9874 - val_loss: 0.0832 - val_acc: 0.9731\n",
      "Epoch 14/50\n",
      "58/58 [==============================] - 201s - loss: 0.0426 - acc: 0.9856 - val_loss: 0.0714 - val_acc: 0.9801\n",
      "Epoch 15/50\n",
      "58/58 [==============================] - 200s - loss: 0.0380 - acc: 0.9871 - val_loss: 0.0761 - val_acc: 0.9813\n",
      "Epoch 16/50\n",
      "58/58 [==============================] - 200s - loss: 0.0344 - acc: 0.9883 - val_loss: 0.0816 - val_acc: 0.9789\n",
      "Epoch 17/50\n",
      "58/58 [==============================] - 200s - loss: 0.0470 - acc: 0.9833 - val_loss: 0.0896 - val_acc: 0.9731\n",
      "Epoch 18/50\n",
      "58/58 [==============================] - 201s - loss: 0.0555 - acc: 0.9807 - val_loss: 0.0713 - val_acc: 0.9813\n",
      "Epoch 19/50\n",
      "58/58 [==============================] - 200s - loss: 0.0296 - acc: 0.9898 - val_loss: 0.0667 - val_acc: 0.9801\n",
      "Epoch 20/50\n",
      "58/58 [==============================] - 200s - loss: 0.0201 - acc: 0.9949 - val_loss: 0.0851 - val_acc: 0.9754\n",
      "Epoch 21/50\n",
      "58/58 [==============================] - 199s - loss: 0.0320 - acc: 0.9899 - val_loss: 0.0736 - val_acc: 0.9778\n",
      "Epoch 22/50\n",
      "58/58 [==============================] - 200s - loss: 0.0247 - acc: 0.9915 - val_loss: 0.0809 - val_acc: 0.9778\n",
      "Epoch 23/50\n",
      "58/58 [==============================] - 199s - loss: 0.0209 - acc: 0.9921 - val_loss: 0.0682 - val_acc: 0.9848\n",
      "Epoch 24/50\n",
      "58/58 [==============================] - 199s - loss: 0.0202 - acc: 0.9940 - val_loss: 0.0754 - val_acc: 0.9789\n",
      "Epoch 25/50\n",
      "58/58 [==============================] - 199s - loss: 0.0165 - acc: 0.9941 - val_loss: 0.1057 - val_acc: 0.9731\n",
      "Epoch 26/50\n",
      "58/58 [==============================] - 200s - loss: 0.0197 - acc: 0.9927 - val_loss: 0.0910 - val_acc: 0.9766\n",
      "Epoch 27/50\n",
      "58/58 [==============================] - 200s - loss: 0.0108 - acc: 0.9964 - val_loss: 0.0870 - val_acc: 0.9824\n",
      "Epoch 28/50\n",
      "58/58 [==============================] - 199s - loss: 0.0146 - acc: 0.9962 - val_loss: 0.0783 - val_acc: 0.9778\n",
      "Epoch 29/50\n",
      "58/58 [==============================] - 198s - loss: 0.0119 - acc: 0.9969 - val_loss: 0.1023 - val_acc: 0.9742\n",
      "Epoch 30/50\n",
      "58/58 [==============================] - 200s - loss: 0.0185 - acc: 0.9937 - val_loss: 0.0871 - val_acc: 0.9742\n",
      "Epoch 31/50\n",
      "58/58 [==============================] - 201s - loss: 0.0139 - acc: 0.9962 - val_loss: 0.0887 - val_acc: 0.9778\n",
      "Epoch 32/50\n",
      "58/58 [==============================] - 200s - loss: 0.0225 - acc: 0.9913 - val_loss: 0.0687 - val_acc: 0.9824\n",
      "Epoch 33/50\n",
      "58/58 [==============================] - 200s - loss: 0.0096 - acc: 0.9964 - val_loss: 0.0799 - val_acc: 0.9824\n",
      "Epoch 34/50\n",
      "58/58 [==============================] - 200s - loss: 0.0119 - acc: 0.9960 - val_loss: 0.1067 - val_acc: 0.9707\n",
      "Epoch 35/50\n",
      "58/58 [==============================] - 199s - loss: 0.0073 - acc: 0.9973 - val_loss: 0.0835 - val_acc: 0.9848\n",
      "Epoch 36/50\n",
      "58/58 [==============================] - 199s - loss: 0.0104 - acc: 0.9960 - val_loss: 0.0996 - val_acc: 0.9813\n",
      "Epoch 37/50\n",
      "58/58 [==============================] - 198s - loss: 0.0125 - acc: 0.9948 - val_loss: 0.0804 - val_acc: 0.9813\n",
      "Epoch 38/50\n",
      "58/58 [==============================] - 198s - loss: 0.0057 - acc: 0.9992 - val_loss: 0.0846 - val_acc: 0.9824\n",
      "Epoch 39/50\n",
      "58/58 [==============================] - 197s - loss: 0.0084 - acc: 0.9966 - val_loss: 0.0764 - val_acc: 0.9848\n",
      "Epoch 40/50\n",
      "58/58 [==============================] - 198s - loss: 0.0056 - acc: 0.9983 - val_loss: 0.0881 - val_acc: 0.9848\n",
      "Epoch 41/50\n",
      "58/58 [==============================] - 198s - loss: 0.0100 - acc: 0.9970 - val_loss: 0.0862 - val_acc: 0.9848\n",
      "Epoch 42/50\n",
      "58/58 [==============================] - 198s - loss: 0.0032 - acc: 0.9989 - val_loss: 0.0977 - val_acc: 0.9848\n",
      "Epoch 43/50\n",
      "58/58 [==============================] - 197s - loss: 0.0040 - acc: 0.9992 - val_loss: 0.0899 - val_acc: 0.9836\n",
      "Epoch 44/50\n",
      "58/58 [==============================] - 198s - loss: 0.0053 - acc: 0.9981 - val_loss: 0.1088 - val_acc: 0.9801\n",
      "Epoch 45/50\n",
      "58/58 [==============================] - 198s - loss: 0.0043 - acc: 0.9987 - val_loss: 0.0768 - val_acc: 0.9836\n",
      "Epoch 46/50\n",
      "58/58 [==============================] - 198s - loss: 0.0083 - acc: 0.9966 - val_loss: 0.0944 - val_acc: 0.9778\n",
      "Epoch 47/50\n",
      "58/58 [==============================] - 198s - loss: 0.0048 - acc: 0.9981 - val_loss: 0.0910 - val_acc: 0.9801\n",
      "Epoch 48/50\n",
      "58/58 [==============================] - 198s - loss: 0.0130 - acc: 0.9957 - val_loss: 0.0777 - val_acc: 0.9824\n",
      "Epoch 49/50\n",
      "58/58 [==============================] - 198s - loss: 0.0055 - acc: 0.9984 - val_loss: 0.1012 - val_acc: 0.9801\n",
      "Epoch 50/50\n",
      "58/58 [==============================] - 199s - loss: 0.0046 - acc: 0.9987 - val_loss: 0.1091 - val_acc: 0.9801\n"
     ]
    }
   ],
   "source": [
    "batch_size=32\n",
    "epochs=50\n",
    "\n",
    "hist = model.fit_generator(\n",
    "    tr_batches_aug,\n",
    "    steps_per_epoch=(tr_batches_aug.n//batch_size)+1,\n",
    "    validation_data=va_batches,\n",
    "    validation_steps=(va_batches.n//batch_size)+1,\n",
    "    epochs=epochs,\n",
    "    callbacks=[ModelCheckpoint('VGG16-transferlearning.model', monitor='val_acc', save_best_only=True)]\n",
    ")"
   ]
  },
  {
   "cell_type": "code",
   "execution_count": 166,
   "metadata": {},
   "outputs": [
    {
     "data": {
      "image/png": "[encoded data removed]",
      "text/plain": [
       "<matplotlib.figure.Figure at 0x2b997e36dcf8>"
      ]
     },
     "metadata": {},
     "output_type": "display_data"
    }
   ],
   "source": [
    "plt.plot(hist.history['loss'])\n",
    "plt.plot(hist.history['val_loss'])\n",
    "plt.title('model loss')\n",
    "plt.xlabel('epoch')\n",
    "plt.ylabel('loss')\n",
    "plt.legend(['train', 'valid'], loc='upper left')\n",
    "plt.show()"
   ]
  },
  {
   "cell_type": "code",
   "execution_count": null,
   "metadata": {
    "collapsed": true
   },
   "outputs": [],
   "source": [
    "model.load_weights(os.path.join(DATA_DIR, 'VGG16-transferlearning.model'))"
   ]
  },
  {
   "cell_type": "code",
   "execution_count": 178,
   "metadata": {},
   "outputs": [
    {
     "data": {
      "text/plain": [
       "array([  9.99999881e-01,   1.00000000e+00,   2.03645602e-03, ...,\n",
       "         1.00000000e+00,   9.99999881e-01,   1.97031099e-04], dtype=float32)"
      ]
     },
     "execution_count": 178,
     "metadata": {},
     "output_type": "execute_result"
    }
   ],
   "source": [
    "batch_size=64\n",
    "preds = model.predict_generator(te_batches, (te_batches.n//batch_size)+1, workers=2)\n",
    "preds[:,1]"
   ]
  },
  {
   "cell_type": "code",
   "execution_count": 179,
   "metadata": {},
   "outputs": [
    {
     "data": {
      "text/plain": [
       "['unknown/324.jpg',\n",
       " 'unknown/47.jpg',\n",
       " 'unknown/966.jpg',\n",
       " 'unknown/1526.jpg',\n",
       " 'unknown/487.jpg']"
      ]
     },
     "execution_count": 179,
     "metadata": {},
     "output_type": "execute_result"
    }
   ],
   "source": [
    "fnames = te_batches.filenames\n",
    "fnames[:5]"
   ]
  },
  {
   "cell_type": "code",
   "execution_count": 180,
   "metadata": {},
   "outputs": [
    {
     "data": {
      "text/plain": [
       "array(['324', '47', '966', ..., '901', '1189', '125'], \n",
       "      dtype='<U4')"
      ]
     },
     "execution_count": 180,
     "metadata": {},
     "output_type": "execute_result"
    }
   ],
   "source": [
    "names = np.array(list(map(lambda x: x[8:].split('.')[0], fnames)))\n",
    "names"
   ]
  },
  {
   "cell_type": "code",
   "execution_count": 181,
   "metadata": {},
   "outputs": [
    {
     "name": "stdout",
     "output_type": "stream",
     "text": [
      "(1531,) (1531,)\n"
     ]
    }
   ],
   "source": [
    "print(names.shape, preds[:,1].shape)"
   ]
  },
  {
   "cell_type": "code",
   "execution_count": 182,
   "metadata": {},
   "outputs": [
    {
     "data": {
      "text/plain": [
       "(1531, 2)"
      ]
     },
     "execution_count": 182,
     "metadata": {},
     "output_type": "execute_result"
    }
   ],
   "source": [
    "subm_data = np.stack((names, preds[:,1]), axis=1)\n",
    "subm_data.shape"
   ]
  },
  {
   "cell_type": "code",
   "execution_count": 183,
   "metadata": {},
   "outputs": [
    {
     "data": {
      "text/html": [
       "<div>\n",
       "<style>\n",
       "    .dataframe thead tr:only-child th {\n",
       "        text-align: right;\n",
       "    }\n",
       "\n",
       "    .dataframe thead th {\n",
       "        text-align: left;\n",
       "    }\n",
       "\n",
       "    .dataframe tbody tr th {\n",
       "        vertical-align: top;\n",
       "    }\n",
       "</style>\n",
       "<table border=\"1\" class=\"dataframe\">\n",
       "  <thead>\n",
       "    <tr style=\"text-align: right;\">\n",
       "      <th></th>\n",
       "      <th>name</th>\n",
       "      <th>invasive</th>\n",
       "    </tr>\n",
       "  </thead>\n",
       "  <tbody>\n",
       "    <tr>\n",
       "      <th>0</th>\n",
       "      <td>324</td>\n",
       "      <td>0.9999998807907104</td>\n",
       "    </tr>\n",
       "    <tr>\n",
       "      <th>1</th>\n",
       "      <td>47</td>\n",
       "      <td>1.0</td>\n",
       "    </tr>\n",
       "    <tr>\n",
       "      <th>2</th>\n",
       "      <td>966</td>\n",
       "      <td>0.0020364560186862946</td>\n",
       "    </tr>\n",
       "    <tr>\n",
       "      <th>3</th>\n",
       "      <td>1526</td>\n",
       "      <td>0.0007167837466113269</td>\n",
       "    </tr>\n",
       "    <tr>\n",
       "      <th>4</th>\n",
       "      <td>487</td>\n",
       "      <td>1.0</td>\n",
       "    </tr>\n",
       "  </tbody>\n",
       "</table>\n",
       "</div>"
      ],
      "text/plain": [
       "   name               invasive\n",
       "0   324     0.9999998807907104\n",
       "1    47                    1.0\n",
       "2   966  0.0020364560186862946\n",
       "3  1526  0.0007167837466113269\n",
       "4   487                    1.0"
      ]
     },
     "execution_count": 183,
     "metadata": {},
     "output_type": "execute_result"
    }
   ],
   "source": [
    "df = pd.DataFrame(subm_data, columns=['name','invasive'])\n",
    "df.head()"
   ]
  },
  {
   "cell_type": "code",
   "execution_count": 184,
   "metadata": {
    "collapsed": true
   },
   "outputs": [],
   "source": [
    "df.to_csv(os.path.join(DATA_DIR, 'results', 'subm_june_2_2017.gz'), index=False, compression='gzip')"
   ]
  },
  {
   "cell_type": "code",
   "execution_count": 185,
   "metadata": {},
   "outputs": [
    {
     "name": "stdout",
     "output_type": "stream",
     "text": [
      "total 225K\r\n",
      "drwxr-x--- 2 yns207 yns207 4,0K  2 juin  09:07 \u001b[0m\u001b[38;5;27m.\u001b[0m/\r\n",
      "drwxr-x--- 6 yns207 yns207 4,0K  1 juin  20:55 \u001b[38;5;27m..\u001b[0m/\r\n",
      "-rw-r----- 1 yns207 yns207  17K  1 juin  11:37 \u001b[38;5;9msubm_june_1_2017_2.gz\u001b[0m\r\n",
      "-rw-r----- 1 yns207 yns207  19K  1 juin  16:07 \u001b[38;5;9msubm_june_1_2017_3.gz\u001b[0m\r\n",
      "-rw-r----- 1 yns207 yns207  19K  1 juin  16:58 \u001b[38;5;9msubm_june_1_2017_4.gz\u001b[0m\r\n",
      "-rw-r----- 1 yns207 yns207  19K  1 juin  20:34 \u001b[38;5;9msubm_june_1_2017_5.gz\u001b[0m\r\n",
      "-rw-r----- 1 yns207 yns207  14K  1 juin  23:58 \u001b[38;5;9msubm_june_1_2017_6.gz\u001b[0m\r\n",
      "-rw-r----- 1 yns207 yns207  17K  1 juin  11:19 \u001b[38;5;9msubm_june_1_2017.gz\u001b[0m\r\n",
      "-rw-r----- 1 yns207 yns207  14K  2 juin  09:07 \u001b[38;5;9msubm_june_2_2017.gz\u001b[0m\r\n",
      "-rw-r----- 1 yns207 yns207  18K 27 mai   22:36 \u001b[38;5;9msubm_may_27_2017_2.gz\u001b[0m\r\n",
      "-rw-r----- 1 yns207 yns207  17K 27 mai   11:45 \u001b[38;5;9msubm_may_27_2017.gz\u001b[0m\r\n",
      "-rw-r----- 1 yns207 yns207  18K 30 mai   14:04 \u001b[38;5;9msubm_may_29_2017_.gz\u001b[0m\r\n",
      "-rw-r----- 1 yns207 yns207  18K 30 mai   14:56 \u001b[38;5;9msubm_may_30_2017_2.gz\u001b[0m\r\n",
      "-rw-r----- 1 yns207 yns207  18K 30 mai   14:06 \u001b[38;5;9msubm_may_30_2017.gz\u001b[0m\r\n"
     ]
    }
   ],
   "source": [
    "%ls -lah $DATA_DIR/results"
   ]
  },
  {
   "cell_type": "code",
   "execution_count": null,
   "metadata": {
    "collapsed": true
   },
   "outputs": [],
   "source": []
  }
 ],
 "metadata": {
  "kernelspec": {
   "display_name": "Python 3",
   "language": "python",
   "name": "python3"
  },
  "language_info": {
   "codemirror_mode": {
    "name": "ipython",
    "version": 3
   },
   "file_extension": ".py",
   "mimetype": "text/x-python",
   "name": "python",
   "nbconvert_exporter": "python",
   "pygments_lexer": "ipython3",
   "version": "3.5.3"
  }
 },
 "nbformat": 4,
 "nbformat_minor": 2
}
