{
 "cells": [
  {
   "cell_type": "code",
   "execution_count": 1,
   "metadata": {
    "collapsed": true,
    "deletable": true,
    "editable": true
   },
   "outputs": [],
   "source": [
    "# trying to get some good results with vgg16\n",
    "# things to try, batchnormed vgg16"
   ]
  },
  {
   "cell_type": "code",
   "execution_count": 121,
   "metadata": {
    "collapsed": false,
    "deletable": true,
    "editable": true
   },
   "outputs": [
    {
     "data": {
      "text/plain": [
       "[name: \"/cpu:0\"\n",
       " device_type: \"CPU\"\n",
       " memory_limit: 268435456\n",
       " locality {\n",
       " }\n",
       " incarnation: 10971080971000754030, name: \"/gpu:0\"\n",
       " device_type: \"GPU\"\n",
       " memory_limit: 312213504\n",
       " locality {\n",
       "   bus_id: 1\n",
       " }\n",
       " incarnation: 1038396111316725881\n",
       " physical_device_desc: \"device: 0, name: Tesla K80, pci bus id: 0000:04:00.0\"]"
      ]
     },
     "execution_count": 121,
     "metadata": {},
     "output_type": "execute_result"
    }
   ],
   "source": [
    "from tensorflow.python.client import device_lib\n",
    "device_lib.list_local_devices() "
   ]
  },
  {
   "cell_type": "markdown",
   "metadata": {
    "deletable": true,
    "editable": true
   },
   "source": [
    "# setup"
   ]
  },
  {
   "cell_type": "code",
   "execution_count": 122,
   "metadata": {
    "collapsed": true,
    "deletable": true,
    "editable": true
   },
   "outputs": [],
   "source": [
    "import h5py\n",
    "import numpy as np\n",
    "import PIL\n",
    "\n",
    "from keras import backend as K\n",
    "from keras.utils.data_utils import get_file\n",
    "from keras.models import Sequential, Model\n",
    "from keras.layers import Input, GlobalAveragePooling2D\n",
    "from keras.layers.core import Flatten, Dense, Dropout, Lambda\n",
    "from keras.layers.convolutional import Convolution2D, MaxPooling2D, ZeroPadding2D\n",
    "from keras.optimizers import SGD, RMSprop, Adam\n",
    "from keras.preprocessing import image\n",
    "from keras.layers.normalization import BatchNormalization\n",
    "from keras.preprocessing import image\n",
    "from keras import optimizers\n",
    "from keras import applications\n",
    "from keras.callbacks import ModelCheckpoint, EarlyStopping\n",
    "\n",
    "from keras.applications.vgg16 import VGG16\n",
    "\n",
    "import matplotlib.image as mpimg\n",
    "import matplotlib.pyplot as plt"
   ]
  },
  {
   "cell_type": "code",
   "execution_count": 123,
   "metadata": {
    "collapsed": false,
    "deletable": true,
    "editable": true
   },
   "outputs": [
    {
     "name": "stdout",
     "output_type": "stream",
     "text": [
      "/home/yns207/nbs/machine_learning/invasive /scratch/yns207/data_invasive\n"
     ]
    }
   ],
   "source": [
    "import os\n",
    "import numpy as np\n",
    "from glob import glob\n",
    "import pandas as pd\n",
    "\n",
    "CUR_DIR = os.getcwd()\n",
    "DATA_DIR = os.path.join('/scratch', 'yns207', 'data_invasive')\n",
    "W_PATH = 'https://github.com/fchollet/deep-learning-models/releases/download/v0.1/vgg16_weights_tf_dim_ordering_tf_kernels_notop.h5'\n",
    "print(CUR_DIR, DATA_DIR)\n",
    "path = DATA_DIR\n",
    "test_path = os.path.join(path, 'test')\n",
    "models_path = os.path.join(path, 'results')\n",
    "train_path = os.path.join(path, 'train')\n",
    "valid_path = os.path.join(path, 'valid')\n",
    "batch_size = 64"
   ]
  },
  {
   "cell_type": "markdown",
   "metadata": {
    "deletable": true,
    "editable": true
   },
   "source": [
    "# make the model "
   ]
  },
  {
   "cell_type": "code",
   "execution_count": 124,
   "metadata": {
    "collapsed": true,
    "deletable": true,
    "editable": true
   },
   "outputs": [],
   "source": [
    "base_model = VGG16(weights='imagenet', include_top=False)"
   ]
  },
  {
   "cell_type": "code",
   "execution_count": 125,
   "metadata": {
    "collapsed": true,
    "deletable": true,
    "editable": true
   },
   "outputs": [],
   "source": [
    "for layer in base_model.layers:\n",
    "    layer.trainable = False\n",
    "    \n",
    "top_model = base_model.get_layer('block5_conv3').output\n",
    "top_model = GlobalAveragePooling2D()(top_model)\n",
    "top_model = Dense(256, activation='relu')(top_model)\n",
    "top_model = Dropout(0.5)(top_model)\n",
    "top_model = Dense(1, activation='sigmoid')(top_model)\n",
    "\n",
    "model = Model(inputs=base_model.input, outputs=top_model)\n",
    "model.compile(loss='binary_crossentropy', \n",
    "              optimizer=optimizers.RMSprop(lr=0.001),\n",
    "              metrics=['accuracy'])"
   ]
  },
  {
   "cell_type": "code",
   "execution_count": 56,
   "metadata": {
    "collapsed": false,
    "deletable": true,
    "editable": true
   },
   "outputs": [
    {
     "name": "stdout",
     "output_type": "stream",
     "text": [
      "Found 1836 images belonging to 2 classes.\n",
      "Found 1836 images belonging to 2 classes.\n",
      "Found 459 images belonging to 2 classes.\n",
      "Found 1531 images belonging to 1 classes.\n"
     ]
    }
   ],
   "source": [
    "# gen = image.ImageDataGenerator()\n",
    "# gen_t = image.ImageDataGenerator(rescale=1., \n",
    "#             featurewise_center=True,\n",
    "#             rotation_range=10,\n",
    "#             width_shift_range=.1,\n",
    "#             height_shift_range=.1,\n",
    "#             shear_range=0.2,\n",
    "#             zoom_range=0.2,\n",
    "#             horizontal_flip=True,\n",
    "#             vertical_flip=False,\n",
    "#             fill_mode=\"reflect\")\n",
    "\n",
    "\n",
    "# gen.mean = np.array([111.32052594, 121.25063492, 103.65633209]).reshape(1,1,3)\n",
    "# gen_t.mean = np.array([111.32052594, 121.25063492, 103.65633209]).reshape(1,1,3)\n",
    "\n",
    "# tr_batches = gen.flow_from_directory(train_path, \n",
    "#                                      target_size=(224,224), \n",
    "#                                      class_mode='binary', \n",
    "#                                      shuffle=True, \n",
    "#                                      batch_size=batch_size)\n",
    "\n",
    "# tr_batches_aug = gen_t.flow_from_directory(train_path, \n",
    "#                                      target_size=(224,224), \n",
    "#                                      class_mode='binary', \n",
    "#                                      shuffle=True, \n",
    "#                                      batch_size=batch_size)\n",
    "\n",
    "# va_batches = gen.flow_from_directory(valid_path, \n",
    "#                                      target_size=(224,224), \n",
    "#                                      class_mode='binary', \n",
    "#                                      shuffle=False, \n",
    "#                                      batch_size=batch_size)\n",
    "\n",
    "# te_batches = gen.flow_from_directory(test_path, \n",
    "#                                      target_size=(224,224), \n",
    "#                                      class_mode='binary', \n",
    "#                                      shuffle=False, \n",
    "#                                      batch_size=batch_size)"
   ]
  },
  {
   "cell_type": "code",
   "execution_count": 141,
   "metadata": {
    "collapsed": false,
    "deletable": true,
    "editable": true
   },
   "outputs": [
    {
     "name": "stdout",
     "output_type": "stream",
     "text": [
      "Found 1836 images belonging to 2 classes.\n",
      "Found 459 images belonging to 2 classes.\n",
      "Found 1531 images belonging to 1 classes.\n"
     ]
    }
   ],
   "source": [
    "# first train 300 by 225\n",
    "# next train on 600 by 450\n",
    "img_width = 600  # Change image size for training here\n",
    "img_height = 450 # Change image size for training here\n",
    "\n",
    "batch_size = 5 # i achieved good and fast results with this small minibatch size for training\n",
    "batch_size_val = 400 # if Tensorflow throws a memory error while validating at end of epoch, decrease validation batch size her\n",
    "\n",
    "# set data augmentation parameters here\n",
    "datagen = image.ImageDataGenerator(rescale=1., \n",
    "    featurewise_center=True,\n",
    "    rotation_range=10,\n",
    "    width_shift_range=.1,\n",
    "    height_shift_range=.1,\n",
    "    shear_range=0.2,\n",
    "    zoom_range=0.2,\n",
    "    horizontal_flip=True,\n",
    "    vertical_flip=False,\n",
    "    fill_mode=\"reflect\")\n",
    "\n",
    "# normalization neccessary for correct image input to VGG16\n",
    "datagen.mean=np.array([103.939, 116.779, 123.68],dtype=np.float32).reshape(1,1,3)\n",
    "\n",
    "# no data augmentation for validation and test set\n",
    "validgen = image.ImageDataGenerator(rescale=1., featurewise_center=True)\n",
    "validgen.mean=np.array([103.939, 116.779, 123.68],dtype=np.float32).reshape(1,1,3)\n",
    "\n",
    "\n",
    "train_gen = datagen.flow_from_directory(\n",
    "        train_path,\n",
    "        target_size=(img_height, img_width),\n",
    "        batch_size=batch_size,\n",
    "        class_mode=\"binary\",\n",
    "        shuffle=True, \n",
    "        #save_to_dir=\"_augmented_images/\", \n",
    "        #save_prefix=\"aug_\"\n",
    "        )\n",
    "\n",
    "val_gen = validgen.flow_from_directory(\n",
    "        valid_path,\n",
    "        target_size=(img_height, img_width),\n",
    "        batch_size=batch_size,\n",
    "        class_mode=\"binary\",\n",
    "        shuffle=True)\n",
    "\n",
    "test_gen = validgen.flow_from_directory(\n",
    "        test_path,\n",
    "        target_size=(img_height, img_width),\n",
    "        batch_size=1,\n",
    "        class_mode=\"binary\",\n",
    "        shuffle=False)\n",
    "\n",
    "train_samples = len(train_gen.filenames)\n",
    "validation_samples = len(val_gen.filenames)\n",
    "test_samples = len(test_gen.filenames)"
   ]
  },
  {
   "cell_type": "code",
   "execution_count": 129,
   "metadata": {
    "collapsed": false,
    "deletable": true,
    "editable": true
   },
   "outputs": [
    {
     "name": "stdout",
     "output_type": "stream",
     "text": [
      "Epoch 1/10\n",
      "368/368 [==============================] - 75s - loss: 0.3204 - acc: 0.8717 - val_loss: 0.2022 - val_acc: 0.9325\n",
      "Epoch 2/10\n",
      "368/368 [==============================] - 73s - loss: 0.2728 - acc: 0.9022 - val_loss: 0.1808 - val_acc: 0.9281\n",
      "Epoch 3/10\n",
      "368/368 [==============================] - 73s - loss: 0.2476 - acc: 0.9174 - val_loss: 0.2210 - val_acc: 0.9434\n",
      "Epoch 4/10\n",
      "368/368 [==============================] - 73s - loss: 0.2341 - acc: 0.9185 - val_loss: 0.2022 - val_acc: 0.9281\n",
      "Epoch 5/10\n",
      "368/368 [==============================] - 73s - loss: 0.2332 - acc: 0.9255 - val_loss: 0.1680 - val_acc: 0.9499\n",
      "Epoch 6/10\n",
      "368/368 [==============================] - 73s - loss: 0.2368 - acc: 0.9255 - val_loss: 0.2094 - val_acc: 0.9499\n",
      "Epoch 7/10\n",
      "368/368 [==============================] - 73s - loss: 0.2223 - acc: 0.9212 - val_loss: 0.3629 - val_acc: 0.9194\n",
      "Epoch 8/10\n",
      "368/368 [==============================] - 73s - loss: 0.2193 - acc: 0.9321 - val_loss: 0.1381 - val_acc: 0.9564\n",
      "Epoch 9/10\n",
      "368/368 [==============================] - 73s - loss: 0.1926 - acc: 0.9375 - val_loss: 0.2680 - val_acc: 0.9368\n",
      "Epoch 10/10\n",
      "368/368 [==============================] - 72s - loss: 0.2217 - acc: 0.9228 - val_loss: 0.2095 - val_acc: 0.9586\n"
     ]
    }
   ],
   "source": [
    "early_stopping = EarlyStopping(monitor='val_loss', patience=3, verbose=1, mode='auto')\n",
    "\n",
    "hist = model.fit_generator(train_gen,\n",
    "                    steps_per_epoch=(train_gen.n//batch_size)+1,\n",
    "                    validation_data=val_gen,\n",
    "                    validation_steps=(val_gen.n//batch_size)+1,\n",
    "                    epochs=10,\n",
    "                    callbacks=[early_stopping])"
   ]
  },
  {
   "cell_type": "code",
   "execution_count": 130,
   "metadata": {
    "collapsed": false,
    "deletable": true,
    "editable": true
   },
   "outputs": [
    {
     "data": {
      "image/png": "[encoded data removed]",
      "text/plain": [
       "<matplotlib.figure.Figure at 0x2b05e99a4c18>"
      ]
     },
     "metadata": {},
     "output_type": "display_data"
    }
   ],
   "source": [
    "plt.plot(hist.history['acc'])\n",
    "plt.plot(hist.history['val_acc'])\n",
    "plt.title('model loss')\n",
    "plt.xlabel('epoch')\n",
    "plt.ylabel('loss')\n",
    "plt.legend(['train', 'valid'], loc='upper left')\n",
    "plt.show()"
   ]
  },
  {
   "cell_type": "code",
   "execution_count": null,
   "metadata": {
    "collapsed": true,
    "deletable": true,
    "editable": true
   },
   "outputs": [],
   "source": [
    "# now train on bigger images"
   ]
  },
  {
   "cell_type": "code",
   "execution_count": 132,
   "metadata": {
    "collapsed": false,
    "deletable": true,
    "editable": true
   },
   "outputs": [
    {
     "name": "stdout",
     "output_type": "stream",
     "text": [
      "Epoch 1/10\n",
      "368/368 [==============================] - 268s - loss: 0.2478 - acc: 0.9255 - val_loss: 0.1248 - val_acc: 0.9477\n",
      "Epoch 2/10\n",
      "368/368 [==============================] - 267s - loss: 0.2011 - acc: 0.9250 - val_loss: 0.1103 - val_acc: 0.9651\n",
      "Epoch 3/10\n",
      "368/368 [==============================] - 267s - loss: 0.2178 - acc: 0.9332 - val_loss: 0.1490 - val_acc: 0.9521\n",
      "Epoch 4/10\n",
      "368/368 [==============================] - 267s - loss: 0.2043 - acc: 0.9342 - val_loss: 0.1485 - val_acc: 0.9542\n",
      "Epoch 5/10\n",
      "368/368 [==============================] - 267s - loss: 0.2144 - acc: 0.9342 - val_loss: 0.1362 - val_acc: 0.9542\n",
      "Epoch 6/10\n",
      "368/368 [==============================] - 267s - loss: 0.1843 - acc: 0.9413 - val_loss: 0.1075 - val_acc: 0.9695\n",
      "Epoch 7/10\n",
      "368/368 [==============================] - 268s - loss: 0.1819 - acc: 0.9429 - val_loss: 0.2661 - val_acc: 0.9434\n",
      "Epoch 8/10\n",
      "368/368 [==============================] - 267s - loss: 0.1865 - acc: 0.9402 - val_loss: 0.1518 - val_acc: 0.9651\n",
      "Epoch 9/10\n",
      "368/368 [==============================] - 268s - loss: 0.1822 - acc: 0.9435 - val_loss: 0.1974 - val_acc: 0.9521\n",
      "Epoch 10/10\n",
      "368/368 [==============================] - 267s - loss: 0.1654 - acc: 0.9478 - val_loss: 0.1962 - val_acc: 0.9586\n",
      "Epoch 00009: early stopping\n"
     ]
    }
   ],
   "source": [
    "early_stopping = EarlyStopping(monitor='val_loss', patience=3, verbose=1, mode='auto')\n",
    "\n",
    "hist2 = model.fit_generator(train_gen,\n",
    "                    steps_per_epoch=(train_gen.n//batch_size)+1,\n",
    "                    validation_data=val_gen, \n",
    "                    validation_steps=(val_gen.n//batch_size)+1,\n",
    "                    epochs=10,\n",
    "                    callbacks=[early_stopping])"
   ]
  },
  {
   "cell_type": "code",
   "execution_count": 133,
   "metadata": {
    "collapsed": false,
    "deletable": true,
    "editable": true
   },
   "outputs": [
    {
     "data": {
      "image/png": "[encoded data removed]",
      "text/plain": [
       "<matplotlib.figure.Figure at 0x2b065af28828>"
      ]
     },
     "metadata": {},
     "output_type": "display_data"
    }
   ],
   "source": [
    "plt.plot(hist2.history['acc'])\n",
    "plt.plot(hist2.history['val_acc'])\n",
    "plt.title('model loss')\n",
    "plt.xlabel('epoch')\n",
    "plt.ylabel('loss')\n",
    "plt.legend(['train', 'valid'], loc='upper left')\n",
    "plt.show()"
   ]
  },
  {
   "cell_type": "code",
   "execution_count": 134,
   "metadata": {
    "collapsed": false,
    "deletable": true,
    "editable": true
   },
   "outputs": [
    {
     "name": "stdout",
     "output_type": "stream",
     "text": [
      "0 input_11\n",
      "1 block1_conv1\n",
      "2 block1_conv2\n",
      "3 block1_pool\n",
      "4 block2_conv1\n",
      "5 block2_conv2\n",
      "6 block2_pool\n",
      "7 block3_conv1\n",
      "8 block3_conv2\n",
      "9 block3_conv3\n",
      "10 block3_pool\n",
      "11 block4_conv1\n",
      "12 block4_conv2\n",
      "13 block4_conv3\n",
      "14 block4_pool\n",
      "15 block5_conv1\n",
      "16 block5_conv2\n",
      "17 block5_conv3\n",
      "18 global_average_pooling2d_8\n",
      "19 dense_25\n",
      "20 dropout_13\n",
      "21 dense_26\n"
     ]
    }
   ],
   "source": [
    "for i, layer in enumerate(model.layers):\n",
    "   print(i, layer.name)"
   ]
  },
  {
   "cell_type": "code",
   "execution_count": 136,
   "metadata": {
    "collapsed": true,
    "deletable": true,
    "editable": true
   },
   "outputs": [],
   "source": [
    "for layer in model.layers[:15]:\n",
    "   layer.trainable = False\n",
    "for layer in model.layers[15:]:\n",
    "   layer.trainable = True"
   ]
  },
  {
   "cell_type": "code",
   "execution_count": 137,
   "metadata": {
    "collapsed": true,
    "deletable": true,
    "editable": true
   },
   "outputs": [],
   "source": [
    "model.compile(loss='binary_crossentropy', \n",
    "              optimizer=optimizers.SGD(lr=0.0001, momentum=0.9, nesterov=True),\n",
    "              metrics=['accuracy'])"
   ]
  },
  {
   "cell_type": "code",
   "execution_count": 139,
   "metadata": {
    "collapsed": false,
    "deletable": true,
    "editable": true
   },
   "outputs": [
    {
     "name": "stdout",
     "output_type": "stream",
     "text": [
      "Epoch 1/50\n",
      "368/368 [==============================] - 78s - loss: 0.1945 - acc: 0.9375 - val_loss: 0.1854 - val_acc: 0.9564\n",
      "Epoch 2/50\n",
      "368/368 [==============================] - 78s - loss: 0.1329 - acc: 0.9538 - val_loss: 0.1807 - val_acc: 0.9651\n",
      "Epoch 3/50\n",
      "368/368 [==============================] - 78s - loss: 0.1317 - acc: 0.9647 - val_loss: 0.2709 - val_acc: 0.9281\n",
      "Epoch 4/50\n",
      "368/368 [==============================] - 78s - loss: 0.1043 - acc: 0.9679 - val_loss: 0.1412 - val_acc: 0.9782\n",
      "Epoch 5/50\n",
      "368/368 [==============================] - 78s - loss: 0.0686 - acc: 0.9783 - val_loss: 0.1865 - val_acc: 0.9651\n",
      "Epoch 6/50\n",
      "368/368 [==============================] - 78s - loss: 0.0814 - acc: 0.9739 - val_loss: 0.1968 - val_acc: 0.9673\n",
      "Epoch 7/50\n",
      "368/368 [==============================] - 78s - loss: 0.0630 - acc: 0.9788 - val_loss: 0.1625 - val_acc: 0.9651\n",
      "Epoch 8/50\n",
      "368/368 [==============================] - 78s - loss: 0.0525 - acc: 0.9837 - val_loss: 0.2336 - val_acc: 0.9695\n",
      "Epoch 00007: early stopping\n"
     ]
    }
   ],
   "source": [
    "early_stopping = EarlyStopping(monitor='val_loss', patience=3, verbose=1, mode='auto')\n",
    "\n",
    "hist3 = model.fit_generator(train_gen,\n",
    "                    steps_per_epoch=(train_gen.n//batch_size)+1,\n",
    "                    validation_data=val_gen,\n",
    "                    validation_steps=(val_gen.n//batch_size)+1,\n",
    "                    epochs=50,\n",
    "                    callbacks=[early_stopping])"
   ]
  },
  {
   "cell_type": "code",
   "execution_count": 140,
   "metadata": {
    "collapsed": false,
    "deletable": true,
    "editable": true
   },
   "outputs": [
    {
     "data": {
      "image/png": "[encoded data removed]",
      "text/plain": [
       "<matplotlib.figure.Figure at 0x2b0616472828>"
      ]
     },
     "metadata": {},
     "output_type": "display_data"
    }
   ],
   "source": [
    "plt.plot(hist3.history['acc'])\n",
    "plt.plot(hist3.history['val_acc'])\n",
    "plt.title('model loss')\n",
    "plt.xlabel('epoch')\n",
    "plt.ylabel('loss')\n",
    "plt.legend(['train', 'valid'], loc='upper left')\n",
    "plt.show()"
   ]
  },
  {
   "cell_type": "code",
   "execution_count": null,
   "metadata": {
    "collapsed": false,
    "deletable": true,
    "editable": true
   },
   "outputs": [
    {
     "name": "stdout",
     "output_type": "stream",
     "text": [
      "Epoch 1/50\n",
      "368/368 [==============================] - 298s - loss: 0.0679 - acc: 0.9761 - val_loss: 0.0765 - val_acc: 0.9847\n",
      "Epoch 2/50\n",
      "116/368 [========>.....................] - ETA: 168s - loss: 0.0399 - acc: 0.9845"
     ]
    }
   ],
   "source": [
    "early_stopping = EarlyStopping(monitor='val_loss', patience=3, verbose=1, mode='auto')\n",
    "\n",
    "hist4 = model.fit_generator(train_gen,\n",
    "                    steps_per_epoch=(train_gen.n//batch_size)+1,\n",
    "                    validation_data=val_gen,\n",
    "                    validation_steps=(val_gen.n//batch_size)+1,\n",
    "                    epochs=50,\n",
    "                    callbacks=[early_stopping])"
   ]
  },
  {
   "cell_type": "code",
   "execution_count": 145,
   "metadata": {
    "collapsed": false,
    "deletable": true,
    "editable": true
   },
   "outputs": [
    {
     "data": {
      "text/plain": [
       "{'acc': [0.97603485981623328,\n",
       "  0.98366013169288635,\n",
       "  0.9842047939697901,\n",
       "  0.9831154694159826,\n",
       "  0.98856209218502045,\n",
       "  0.9891067544619242,\n",
       "  0.99291939040025079],\n",
       " 'loss': [0.067991047682415651,\n",
       "  0.045657748589312555,\n",
       "  0.038748488326475095,\n",
       "  0.03769434610627849,\n",
       "  0.034792641343198621,\n",
       "  0.029026156038299781,\n",
       "  0.022005224076484399],\n",
       " 'val_acc': [0.98474945624669397,\n",
       "  0.98257080713907874,\n",
       "  0.9891067544619242,\n",
       "  0.98692810535430908,\n",
       "  0.99128540356953943,\n",
       "  0.97821350892384851,\n",
       "  0.98692810535430908],\n",
       " 'val_loss': [0.076462542895143135,\n",
       "  0.075999496687243623,\n",
       "  0.033273871526067228,\n",
       "  0.053444825692974006,\n",
       "  0.061593734980861438,\n",
       "  0.11379778407116613,\n",
       "  0.089873482114858821]}"
      ]
     },
     "execution_count": 145,
     "metadata": {},
     "output_type": "execute_result"
    }
   ],
   "source": [
    "hist4.history"
   ]
  },
  {
   "cell_type": "code",
   "execution_count": 144,
   "metadata": {
    "collapsed": false,
    "deletable": true,
    "editable": true
   },
   "outputs": [
    {
     "data": {
      "image/png": "[encoded data removed]",
      "text/plain": [
       "<matplotlib.figure.Figure at 0x2b06164e6080>"
      ]
     },
     "metadata": {},
     "output_type": "display_data"
    }
   ],
   "source": [
    "plt.plot(hist4.history['acc'])\n",
    "plt.plot(hist4.history['val_acc'])\n",
    "plt.title('model loss')\n",
    "plt.xlabel('epoch')\n",
    "plt.ylabel('loss')\n",
    "plt.legend(['train', 'valid'], loc='upper left')\n",
    "plt.show()"
   ]
  },
  {
   "cell_type": "code",
   "execution_count": 146,
   "metadata": {
    "collapsed": false,
    "deletable": true,
    "editable": true
   },
   "outputs": [
    {
     "data": {
      "text/plain": [
       "array([  5.63764079e-05,   1.62924977e-03,   1.64495048e-03,\n",
       "         1.00000000e+00,   1.59299269e-03], dtype=float32)"
      ]
     },
     "execution_count": 146,
     "metadata": {},
     "output_type": "execute_result"
    }
   ],
   "source": [
    "batch_size=1\n",
    "preds = model.predict_generator(test_gen, (test_gen.n//batch_size), workers=2).flatten()"
   ]
  },
  {
   "cell_type": "code",
   "execution_count": 150,
   "metadata": {
    "collapsed": false,
    "deletable": true,
    "editable": true
   },
   "outputs": [
    {
     "data": {
      "text/plain": [
       "array([  5.63764079e-05,   1.62924977e-03,   1.64495048e-03,\n",
       "         1.00000000e+00,   1.59299269e-03,   1.00000000e+00,\n",
       "         2.70144636e-04,   1.51348431e-04,   1.00000000e+00,\n",
       "         1.00000000e+00], dtype=float32)"
      ]
     },
     "execution_count": 150,
     "metadata": {},
     "output_type": "execute_result"
    }
   ],
   "source": [
    "preds[:10]"
   ]
  },
  {
   "cell_type": "code",
   "execution_count": 147,
   "metadata": {
    "collapsed": false,
    "deletable": true,
    "editable": true
   },
   "outputs": [
    {
     "data": {
      "text/plain": [
       "['unknown/324.jpg',\n",
       " 'unknown/47.jpg',\n",
       " 'unknown/966.jpg',\n",
       " 'unknown/1526.jpg',\n",
       " 'unknown/487.jpg']"
      ]
     },
     "execution_count": 147,
     "metadata": {},
     "output_type": "execute_result"
    }
   ],
   "source": [
    "fnames = te_batches.filenames\n",
    "fnames[:5]"
   ]
  },
  {
   "cell_type": "code",
   "execution_count": 148,
   "metadata": {
    "collapsed": true,
    "deletable": true,
    "editable": true
   },
   "outputs": [],
   "source": [
    "names = np.array(list(map(lambda x: x[8:].split('.')[0], fnames)))"
   ]
  },
  {
   "cell_type": "code",
   "execution_count": 149,
   "metadata": {
    "collapsed": false,
    "deletable": true,
    "editable": true
   },
   "outputs": [
    {
     "name": "stdout",
     "output_type": "stream",
     "text": [
      "(1531,) (1531,)\n"
     ]
    }
   ],
   "source": [
    "print(names.shape, preds.shape)"
   ]
  },
  {
   "cell_type": "code",
   "execution_count": 151,
   "metadata": {
    "collapsed": true,
    "deletable": true,
    "editable": true
   },
   "outputs": [],
   "source": [
    "# round preds\n",
    "preds_round = []\n",
    "\n",
    "for pred in preds:\n",
    "    if (pred > .5):\n",
    "        preds_round.append(\"1\")\n",
    "    else:\n",
    "        preds_round.append(\"0\")"
   ]
  },
  {
   "cell_type": "code",
   "execution_count": 160,
   "metadata": {
    "collapsed": false,
    "deletable": true,
    "editable": true
   },
   "outputs": [
    {
     "data": {
      "text/plain": [
       "(1531, 2)"
      ]
     },
     "execution_count": 160,
     "metadata": {},
     "output_type": "execute_result"
    }
   ],
   "source": [
    "subm_data = np.stack((names, np.array(preds_round)), axis=1)\n",
    "subm_data.shape"
   ]
  },
  {
   "cell_type": "code",
   "execution_count": 161,
   "metadata": {
    "collapsed": false,
    "deletable": true,
    "editable": true
   },
   "outputs": [
    {
     "data": {
      "text/html": [
       "<div>\n",
       "<style>\n",
       "    .dataframe thead tr:only-child th {\n",
       "        text-align: right;\n",
       "    }\n",
       "\n",
       "    .dataframe thead th {\n",
       "        text-align: left;\n",
       "    }\n",
       "\n",
       "    .dataframe tbody tr th {\n",
       "        vertical-align: top;\n",
       "    }\n",
       "</style>\n",
       "<table border=\"1\" class=\"dataframe\">\n",
       "  <thead>\n",
       "    <tr style=\"text-align: right;\">\n",
       "      <th></th>\n",
       "      <th>name</th>\n",
       "      <th>invasive</th>\n",
       "    </tr>\n",
       "  </thead>\n",
       "  <tbody>\n",
       "    <tr>\n",
       "      <th>0</th>\n",
       "      <td>324</td>\n",
       "      <td>0</td>\n",
       "    </tr>\n",
       "    <tr>\n",
       "      <th>1</th>\n",
       "      <td>47</td>\n",
       "      <td>0</td>\n",
       "    </tr>\n",
       "    <tr>\n",
       "      <th>2</th>\n",
       "      <td>966</td>\n",
       "      <td>0</td>\n",
       "    </tr>\n",
       "    <tr>\n",
       "      <th>3</th>\n",
       "      <td>1526</td>\n",
       "      <td>1</td>\n",
       "    </tr>\n",
       "    <tr>\n",
       "      <th>4</th>\n",
       "      <td>487</td>\n",
       "      <td>0</td>\n",
       "    </tr>\n",
       "  </tbody>\n",
       "</table>\n",
       "</div>"
      ],
      "text/plain": [
       "   name invasive\n",
       "0   324        0\n",
       "1    47        0\n",
       "2   966        0\n",
       "3  1526        1\n",
       "4   487        0"
      ]
     },
     "execution_count": 161,
     "metadata": {},
     "output_type": "execute_result"
    }
   ],
   "source": [
    "df = pd.DataFrame(subm_data, columns=['name','invasive'])\n",
    "df.head()"
   ]
  },
  {
   "cell_type": "code",
   "execution_count": 162,
   "metadata": {
    "collapsed": true,
    "deletable": true,
    "editable": true
   },
   "outputs": [],
   "source": [
    "df.to_csv(os.path.join(DATA_DIR, 'results', 'subm_june_9_2017.gz'), index=False, compression='gzip')"
   ]
  },
  {
   "cell_type": "code",
   "execution_count": 163,
   "metadata": {
    "collapsed": false,
    "deletable": true,
    "editable": true
   },
   "outputs": [
    {
     "name": "stdout",
     "output_type": "stream",
     "text": [
      "total 280K\r\n",
      "drwxr-x--- 2 yns207 yns207 4,0K  9 juin  12:29 \u001b[0m\u001b[38;5;27m.\u001b[0m/\r\n",
      "drwxr-x--- 6 yns207 yns207 4,0K  1 juin  20:55 \u001b[38;5;27m..\u001b[0m/\r\n",
      "-rw-r----- 1 yns207 yns207  17K  9 juin  12:31 \u001b[38;5;9msubm_june_1_2017_2.gz\u001b[0m\r\n",
      "-rw-r----- 1 yns207 yns207  19K  9 juin  12:31 \u001b[38;5;9msubm_june_1_2017_3.gz\u001b[0m\r\n",
      "-rw-r----- 1 yns207 yns207  19K  9 juin  12:31 \u001b[38;5;9msubm_june_1_2017_4.gz\u001b[0m\r\n",
      "-rw-r----- 1 yns207 yns207  19K  9 juin  12:31 \u001b[38;5;9msubm_june_1_2017_5.gz\u001b[0m\r\n",
      "-rw-r----- 1 yns207 yns207  14K  9 juin  12:31 \u001b[38;5;9msubm_june_1_2017_6.gz\u001b[0m\r\n",
      "-rw-r----- 1 yns207 yns207  17K  9 juin  12:31 \u001b[38;5;9msubm_june_1_2017.gz\u001b[0m\r\n",
      "-rw-r----- 1 yns207 yns207  14K  9 juin  12:31 \u001b[38;5;9msubm_june_2_2017.gz\u001b[0m\r\n",
      "-rw-r----- 1 yns207 yns207 3,4K  9 juin  12:31 \u001b[38;5;9msubm_june_8_2017_2.gz\u001b[0m\r\n",
      "-rw-r----- 1 yns207 yns207  15K  9 juin  12:31 \u001b[38;5;9msubm_june_8_2017.gz\u001b[0m\r\n",
      "-rw-r----- 1 yns207 yns207 3,4K  9 juin  12:31 \u001b[38;5;9msubm_june_9_2017_2.gz\u001b[0m\r\n",
      "-rw-r----- 1 yns207 yns207 3,4K  9 juin  12:31 \u001b[38;5;9msubm_june_9_2017.gz\u001b[0m\r\n",
      "-rw-r----- 1 yns207 yns207  18K  9 juin  12:31 \u001b[38;5;9msubm_may_27_2017_2.gz\u001b[0m\r\n",
      "-rw-r----- 1 yns207 yns207  17K  9 juin  12:31 \u001b[38;5;9msubm_may_27_2017.gz\u001b[0m\r\n",
      "-rw-r----- 1 yns207 yns207  18K  9 juin  12:31 \u001b[38;5;9msubm_may_29_2017_.gz\u001b[0m\r\n",
      "-rw-r----- 1 yns207 yns207  18K  9 juin  12:31 \u001b[38;5;9msubm_may_30_2017_2.gz\u001b[0m\r\n",
      "-rw-r----- 1 yns207 yns207  18K  9 juin  12:31 \u001b[38;5;9msubm_may_30_2017.gz\u001b[0m\r\n"
     ]
    }
   ],
   "source": [
    "!touch $DATA_DIR/results/*\n",
    "%ls -lah $DATA_DIR/results"
   ]
  },
  {
   "cell_type": "code",
   "execution_count": null,
   "metadata": {
    "collapsed": true,
    "deletable": true,
    "editable": true
   },
   "outputs": [],
   "source": [
    "# so waht did i change?\n",
    "# i  used the vgg average and not the one i calculated to subtract from pixels\n",
    "# batch size changed to 5.\n",
    "# binary class mode is needed to use 1 output node with the sigmoid activation\n",
    "# imag sizing changed to 600 450\n",
    "# used rmsprop instaed of adam\n",
    "# differences between my implementation and the kaggle kernel: i trained on lareg imgs first, then on smaller\n",
    "# did that make a difference? -> it looks like training on smaller images AFTER bigs ones makse validation accurracy worse\n",
    "# but this doesntm ean that the other wya around isnt good.\n",
    "#added dropout on the last layer between the dense and output node\n",
    "# which of these is superficial or made things worse? which actually made things better\n",
    "# could we get a better result by adding two layers one with more nodes, then less nodes so it focuses\n",
    "# could we get a better result by resizing images?\n",
    "# what abut adding bathcnorm? waht about using a bathcnormed vgg16\n",
    "# what about psuedo labelling?\n",
    "# what about resnet? \n",
    "# check out this idea: http://blog.kaggle.com/2017/04/20/dogs-vs-cats-redux-playground-competition-3rd-place-interview-marco-lugo/"
   ]
  }
 ],
 "metadata": {
  "kernelspec": {
   "display_name": "Python 3",
   "language": "python",
   "name": "python3"
  },
  "language_info": {
   "codemirror_mode": {
    "name": "ipython",
    "version": 3
   },
   "file_extension": ".py",
   "mimetype": "text/x-python",
   "name": "python",
   "nbconvert_exporter": "python",
   "pygments_lexer": "ipython3",
   "version": "3.5.3"
  }
 },
 "nbformat": 4,
 "nbformat_minor": 2
}
